{
 "cells": [
  {
   "cell_type": "code",
   "execution_count": 4,
   "id": "e4d06ea7-a744-4898-81c5-6ec319e95471",
   "metadata": {},
   "outputs": [
    {
     "name": "stdout",
     "output_type": "stream",
     "text": [
      "User: octocat\n",
      "ID: 583231\n",
      "Profile URL: https://github.com/octocat\n"
     ]
    }
   ],
   "source": [
    "import requests\n",
    "\n",
    "url = \"https://api.github.com/users/octocat\"\n",
    "response = requests.get(url)\n",
    "data = response.json()\n",
    "\n",
    "print(\"User:\", data[\"login\"])\n",
    "print(\"ID:\", data[\"id\"])\n",
    "print(\"Profile URL:\", data[\"html_url\"])"
   ]
  },
  {
   "cell_type": "code",
   "execution_count": null,
   "id": "5e37f257-7f09-402c-8f1b-92bad84c2933",
   "metadata": {},
   "outputs": [],
   "source": []
  }
 ],
 "metadata": {
  "kernelspec": {
   "display_name": "Python 3 (ipykernel)",
   "language": "python",
   "name": "python3"
  },
  "language_info": {
   "codemirror_mode": {
    "name": "ipython",
    "version": 3
   },
   "file_extension": ".py",
   "mimetype": "text/x-python",
   "name": "python",
   "nbconvert_exporter": "python",
   "pygments_lexer": "ipython3",
   "version": "3.10.12"
  }
 },
 "nbformat": 4,
 "nbformat_minor": 5
}
