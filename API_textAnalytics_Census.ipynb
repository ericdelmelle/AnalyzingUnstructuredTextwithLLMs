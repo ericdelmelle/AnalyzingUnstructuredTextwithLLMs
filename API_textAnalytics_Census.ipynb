{
 "cells": [
  {
   "cell_type": "markdown",
   "metadata": {},
   "source": [
    "# Getting Data:  Working with APIs, TEXT analytics & Census\n",
    "\n",
    "- **Natural language processing via Philly's 311 API**\n",
    "    - Word frequencies\n",
    "    - Sentiment analysis"
   ]
  },
  {
   "cell_type": "code",
   "execution_count": 5,
   "metadata": {},
   "outputs": [],
   "source": [
    "import geopandas as gpd\n",
    "import holoviews as hv\n",
    "import hvplot.pandas\n",
    "import numpy as np\n",
    "import pandas as pd\n",
    "import seaborn as sns\n",
    "from matplotlib import pyplot as plt\n",
    "import requests\n",
    "# Show all columns\n",
    "pd.options.display.max_columns = 999"
   ]
  },
  {
   "cell_type": "markdown",
   "metadata": {},
   "source": [
    "# Natural Language Processing and the 311 Request API\n",
    "\n",
    "We pull data using the API for the Philly 311 system, available at: [https://iframe.publicstuff.com/#?client_id=242](https://iframe.publicstuff.com/#?client_id=242)\n",
    "\n",
    "![](imgs/philly-311.png)\n",
    "\n",
    "\n",
    "Let's take another look at the address where the site is pulling its data from:\n",
    "\n",
    "`https://vc0.publicstuff.com/api/2.0/requests_list?client_id=242&device=iframe&limit=35&page=1`\n",
    "\n",
    "\n",
    "This is just an **API request!** It's an example of a *non-public, internal* API, but we can reverse-engineer it to extract the data we want!\n",
    "\n",
    "Break it down into it's component parts:\n",
    "\n",
    "- **Base URL:** [https://vc0.publicstuff.com/api/2.0/requests_list](https://vc0.publicstuff.com/api/2.0/requests_list)\n",
    "- **Query parameters:** client_id, device, limit, page\n",
    "\n",
    "It looks likes \"client_id\" identifies data for the City of Philadelphia, which is definitely a required parameter. Otherwise, the other parameters seem optional, returning the requests on a certain device and viewing page.\n",
    "\n",
    "\n",
    "Let's test it out. We'll grab 2 requests from the first page:"
   ]
  },
  {
   "cell_type": "code",
   "execution_count": 6,
   "metadata": {},
   "outputs": [
    {
     "data": {
      "text/plain": [
       "{'response': {'requests': [{'request': {'id': 16613763,\n",
       "     'image_thumbnail': '',\n",
       "     'title': 'Other',\n",
       "     'description': '',\n",
       "     'status': 'submitted',\n",
       "     'address': '9956 Haldeman Ave, Philadelphia, PA 19115, USA',\n",
       "     'location': '',\n",
       "     'zipcode': None,\n",
       "     'foreign_id': '17469497',\n",
       "     'date_created': 1741639537,\n",
       "     'count_comments': 0,\n",
       "     'count_followers': 0,\n",
       "     'count_supporters': 0,\n",
       "     'lat': 40.0970337,\n",
       "     'lon': -75.0228742,\n",
       "     'user_follows': 0,\n",
       "     'user_comments': 0,\n",
       "     'user_request': 0,\n",
       "     'rank': '1',\n",
       "     'user': 'KENYETTA THOMAS'}},\n",
       "   {'request': {'primary_attachment': {'id': 5377066,\n",
       "      'extension': 'jpg',\n",
       "      'content_type': 'image/jpeg',\n",
       "      'url': 'https://d17aqltn7cihbm.cloudfront.net/uploads/a58453dcf3519f2e61d7eb71bdd0dddd',\n",
       "      'versions': {'small': 'https://d17aqltn7cihbm.cloudfront.net/uploads/small_a58453dcf3519f2e61d7eb71bdd0dddd',\n",
       "       'medium': 'https://d17aqltn7cihbm.cloudfront.net/uploads/medium_a58453dcf3519f2e61d7eb71bdd0dddd',\n",
       "       'large': 'https://d17aqltn7cihbm.cloudfront.net/uploads/large_a58453dcf3519f2e61d7eb71bdd0dddd'}},\n",
       "     'id': 16613760,\n",
       "     'image_thumbnail': 'https://d17aqltn7cihbm.cloudfront.net/uploads/small_a58453dcf3519f2e61d7eb71bdd0dddd',\n",
       "     'title': 'Dangerous Building Complaint',\n",
       "     'description': 'Signage on the verge of falling on pedestrians',\n",
       "     'status': 'submitted',\n",
       "     'address': '2101 S Beechwood St, Philadelphia, PA 19145, USA',\n",
       "     'location': '',\n",
       "     'zipcode': None,\n",
       "     'foreign_id': '17469495',\n",
       "     'date_created': 1741639534,\n",
       "     'count_comments': 0,\n",
       "     'count_followers': 0,\n",
       "     'count_supporters': 0,\n",
       "     'lat': 39.92588753,\n",
       "     'lon': -75.182167813,\n",
       "     'user_follows': 0,\n",
       "     'user_comments': 0,\n",
       "     'user_request': 0,\n",
       "     'rank': '1',\n",
       "     'user': 'jjjjj'}}],\n",
       "  'count': '2',\n",
       "  'benchmark': 16.027112007141113,\n",
       "  'status': {'type': 'success',\n",
       "   'message': 'Success',\n",
       "   'code': 200,\n",
       "   'code_message': 'Ok'}}}"
      ]
     },
     "execution_count": 6,
     "metadata": {},
     "output_type": "execute_result"
    }
   ],
   "source": [
    "r = requests.get(\n",
    "    \"https://vc0.publicstuff.com/api/2.0/requests_list\",\n",
    "    params={\"client_id\": 242, \"page\": 1, \"limit\": 2},\n",
    ")\n",
    "json = r.json()\n",
    "json"
   ]
  },
  {
   "cell_type": "markdown",
   "metadata": {},
   "source": [
    "Now we need to understand the structure of the response. First, access the list of requests:"
   ]
  },
  {
   "cell_type": "code",
   "execution_count": 7,
   "metadata": {},
   "outputs": [
    {
     "data": {
      "text/plain": [
       "[{'request': {'id': 16613763,\n",
       "   'image_thumbnail': '',\n",
       "   'title': 'Other',\n",
       "   'description': '',\n",
       "   'status': 'submitted',\n",
       "   'address': '9956 Haldeman Ave, Philadelphia, PA 19115, USA',\n",
       "   'location': '',\n",
       "   'zipcode': None,\n",
       "   'foreign_id': '17469497',\n",
       "   'date_created': 1741639537,\n",
       "   'count_comments': 0,\n",
       "   'count_followers': 0,\n",
       "   'count_supporters': 0,\n",
       "   'lat': 40.0970337,\n",
       "   'lon': -75.0228742,\n",
       "   'user_follows': 0,\n",
       "   'user_comments': 0,\n",
       "   'user_request': 0,\n",
       "   'rank': '1',\n",
       "   'user': 'KENYETTA THOMAS'}},\n",
       " {'request': {'primary_attachment': {'id': 5377066,\n",
       "    'extension': 'jpg',\n",
       "    'content_type': 'image/jpeg',\n",
       "    'url': 'https://d17aqltn7cihbm.cloudfront.net/uploads/a58453dcf3519f2e61d7eb71bdd0dddd',\n",
       "    'versions': {'small': 'https://d17aqltn7cihbm.cloudfront.net/uploads/small_a58453dcf3519f2e61d7eb71bdd0dddd',\n",
       "     'medium': 'https://d17aqltn7cihbm.cloudfront.net/uploads/medium_a58453dcf3519f2e61d7eb71bdd0dddd',\n",
       "     'large': 'https://d17aqltn7cihbm.cloudfront.net/uploads/large_a58453dcf3519f2e61d7eb71bdd0dddd'}},\n",
       "   'id': 16613760,\n",
       "   'image_thumbnail': 'https://d17aqltn7cihbm.cloudfront.net/uploads/small_a58453dcf3519f2e61d7eb71bdd0dddd',\n",
       "   'title': 'Dangerous Building Complaint',\n",
       "   'description': 'Signage on the verge of falling on pedestrians',\n",
       "   'status': 'submitted',\n",
       "   'address': '2101 S Beechwood St, Philadelphia, PA 19145, USA',\n",
       "   'location': '',\n",
       "   'zipcode': None,\n",
       "   'foreign_id': '17469495',\n",
       "   'date_created': 1741639534,\n",
       "   'count_comments': 0,\n",
       "   'count_followers': 0,\n",
       "   'count_supporters': 0,\n",
       "   'lat': 39.92588753,\n",
       "   'lon': -75.182167813,\n",
       "   'user_follows': 0,\n",
       "   'user_comments': 0,\n",
       "   'user_request': 0,\n",
       "   'rank': '1',\n",
       "   'user': 'jjjjj'}}]"
      ]
     },
     "execution_count": 7,
     "metadata": {},
     "output_type": "execute_result"
    }
   ],
   "source": [
    "request_list = json[\"response\"][\"requests\"]\n",
    "\n",
    "request_list"
   ]
  },
  {
   "cell_type": "markdown",
   "metadata": {},
   "source": [
    "We need to extract out the \"request\" key of each list entry. Let's do that and create a DataFrame:"
   ]
  },
  {
   "cell_type": "code",
   "execution_count": 8,
   "metadata": {},
   "outputs": [
    {
     "data": {
      "text/html": [
       "<div>\n",
       "<style scoped>\n",
       "    .dataframe tbody tr th:only-of-type {\n",
       "        vertical-align: middle;\n",
       "    }\n",
       "\n",
       "    .dataframe tbody tr th {\n",
       "        vertical-align: top;\n",
       "    }\n",
       "\n",
       "    .dataframe thead th {\n",
       "        text-align: right;\n",
       "    }\n",
       "</style>\n",
       "<table border=\"1\" class=\"dataframe\">\n",
       "  <thead>\n",
       "    <tr style=\"text-align: right;\">\n",
       "      <th></th>\n",
       "      <th>id</th>\n",
       "      <th>image_thumbnail</th>\n",
       "      <th>title</th>\n",
       "      <th>description</th>\n",
       "      <th>status</th>\n",
       "      <th>address</th>\n",
       "      <th>location</th>\n",
       "      <th>zipcode</th>\n",
       "      <th>foreign_id</th>\n",
       "      <th>date_created</th>\n",
       "      <th>count_comments</th>\n",
       "      <th>count_followers</th>\n",
       "      <th>count_supporters</th>\n",
       "      <th>lat</th>\n",
       "      <th>lon</th>\n",
       "      <th>user_follows</th>\n",
       "      <th>user_comments</th>\n",
       "      <th>user_request</th>\n",
       "      <th>rank</th>\n",
       "      <th>user</th>\n",
       "      <th>primary_attachment</th>\n",
       "    </tr>\n",
       "  </thead>\n",
       "  <tbody>\n",
       "    <tr>\n",
       "      <th>0</th>\n",
       "      <td>16613763</td>\n",
       "      <td></td>\n",
       "      <td>Other</td>\n",
       "      <td></td>\n",
       "      <td>submitted</td>\n",
       "      <td>9956 Haldeman Ave, Philadelphia, PA 19115, USA</td>\n",
       "      <td></td>\n",
       "      <td>None</td>\n",
       "      <td>17469497</td>\n",
       "      <td>1741639537</td>\n",
       "      <td>0</td>\n",
       "      <td>0</td>\n",
       "      <td>0</td>\n",
       "      <td>40.097034</td>\n",
       "      <td>-75.022874</td>\n",
       "      <td>0</td>\n",
       "      <td>0</td>\n",
       "      <td>0</td>\n",
       "      <td>1</td>\n",
       "      <td>KENYETTA THOMAS</td>\n",
       "      <td>NaN</td>\n",
       "    </tr>\n",
       "    <tr>\n",
       "      <th>1</th>\n",
       "      <td>16613760</td>\n",
       "      <td>https://d17aqltn7cihbm.cloudfront.net/uploads/...</td>\n",
       "      <td>Dangerous Building Complaint</td>\n",
       "      <td>Signage on the verge of falling on pedestrians</td>\n",
       "      <td>submitted</td>\n",
       "      <td>2101 S Beechwood St, Philadelphia, PA 19145, USA</td>\n",
       "      <td></td>\n",
       "      <td>None</td>\n",
       "      <td>17469495</td>\n",
       "      <td>1741639534</td>\n",
       "      <td>0</td>\n",
       "      <td>0</td>\n",
       "      <td>0</td>\n",
       "      <td>39.925888</td>\n",
       "      <td>-75.182168</td>\n",
       "      <td>0</td>\n",
       "      <td>0</td>\n",
       "      <td>0</td>\n",
       "      <td>1</td>\n",
       "      <td>jjjjj</td>\n",
       "      <td>{'id': 5377066, 'extension': 'jpg', 'content_t...</td>\n",
       "    </tr>\n",
       "  </tbody>\n",
       "</table>\n",
       "</div>"
      ],
      "text/plain": [
       "         id                                    image_thumbnail  \\\n",
       "0  16613763                                                      \n",
       "1  16613760  https://d17aqltn7cihbm.cloudfront.net/uploads/...   \n",
       "\n",
       "                          title  \\\n",
       "0                         Other   \n",
       "1  Dangerous Building Complaint   \n",
       "\n",
       "                                      description     status  \\\n",
       "0                                                  submitted   \n",
       "1  Signage on the verge of falling on pedestrians  submitted   \n",
       "\n",
       "                                            address location zipcode  \\\n",
       "0    9956 Haldeman Ave, Philadelphia, PA 19115, USA             None   \n",
       "1  2101 S Beechwood St, Philadelphia, PA 19145, USA             None   \n",
       "\n",
       "  foreign_id  date_created  count_comments  count_followers  count_supporters  \\\n",
       "0   17469497    1741639537               0                0                 0   \n",
       "1   17469495    1741639534               0                0                 0   \n",
       "\n",
       "         lat        lon  user_follows  user_comments  user_request rank  \\\n",
       "0  40.097034 -75.022874             0              0             0    1   \n",
       "1  39.925888 -75.182168             0              0             0    1   \n",
       "\n",
       "              user                                 primary_attachment  \n",
       "0  KENYETTA THOMAS                                                NaN  \n",
       "1            jjjjj  {'id': 5377066, 'extension': 'jpg', 'content_t...  "
      ]
     },
     "execution_count": 8,
     "metadata": {},
     "output_type": "execute_result"
    }
   ],
   "source": [
    "data = pd.DataFrame([r[\"request\"] for r in request_list])\n",
    "data.head()"
   ]
  },
  {
   "cell_type": "markdown",
   "metadata": {},
   "source": [
    "**GREAT SUCCESS!!**  But we want to build up a larger dataset...let's pull data for the first 3 pages of data. This will take a minute or two..."
   ]
  },
  {
   "cell_type": "code",
   "execution_count": 9,
   "metadata": {},
   "outputs": [
    {
     "name": "stdout",
     "output_type": "stream",
     "text": [
      "Getting data for page #1...\n",
      "Getting data for page #2...\n",
      "Getting data for page #3...\n"
     ]
    }
   ],
   "source": [
    "# Store the data we request\n",
    "data = []\n",
    "\n",
    "# Total number of pages\n",
    "total_pages = 3\n",
    "\n",
    "# Loop over each page\n",
    "for page_num in range(1, total_pages + 1):\n",
    "    # Print out the page number\n",
    "    print(f\"Getting data for page #{page_num}...\")\n",
    "\n",
    "    # Make the request\n",
    "    r = requests.get(\n",
    "        \"https://vc0.publicstuff.com/api/2.0/requests_list\",\n",
    "        params={\n",
    "            \"client_id\": 242,  # Unique identifier for Philadelphia\n",
    "            \"page\": page_num,  # What page of data to pull\n",
    "            \"limit\": 200,  # How many rows per page\n",
    "        },\n",
    "    )\n",
    "    # Get the json\n",
    "    d = r.json()\n",
    "\n",
    "    # Add the new data to our list and save\n",
    "    data = data + [r[\"request\"] for r in d[\"response\"][\"requests\"]]\n",
    "\n",
    "# Create a dataframe\n",
    "data = pd.DataFrame(data)"
   ]
  },
  {
   "cell_type": "code",
   "execution_count": 10,
   "metadata": {},
   "outputs": [
    {
     "data": {
      "text/plain": [
       "600"
      ]
     },
     "execution_count": 10,
     "metadata": {},
     "output_type": "execute_result"
    }
   ],
   "source": [
    "len(data)"
   ]
  },
  {
   "cell_type": "code",
   "execution_count": 12,
   "metadata": {},
   "outputs": [
    {
     "data": {
      "text/html": [
       "<div>\n",
       "<style scoped>\n",
       "    .dataframe tbody tr th:only-of-type {\n",
       "        vertical-align: middle;\n",
       "    }\n",
       "\n",
       "    .dataframe tbody tr th {\n",
       "        vertical-align: top;\n",
       "    }\n",
       "\n",
       "    .dataframe thead th {\n",
       "        text-align: right;\n",
       "    }\n",
       "</style>\n",
       "<table border=\"1\" class=\"dataframe\">\n",
       "  <thead>\n",
       "    <tr style=\"text-align: right;\">\n",
       "      <th></th>\n",
       "      <th>id</th>\n",
       "      <th>image_thumbnail</th>\n",
       "      <th>title</th>\n",
       "      <th>description</th>\n",
       "      <th>status</th>\n",
       "      <th>address</th>\n",
       "      <th>location</th>\n",
       "      <th>zipcode</th>\n",
       "      <th>foreign_id</th>\n",
       "      <th>date_created</th>\n",
       "      <th>count_comments</th>\n",
       "      <th>count_followers</th>\n",
       "      <th>count_supporters</th>\n",
       "      <th>lat</th>\n",
       "      <th>lon</th>\n",
       "      <th>user_follows</th>\n",
       "      <th>user_comments</th>\n",
       "      <th>user_request</th>\n",
       "      <th>rank</th>\n",
       "      <th>user</th>\n",
       "      <th>primary_attachment</th>\n",
       "    </tr>\n",
       "  </thead>\n",
       "  <tbody>\n",
       "    <tr>\n",
       "      <th>0</th>\n",
       "      <td>16613800</td>\n",
       "      <td></td>\n",
       "      <td>Abandoned Automobile</td>\n",
       "      <td>No license plate. Car has been parked for more...</td>\n",
       "      <td>submitted</td>\n",
       "      <td>1801 Poplar St, Philadelphia, PA 19130, USA</td>\n",
       "      <td></td>\n",
       "      <td>None</td>\n",
       "      <td>17469525</td>\n",
       "      <td>1741640012</td>\n",
       "      <td>0</td>\n",
       "      <td>0</td>\n",
       "      <td>0</td>\n",
       "      <td>39.971105</td>\n",
       "      <td>-75.166067</td>\n",
       "      <td>0</td>\n",
       "      <td>0</td>\n",
       "      <td>0</td>\n",
       "      <td>1</td>\n",
       "      <td></td>\n",
       "      <td>NaN</td>\n",
       "    </tr>\n",
       "    <tr>\n",
       "      <th>1</th>\n",
       "      <td>16613795</td>\n",
       "      <td></td>\n",
       "      <td>Recycling Collection</td>\n",
       "      <td>Our house was skipped for recycling pick up</td>\n",
       "      <td>submitted</td>\n",
       "      <td>1240 Hemlock Dr, Philadelphia, PA 19116, USA</td>\n",
       "      <td></td>\n",
       "      <td>None</td>\n",
       "      <td>17469515</td>\n",
       "      <td>1741639828</td>\n",
       "      <td>0</td>\n",
       "      <td>0</td>\n",
       "      <td>0</td>\n",
       "      <td>40.123736</td>\n",
       "      <td>-74.998319</td>\n",
       "      <td>0</td>\n",
       "      <td>0</td>\n",
       "      <td>0</td>\n",
       "      <td>1</td>\n",
       "      <td>Erinfurlong5</td>\n",
       "      <td>NaN</td>\n",
       "    </tr>\n",
       "    <tr>\n",
       "      <th>2</th>\n",
       "      <td>16613763</td>\n",
       "      <td></td>\n",
       "      <td>Other</td>\n",
       "      <td></td>\n",
       "      <td>submitted</td>\n",
       "      <td>9956 Haldeman Ave, Philadelphia, PA 19115, USA</td>\n",
       "      <td></td>\n",
       "      <td>None</td>\n",
       "      <td>17469497</td>\n",
       "      <td>1741639537</td>\n",
       "      <td>0</td>\n",
       "      <td>0</td>\n",
       "      <td>0</td>\n",
       "      <td>40.097034</td>\n",
       "      <td>-75.022874</td>\n",
       "      <td>0</td>\n",
       "      <td>0</td>\n",
       "      <td>0</td>\n",
       "      <td>1</td>\n",
       "      <td>KENYETTA THOMAS</td>\n",
       "      <td>NaN</td>\n",
       "    </tr>\n",
       "    <tr>\n",
       "      <th>3</th>\n",
       "      <td>16613760</td>\n",
       "      <td>https://d17aqltn7cihbm.cloudfront.net/uploads/...</td>\n",
       "      <td>Dangerous Building Complaint</td>\n",
       "      <td>Signage on the verge of falling on pedestrians</td>\n",
       "      <td>submitted</td>\n",
       "      <td>2101 S Beechwood St, Philadelphia, PA 19145, USA</td>\n",
       "      <td></td>\n",
       "      <td>None</td>\n",
       "      <td>17469495</td>\n",
       "      <td>1741639534</td>\n",
       "      <td>0</td>\n",
       "      <td>0</td>\n",
       "      <td>0</td>\n",
       "      <td>39.925888</td>\n",
       "      <td>-75.182168</td>\n",
       "      <td>0</td>\n",
       "      <td>0</td>\n",
       "      <td>0</td>\n",
       "      <td>1</td>\n",
       "      <td>jjjjj</td>\n",
       "      <td>{'id': 5377066, 'extension': 'jpg', 'content_t...</td>\n",
       "    </tr>\n",
       "    <tr>\n",
       "      <th>4</th>\n",
       "      <td>16613739</td>\n",
       "      <td>https://d17aqltn7cihbm.cloudfront.net/uploads/...</td>\n",
       "      <td>Illegal Dumping</td>\n",
       "      <td>Metal debris piled on sidewalk</td>\n",
       "      <td>submitted</td>\n",
       "      <td>850 Moyer St,Philadelphia, PA 19125</td>\n",
       "      <td>Philadelphia, Pennsylvania</td>\n",
       "      <td>19125</td>\n",
       "      <td>17469483</td>\n",
       "      <td>1741639328</td>\n",
       "      <td>0</td>\n",
       "      <td>0</td>\n",
       "      <td>0</td>\n",
       "      <td>39.973475</td>\n",
       "      <td>-75.123507</td>\n",
       "      <td>0</td>\n",
       "      <td>0</td>\n",
       "      <td>0</td>\n",
       "      <td>1</td>\n",
       "      <td>D-RUNKLE</td>\n",
       "      <td>{'id': 5377056, 'extension': 'jpg', 'content_t...</td>\n",
       "    </tr>\n",
       "    <tr>\n",
       "      <th>5</th>\n",
       "      <td>16613732</td>\n",
       "      <td></td>\n",
       "      <td>Fire Safety Complaint</td>\n",
       "      <td>I live across the street from the small row ho...</td>\n",
       "      <td>submitted</td>\n",
       "      <td>207 Watkins St,Philadelphia, PA 19148</td>\n",
       "      <td>Philadelphia, Pennsylvania</td>\n",
       "      <td>19148</td>\n",
       "      <td>NaN</td>\n",
       "      <td>1741639187</td>\n",
       "      <td>0</td>\n",
       "      <td>0</td>\n",
       "      <td>0</td>\n",
       "      <td>39.926467</td>\n",
       "      <td>-75.149833</td>\n",
       "      <td>0</td>\n",
       "      <td>0</td>\n",
       "      <td>0</td>\n",
       "      <td>1</td>\n",
       "      <td>annaboland</td>\n",
       "      <td>NaN</td>\n",
       "    </tr>\n",
       "    <tr>\n",
       "      <th>6</th>\n",
       "      <td>16613708</td>\n",
       "      <td></td>\n",
       "      <td>Dangerous Building Complaint</td>\n",
       "      <td>This property has caught fire sometime last Ju...</td>\n",
       "      <td>submitted</td>\n",
       "      <td>1234 W Cambria St, Philadelphia, PA 19133, USA</td>\n",
       "      <td></td>\n",
       "      <td>None</td>\n",
       "      <td>17469466</td>\n",
       "      <td>1741638936</td>\n",
       "      <td>0</td>\n",
       "      <td>0</td>\n",
       "      <td>0</td>\n",
       "      <td>39.996532</td>\n",
       "      <td>-75.151186</td>\n",
       "      <td>0</td>\n",
       "      <td>0</td>\n",
       "      <td>0</td>\n",
       "      <td>1</td>\n",
       "      <td></td>\n",
       "      <td>NaN</td>\n",
       "    </tr>\n",
       "    <tr>\n",
       "      <th>7</th>\n",
       "      <td>16613686</td>\n",
       "      <td></td>\n",
       "      <td>Abandoned Automobile</td>\n",
       "      <td>The car has been parked on the street for abou...</td>\n",
       "      <td>submitted</td>\n",
       "      <td>2944 Disston St, Philadelphia, PA 19149, USA</td>\n",
       "      <td></td>\n",
       "      <td>None</td>\n",
       "      <td>17469453</td>\n",
       "      <td>1741638728</td>\n",
       "      <td>0</td>\n",
       "      <td>0</td>\n",
       "      <td>0</td>\n",
       "      <td>40.037486</td>\n",
       "      <td>-75.055685</td>\n",
       "      <td>0</td>\n",
       "      <td>0</td>\n",
       "      <td>0</td>\n",
       "      <td>1</td>\n",
       "      <td></td>\n",
       "      <td>NaN</td>\n",
       "    </tr>\n",
       "    <tr>\n",
       "      <th>8</th>\n",
       "      <td>16613661</td>\n",
       "      <td>https://d17aqltn7cihbm.cloudfront.net/uploads/...</td>\n",
       "      <td>Graffiti Removal Request</td>\n",
       "      <td>None</td>\n",
       "      <td>submitted</td>\n",
       "      <td>3799 Walnut St,Philadelphia, PA 19104</td>\n",
       "      <td>Philadelphia, Pennsylvania</td>\n",
       "      <td>19104</td>\n",
       "      <td>17469435</td>\n",
       "      <td>1741638445</td>\n",
       "      <td>0</td>\n",
       "      <td>0</td>\n",
       "      <td>0</td>\n",
       "      <td>39.953767</td>\n",
       "      <td>-75.198408</td>\n",
       "      <td>0</td>\n",
       "      <td>0</td>\n",
       "      <td>0</td>\n",
       "      <td>1</td>\n",
       "      <td></td>\n",
       "      <td>{'id': 5377041, 'extension': 'jpg', 'content_t...</td>\n",
       "    </tr>\n",
       "    <tr>\n",
       "      <th>9</th>\n",
       "      <td>16613656</td>\n",
       "      <td>https://d17aqltn7cihbm.cloudfront.net/uploads/...</td>\n",
       "      <td>Abandoned Automobile</td>\n",
       "      <td>Blue Honda Pilot parked in same spot. Has not ...</td>\n",
       "      <td>submitted</td>\n",
       "      <td>2841 S Beulah St,Philadelphia, PA 19148</td>\n",
       "      <td>Philadelphia, Pennsylvania</td>\n",
       "      <td>19148</td>\n",
       "      <td>17469432</td>\n",
       "      <td>1741638403</td>\n",
       "      <td>0</td>\n",
       "      <td>0</td>\n",
       "      <td>0</td>\n",
       "      <td>39.913041</td>\n",
       "      <td>-75.160781</td>\n",
       "      <td>0</td>\n",
       "      <td>0</td>\n",
       "      <td>0</td>\n",
       "      <td>1</td>\n",
       "      <td>scssd2</td>\n",
       "      <td>{'id': 5377040, 'extension': 'jpg', 'content_t...</td>\n",
       "    </tr>\n",
       "  </tbody>\n",
       "</table>\n",
       "</div>"
      ],
      "text/plain": [
       "         id                                    image_thumbnail  \\\n",
       "0  16613800                                                      \n",
       "1  16613795                                                      \n",
       "2  16613763                                                      \n",
       "3  16613760  https://d17aqltn7cihbm.cloudfront.net/uploads/...   \n",
       "4  16613739  https://d17aqltn7cihbm.cloudfront.net/uploads/...   \n",
       "5  16613732                                                      \n",
       "6  16613708                                                      \n",
       "7  16613686                                                      \n",
       "8  16613661  https://d17aqltn7cihbm.cloudfront.net/uploads/...   \n",
       "9  16613656  https://d17aqltn7cihbm.cloudfront.net/uploads/...   \n",
       "\n",
       "                          title  \\\n",
       "0          Abandoned Automobile   \n",
       "1          Recycling Collection   \n",
       "2                         Other   \n",
       "3  Dangerous Building Complaint   \n",
       "4               Illegal Dumping   \n",
       "5         Fire Safety Complaint   \n",
       "6  Dangerous Building Complaint   \n",
       "7          Abandoned Automobile   \n",
       "8      Graffiti Removal Request   \n",
       "9          Abandoned Automobile   \n",
       "\n",
       "                                         description     status  \\\n",
       "0  No license plate. Car has been parked for more...  submitted   \n",
       "1        Our house was skipped for recycling pick up  submitted   \n",
       "2                                                     submitted   \n",
       "3     Signage on the verge of falling on pedestrians  submitted   \n",
       "4                    Metal debris piled on sidewalk   submitted   \n",
       "5  I live across the street from the small row ho...  submitted   \n",
       "6  This property has caught fire sometime last Ju...  submitted   \n",
       "7  The car has been parked on the street for abou...  submitted   \n",
       "8                                               None  submitted   \n",
       "9  Blue Honda Pilot parked in same spot. Has not ...  submitted   \n",
       "\n",
       "                                            address  \\\n",
       "0       1801 Poplar St, Philadelphia, PA 19130, USA   \n",
       "1      1240 Hemlock Dr, Philadelphia, PA 19116, USA   \n",
       "2    9956 Haldeman Ave, Philadelphia, PA 19115, USA   \n",
       "3  2101 S Beechwood St, Philadelphia, PA 19145, USA   \n",
       "4               850 Moyer St,Philadelphia, PA 19125   \n",
       "5             207 Watkins St,Philadelphia, PA 19148   \n",
       "6    1234 W Cambria St, Philadelphia, PA 19133, USA   \n",
       "7      2944 Disston St, Philadelphia, PA 19149, USA   \n",
       "8             3799 Walnut St,Philadelphia, PA 19104   \n",
       "9           2841 S Beulah St,Philadelphia, PA 19148   \n",
       "\n",
       "                     location zipcode foreign_id  date_created  \\\n",
       "0                                None   17469525    1741640012   \n",
       "1                                None   17469515    1741639828   \n",
       "2                                None   17469497    1741639537   \n",
       "3                                None   17469495    1741639534   \n",
       "4  Philadelphia, Pennsylvania   19125   17469483    1741639328   \n",
       "5  Philadelphia, Pennsylvania   19148        NaN    1741639187   \n",
       "6                                None   17469466    1741638936   \n",
       "7                                None   17469453    1741638728   \n",
       "8  Philadelphia, Pennsylvania   19104   17469435    1741638445   \n",
       "9  Philadelphia, Pennsylvania   19148   17469432    1741638403   \n",
       "\n",
       "   count_comments  count_followers  count_supporters        lat        lon  \\\n",
       "0               0                0                 0  39.971105 -75.166067   \n",
       "1               0                0                 0  40.123736 -74.998319   \n",
       "2               0                0                 0  40.097034 -75.022874   \n",
       "3               0                0                 0  39.925888 -75.182168   \n",
       "4               0                0                 0  39.973475 -75.123507   \n",
       "5               0                0                 0  39.926467 -75.149833   \n",
       "6               0                0                 0  39.996532 -75.151186   \n",
       "7               0                0                 0  40.037486 -75.055685   \n",
       "8               0                0                 0  39.953767 -75.198408   \n",
       "9               0                0                 0  39.913041 -75.160781   \n",
       "\n",
       "   user_follows  user_comments  user_request rank             user  \\\n",
       "0             0              0             0    1                    \n",
       "1             0              0             0    1     Erinfurlong5   \n",
       "2             0              0             0    1  KENYETTA THOMAS   \n",
       "3             0              0             0    1            jjjjj   \n",
       "4             0              0             0    1         D-RUNKLE   \n",
       "5             0              0             0    1       annaboland   \n",
       "6             0              0             0    1                    \n",
       "7             0              0             0    1                    \n",
       "8             0              0             0    1                    \n",
       "9             0              0             0    1           scssd2   \n",
       "\n",
       "                                  primary_attachment  \n",
       "0                                                NaN  \n",
       "1                                                NaN  \n",
       "2                                                NaN  \n",
       "3  {'id': 5377066, 'extension': 'jpg', 'content_t...  \n",
       "4  {'id': 5377056, 'extension': 'jpg', 'content_t...  \n",
       "5                                                NaN  \n",
       "6                                                NaN  \n",
       "7                                                NaN  \n",
       "8  {'id': 5377041, 'extension': 'jpg', 'content_t...  \n",
       "9  {'id': 5377040, 'extension': 'jpg', 'content_t...  "
      ]
     },
     "execution_count": 12,
     "metadata": {},
     "output_type": "execute_result"
    }
   ],
   "source": [
    "data.head(10)"
   ]
  },
  {
   "cell_type": "markdown",
   "metadata": {},
   "source": [
    "Let's focus on the \"description\" column. This is the narrative text that the user inputs when entering a 311 request, and it is an example of *semi-structured* data. For the rest of today, we'll focus on how to extract information from semi-structured data."
   ]
  },
  {
   "cell_type": "markdown",
   "metadata": {},
   "source": [
    "### Semi-structured data\n",
    "\n",
    "Data that contains some elements that cannot be easily consumed by computers \n",
    "\n",
    "**Examples:** human-readable text, audio, images, etc\n",
    "\n",
    "\n",
    "### Key challenges\n",
    "\n",
    "- **Text mining**: analyzing blocks of text to extract the relevant pieces of information\n",
    "- **Natural language processing (NLP)**: programming computers to process and analyze human languages\n",
    "- **Sentiment analysis**: analyzing blocks of text to derive the attitude or emotional state of the person\n",
    "\n",
    "NB: Twitter is one of the main API examples of semi-structured data, but since Elon Musk overhauled the API access, it's become prohibitively expensive to access (RIP 💀)"
   ]
  },
  {
   "cell_type": "markdown",
   "metadata": {},
   "source": [
    "To get started, let's remove any requests where the description is missing:"
   ]
  },
  {
   "cell_type": "code",
   "execution_count": 13,
   "metadata": {},
   "outputs": [],
   "source": [
    "data = data.dropna(subset=[\"description\"])\n",
    "data_final = data.loc[data[\"description\"] != \"\"]"
   ]
  },
  {
   "cell_type": "code",
   "execution_count": 14,
   "metadata": {},
   "outputs": [
    {
     "data": {
      "text/plain": [
       "['No license plate. Car has been parked for more than 2 months',\n",
       " 'Our house was skipped for recycling pick up',\n",
       " 'Signage on the verge of falling on pedestrians',\n",
       " 'Metal debris piled on sidewalk',\n",
       " 'I live across the street from the small row home that is inhabited by squatters who have propane tanks all over the living room that I can see as I walk by when they leave their door open. They are drug users so my biggest fear is that they fall asleep or like something on fire and they call an explosion. They also are soliciting sex for drugs out of the home and I have all of this on camera footage not the propane tanks but I can try to get pictures next time The door is open. My biggest fear is I have a teenage daughter and something is going to happen that causes me or my family harm.',\n",
       " 'This property has caught fire sometime last June and was sealed up.  Since then an unknown person or persons has taken off the boards and are now trying to live in this property.  Can you please put a rush on boarding up this property',\n",
       " 'The car has been parked on the street for about one month.  The windows are very dark and it there is the arm of a jacket or sweat jacket hanging from the drivers side door.  It seems strange.',\n",
       " 'Blue Honda Pilot parked in same spot. Has not moved for months.',\n",
       " 'Selling refrigerator stoves washer and dryer on side wall of residential neighborhood',\n",
       " 'They did not pick up the trash that was out there since early this morning']"
      ]
     },
     "execution_count": 14,
     "metadata": {},
     "output_type": "execute_result"
    }
   ],
   "source": [
    "# Strip out spaces and convert to a list\n",
    "descriptions = data_final[\"description\"].str.strip().tolist()\n",
    "\n",
    "descriptions[:10]"
   ]
  },
  {
   "cell_type": "markdown",
   "metadata": {},
   "source": [
    "### Use case #1: calculating word frequencies\n",
    "\n",
    "An example of **text mining**\n",
    "\n",
    "#### Text mining and dealing with messy data\n",
    "\n",
    "Some steps to clean up our text data:\n",
    "\n",
    "1. Break strings into words\n",
    "1. Remove capitalization\n",
    "1. Remove stop words\n",
    "1. Remove punctuation"
   ]
  },
  {
   "cell_type": "markdown",
   "metadata": {},
   "source": [
    "**1. Break strings into words**\n",
    "\n",
    "Use the `.split()` command to break a string into words by splitting on spaces."
   ]
  },
  {
   "cell_type": "code",
   "execution_count": 15,
   "metadata": {},
   "outputs": [
    {
     "data": {
      "text/plain": [
       "['This', 'is', 'an', 'Example']"
      ]
     },
     "execution_count": 15,
     "metadata": {},
     "output_type": "execute_result"
    }
   ],
   "source": [
    "example_string = \"This is an Example\"\n",
    "example_string.split()"
   ]
  },
  {
   "cell_type": "code",
   "execution_count": 16,
   "metadata": {},
   "outputs": [],
   "source": [
    "descriptions_words = [desc.split() for desc in descriptions]"
   ]
  },
  {
   "cell_type": "code",
   "execution_count": 17,
   "metadata": {},
   "outputs": [
    {
     "data": {
      "text/plain": [
       "['No',\n",
       " 'license',\n",
       " 'plate.',\n",
       " 'Car',\n",
       " 'has',\n",
       " 'been',\n",
       " 'parked',\n",
       " 'for',\n",
       " 'more',\n",
       " 'than',\n",
       " '2',\n",
       " 'months']"
      ]
     },
     "execution_count": 17,
     "metadata": {},
     "output_type": "execute_result"
    }
   ],
   "source": [
    "descriptions_words[0]"
   ]
  },
  {
   "cell_type": "markdown",
   "metadata": {},
   "source": [
    "This is a list of lists, e.g., the first element is a list of words. Let's *flatten* this into a list of just words:"
   ]
  },
  {
   "cell_type": "code",
   "execution_count": 18,
   "metadata": {},
   "outputs": [],
   "source": [
    "descriptions_words_flat = []\n",
    "\n",
    "for list_of_words in descriptions_words:\n",
    "    for word in list_of_words:\n",
    "        descriptions_words_flat.append(word)"
   ]
  },
  {
   "cell_type": "code",
   "execution_count": 19,
   "metadata": {},
   "outputs": [
    {
     "data": {
      "text/plain": [
       "'No'"
      ]
     },
     "execution_count": 19,
     "metadata": {},
     "output_type": "execute_result"
    }
   ],
   "source": [
    "descriptions_words_flat[0]"
   ]
  },
  {
   "cell_type": "code",
   "execution_count": 20,
   "metadata": {},
   "outputs": [
    {
     "data": {
      "text/plain": [
       "11532"
      ]
     },
     "execution_count": 20,
     "metadata": {},
     "output_type": "execute_result"
    }
   ],
   "source": [
    "len(descriptions_words_flat)"
   ]
  },
  {
   "cell_type": "markdown",
   "metadata": {},
   "source": [
    "**2. Convert all words to lower case**\n",
    "\n",
    "Use `.lower()` makes all words lower cased"
   ]
  },
  {
   "cell_type": "code",
   "execution_count": 21,
   "metadata": {},
   "outputs": [],
   "source": [
    "descriptions_words_lower = [word.lower() for word in descriptions_words_flat]"
   ]
  },
  {
   "cell_type": "code",
   "execution_count": 22,
   "metadata": {
    "slideshow": {
     "slide_type": "slide"
    }
   },
   "outputs": [
    {
     "data": {
      "text/plain": [
       "['no',\n",
       " 'license',\n",
       " 'plate.',\n",
       " 'car',\n",
       " 'has',\n",
       " 'been',\n",
       " 'parked',\n",
       " 'for',\n",
       " 'more',\n",
       " 'than']"
      ]
     },
     "execution_count": 22,
     "metadata": {},
     "output_type": "execute_result"
    }
   ],
   "source": [
    "descriptions_words_lower[:10]"
   ]
  },
  {
   "cell_type": "code",
   "execution_count": 23,
   "metadata": {
    "slideshow": {
     "slide_type": "slide"
    }
   },
   "outputs": [
    {
     "data": {
      "text/plain": [
       "11532"
      ]
     },
     "execution_count": 23,
     "metadata": {},
     "output_type": "execute_result"
    }
   ],
   "source": [
    "len(descriptions_words_lower)"
   ]
  },
  {
   "cell_type": "markdown",
   "metadata": {
    "slideshow": {
     "slide_type": "slide"
    }
   },
   "source": [
    "**3. Remove stop words**\n",
    "\n",
    "Common words that do not carry much significance and are often ignored in text analysis."
   ]
  },
  {
   "cell_type": "markdown",
   "metadata": {
    "slideshow": {
     "slide_type": "slide"
    }
   },
   "source": [
    "We can use the `nltk` package.\n",
    "\n",
    "The \"Natural Language Toolkit\" https://www.nltk.org/\n",
    "\n",
    "Import and download the stop words:"
   ]
  },
  {
   "cell_type": "code",
   "execution_count": 24,
   "metadata": {
    "slideshow": {
     "slide_type": "slide"
    }
   },
   "outputs": [
    {
     "name": "stderr",
     "output_type": "stream",
     "text": [
      "[nltk_data] Downloading package stopwords to\n",
      "[nltk_data]     /Users/delmelle/nltk_data...\n",
      "[nltk_data]   Unzipping corpora/stopwords.zip.\n"
     ]
    }
   ],
   "source": [
    "import nltk\n",
    "\n",
    "nltk.download(\"stopwords\");"
   ]
  },
  {
   "cell_type": "markdown",
   "metadata": {
    "slideshow": {
     "slide_type": "slide"
    }
   },
   "source": [
    "Get the list of common stop words:"
   ]
  },
  {
   "cell_type": "code",
   "execution_count": 25,
   "metadata": {
    "slideshow": {
     "slide_type": "slide"
    }
   },
   "outputs": [
    {
     "data": {
      "text/plain": [
       "['couldn',\n",
       " 'this',\n",
       " 'for',\n",
       " 'if',\n",
       " \"wouldn't\",\n",
       " \"shouldn't\",\n",
       " 'such',\n",
       " 'a',\n",
       " \"it'd\",\n",
       " 'does',\n",
       " 'shan',\n",
       " \"she'll\",\n",
       " \"isn't\",\n",
       " 'ourselves',\n",
       " 'those',\n",
       " \"weren't\",\n",
       " \"we've\",\n",
       " 'the',\n",
       " 'isn',\n",
       " 'same',\n",
       " \"you've\",\n",
       " 'not',\n",
       " 'out',\n",
       " 'so',\n",
       " 'i',\n",
       " \"needn't\",\n",
       " 'did',\n",
       " 'through',\n",
       " 'mustn',\n",
       " 'my',\n",
       " 'no',\n",
       " 'you',\n",
       " 'themselves',\n",
       " 'been',\n",
       " 'nor',\n",
       " 'during',\n",
       " 'by',\n",
       " \"should've\",\n",
       " 'off',\n",
       " 'doing',\n",
       " 'ours',\n",
       " \"they'd\",\n",
       " \"couldn't\",\n",
       " \"that'll\",\n",
       " 'whom',\n",
       " 'any',\n",
       " 'own',\n",
       " 'under',\n",
       " 'until',\n",
       " 'yourself',\n",
       " \"won't\",\n",
       " 'her',\n",
       " \"i'm\",\n",
       " 'as',\n",
       " \"didn't\",\n",
       " \"mustn't\",\n",
       " 'were',\n",
       " 'all',\n",
       " \"it's\",\n",
       " 'who',\n",
       " \"you'll\",\n",
       " \"they'll\",\n",
       " 'each',\n",
       " 'while',\n",
       " 'itself',\n",
       " 'them',\n",
       " 'can',\n",
       " 'from',\n",
       " 'hadn',\n",
       " 'or',\n",
       " 'am',\n",
       " \"he's\",\n",
       " 'its',\n",
       " \"i've\",\n",
       " 'needn',\n",
       " 'below',\n",
       " 'is',\n",
       " \"aren't\",\n",
       " 'some',\n",
       " \"they're\",\n",
       " 'we',\n",
       " 'it',\n",
       " 'only',\n",
       " 'him',\n",
       " 'they',\n",
       " 'weren',\n",
       " 'to',\n",
       " \"haven't\",\n",
       " 'above',\n",
       " 'y',\n",
       " 'more',\n",
       " 'before',\n",
       " 'wasn',\n",
       " 'having',\n",
       " 't',\n",
       " 'herself',\n",
       " 'won',\n",
       " 'in',\n",
       " \"we'd\",\n",
       " \"it'll\"]"
      ]
     },
     "execution_count": 25,
     "metadata": {},
     "output_type": "execute_result"
    }
   ],
   "source": [
    "stop_words = list(set(nltk.corpus.stopwords.words(\"english\")))\n",
    "stop_words[:100]\n"
   ]
  },
  {
   "cell_type": "markdown",
   "metadata": {
    "slideshow": {
     "slide_type": "slide"
    }
   },
   "source": [
    "len(stop_words)"
   ]
  },
  {
   "cell_type": "code",
   "execution_count": 26,
   "metadata": {
    "slideshow": {
     "slide_type": "slide"
    }
   },
   "outputs": [],
   "source": [
    "descriptions_no_stop = []\n",
    "\n",
    "for word in descriptions_words_lower:\n",
    "    if word not in stop_words:\n",
    "        descriptions_no_stop.append(word)"
   ]
  },
  {
   "cell_type": "code",
   "execution_count": 27,
   "metadata": {
    "slideshow": {
     "slide_type": "slide"
    }
   },
   "outputs": [],
   "source": [
    "descriptions_no_stop = [\n",
    "    word for word in descriptions_words_lower if word not in stop_words\n",
    "]"
   ]
  },
  {
   "cell_type": "code",
   "execution_count": 28,
   "metadata": {
    "slideshow": {
     "slide_type": "slide"
    }
   },
   "outputs": [
    {
     "data": {
      "text/plain": [
       "6976"
      ]
     },
     "execution_count": 28,
     "metadata": {},
     "output_type": "execute_result"
    }
   ],
   "source": [
    "len(descriptions_no_stop)"
   ]
  },
  {
   "cell_type": "markdown",
   "metadata": {
    "slideshow": {
     "slide_type": "slide"
    }
   },
   "source": [
    "**4. Remove punctuation**\n",
    "\n",
    "Get the list of common punctuation:"
   ]
  },
  {
   "cell_type": "code",
   "execution_count": 29,
   "metadata": {
    "slideshow": {
     "slide_type": "slide"
    }
   },
   "outputs": [],
   "source": [
    "import string"
   ]
  },
  {
   "cell_type": "code",
   "execution_count": 30,
   "metadata": {
    "slideshow": {
     "slide_type": "slide"
    }
   },
   "outputs": [],
   "source": [
    "punctuation = list(string.punctuation)"
   ]
  },
  {
   "cell_type": "code",
   "execution_count": 31,
   "metadata": {
    "slideshow": {
     "slide_type": "slide"
    }
   },
   "outputs": [
    {
     "data": {
      "text/plain": [
       "['!', '\"', '#', '$', '%']"
      ]
     },
     "execution_count": 31,
     "metadata": {},
     "output_type": "execute_result"
    }
   ],
   "source": [
    "punctuation[:5]"
   ]
  },
  {
   "cell_type": "markdown",
   "metadata": {
    "slideshow": {
     "slide_type": "slide"
    }
   },
   "source": [
    "Remove punctuation from words:"
   ]
  },
  {
   "cell_type": "code",
   "execution_count": 32,
   "metadata": {
    "slideshow": {
     "slide_type": "slide"
    }
   },
   "outputs": [],
   "source": [
    "descriptions_final = []\n",
    "\n",
    "# Loop over all words\n",
    "for word in descriptions_no_stop:\n",
    "    # Remove any punctuation from the words\n",
    "    for p in punctuation:\n",
    "        word = word.replace(p, \"\")\n",
    "\n",
    "    # Save it if the string is not empty\n",
    "    if word != \"\":\n",
    "        descriptions_final.append(word)"
   ]
  },
  {
   "cell_type": "markdown",
   "metadata": {
    "slideshow": {
     "slide_type": "slide"
    }
   },
   "source": [
    "Convert to a Dataframe with one column:"
   ]
  },
  {
   "cell_type": "code",
   "execution_count": 33,
   "metadata": {
    "slideshow": {
     "slide_type": "slide"
    }
   },
   "outputs": [],
   "source": [
    "words = pd.DataFrame({\"words\": descriptions_final})"
   ]
  },
  {
   "cell_type": "code",
   "execution_count": 34,
   "metadata": {
    "slideshow": {
     "slide_type": "slide"
    }
   },
   "outputs": [
    {
     "data": {
      "text/html": [
       "<div>\n",
       "<style scoped>\n",
       "    .dataframe tbody tr th:only-of-type {\n",
       "        vertical-align: middle;\n",
       "    }\n",
       "\n",
       "    .dataframe tbody tr th {\n",
       "        vertical-align: top;\n",
       "    }\n",
       "\n",
       "    .dataframe thead th {\n",
       "        text-align: right;\n",
       "    }\n",
       "</style>\n",
       "<table border=\"1\" class=\"dataframe\">\n",
       "  <thead>\n",
       "    <tr style=\"text-align: right;\">\n",
       "      <th></th>\n",
       "      <th>words</th>\n",
       "    </tr>\n",
       "  </thead>\n",
       "  <tbody>\n",
       "    <tr>\n",
       "      <th>0</th>\n",
       "      <td>license</td>\n",
       "    </tr>\n",
       "    <tr>\n",
       "      <th>1</th>\n",
       "      <td>plate</td>\n",
       "    </tr>\n",
       "    <tr>\n",
       "      <th>2</th>\n",
       "      <td>car</td>\n",
       "    </tr>\n",
       "    <tr>\n",
       "      <th>3</th>\n",
       "      <td>parked</td>\n",
       "    </tr>\n",
       "    <tr>\n",
       "      <th>4</th>\n",
       "      <td>2</td>\n",
       "    </tr>\n",
       "  </tbody>\n",
       "</table>\n",
       "</div>"
      ],
      "text/plain": [
       "     words\n",
       "0  license\n",
       "1    plate\n",
       "2      car\n",
       "3   parked\n",
       "4        2"
      ]
     },
     "execution_count": 34,
     "metadata": {},
     "output_type": "execute_result"
    }
   ],
   "source": [
    "words.head()"
   ]
  },
  {
   "cell_type": "markdown",
   "metadata": {
    "slideshow": {
     "slide_type": "slide"
    }
   },
   "source": [
    "**Calculate the word frequencies** \n",
    "\n",
    "Use a pandas groupby and sort to put in descending order:"
   ]
  },
  {
   "cell_type": "code",
   "execution_count": 35,
   "metadata": {
    "slideshow": {
     "slide_type": "slide"
    }
   },
   "outputs": [],
   "source": [
    "N = (\n",
    "    words.groupby(\"words\", as_index=False)\n",
    "    .size()\n",
    "    .sort_values(\"size\", ascending=False, ignore_index=True)\n",
    ")"
   ]
  },
  {
   "cell_type": "code",
   "execution_count": 36,
   "metadata": {
    "slideshow": {
     "slide_type": "slide"
    }
   },
   "outputs": [
    {
     "data": {
      "text/html": [
       "<div>\n",
       "<style scoped>\n",
       "    .dataframe tbody tr th:only-of-type {\n",
       "        vertical-align: middle;\n",
       "    }\n",
       "\n",
       "    .dataframe tbody tr th {\n",
       "        vertical-align: top;\n",
       "    }\n",
       "\n",
       "    .dataframe thead th {\n",
       "        text-align: right;\n",
       "    }\n",
       "</style>\n",
       "<table border=\"1\" class=\"dataframe\">\n",
       "  <thead>\n",
       "    <tr style=\"text-align: right;\">\n",
       "      <th></th>\n",
       "      <th>words</th>\n",
       "      <th>size</th>\n",
       "    </tr>\n",
       "  </thead>\n",
       "  <tbody>\n",
       "    <tr>\n",
       "      <th>0</th>\n",
       "      <td>street</td>\n",
       "      <td>136</td>\n",
       "    </tr>\n",
       "    <tr>\n",
       "      <th>1</th>\n",
       "      <td>trash</td>\n",
       "      <td>71</td>\n",
       "    </tr>\n",
       "    <tr>\n",
       "      <th>2</th>\n",
       "      <td>people</td>\n",
       "      <td>54</td>\n",
       "    </tr>\n",
       "    <tr>\n",
       "      <th>3</th>\n",
       "      <td>tricked</td>\n",
       "      <td>50</td>\n",
       "    </tr>\n",
       "    <tr>\n",
       "      <th>4</th>\n",
       "      <td>parked</td>\n",
       "      <td>47</td>\n",
       "    </tr>\n",
       "    <tr>\n",
       "      <th>5</th>\n",
       "      <td>block</td>\n",
       "      <td>46</td>\n",
       "    </tr>\n",
       "    <tr>\n",
       "      <th>6</th>\n",
       "      <td>car</td>\n",
       "      <td>45</td>\n",
       "    </tr>\n",
       "    <tr>\n",
       "      <th>7</th>\n",
       "      <td>please</td>\n",
       "      <td>42</td>\n",
       "    </tr>\n",
       "    <tr>\n",
       "      <th>8</th>\n",
       "      <td>months</td>\n",
       "      <td>40</td>\n",
       "    </tr>\n",
       "    <tr>\n",
       "      <th>9</th>\n",
       "      <td>property</td>\n",
       "      <td>39</td>\n",
       "    </tr>\n",
       "    <tr>\n",
       "      <th>10</th>\n",
       "      <td>side</td>\n",
       "      <td>38</td>\n",
       "    </tr>\n",
       "    <tr>\n",
       "      <th>11</th>\n",
       "      <td>place</td>\n",
       "      <td>34</td>\n",
       "    </tr>\n",
       "    <tr>\n",
       "      <th>12</th>\n",
       "      <td>sidewalk</td>\n",
       "      <td>34</td>\n",
       "    </tr>\n",
       "    <tr>\n",
       "      <th>13</th>\n",
       "      <td>housing</td>\n",
       "      <td>33</td>\n",
       "    </tr>\n",
       "    <tr>\n",
       "      <th>14</th>\n",
       "      <td>front</td>\n",
       "      <td>33</td>\n",
       "    </tr>\n",
       "  </tbody>\n",
       "</table>\n",
       "</div>"
      ],
      "text/plain": [
       "       words  size\n",
       "0     street   136\n",
       "1      trash    71\n",
       "2     people    54\n",
       "3    tricked    50\n",
       "4     parked    47\n",
       "5      block    46\n",
       "6        car    45\n",
       "7     please    42\n",
       "8     months    40\n",
       "9   property    39\n",
       "10      side    38\n",
       "11     place    34\n",
       "12  sidewalk    34\n",
       "13   housing    33\n",
       "14     front    33"
      ]
     },
     "execution_count": 36,
     "metadata": {},
     "output_type": "execute_result"
    }
   ],
   "source": [
    "top15 = N.head(15)\n",
    "\n",
    "top15"
   ]
  },
  {
   "cell_type": "markdown",
   "metadata": {
    "slideshow": {
     "slide_type": "slide"
    }
   },
   "source": [
    "**Plot the frequencies**\n",
    "\n",
    "Use `seaborn` to plot our DataFrame of word counts..."
   ]
  },
  {
   "cell_type": "code",
   "execution_count": 37,
   "metadata": {
    "slideshow": {
     "slide_type": "slide"
    }
   },
   "outputs": [
    {
     "data": {
      "image/png": "[encoded data removed]",
      "text/plain": [
       "<Figure size 700x700 with 1 Axes>"
      ]
     },
     "metadata": {},
     "output_type": "display_data"
    }
   ],
   "source": [
    "fig, ax = plt.subplots(figsize=(7, 7))\n",
    "\n",
    "# Plot horizontal bar graph\n",
    "sns.barplot(\n",
    "    y=\"words\",\n",
    "    x=\"size\",\n",
    "    data=top15,\n",
    "    ax=ax,\n",
    "    color=\"#cc3000\",\n",
    "    saturation=1.0,\n",
    ")\n",
    "\n",
    "ax.set_title(\"Most Common Words Found in 311 Requests\", fontsize=16);"
   ]
  },
  {
   "cell_type": "markdown",
   "metadata": {
    "slideshow": {
     "slide_type": "slide"
    }
   },
   "source": [
    "**Takeaway:** Philly cares about trash! They don't call it Filthadelphia for nothing..."
   ]
  },
  {
   "cell_type": "markdown",
   "metadata": {
    "slideshow": {
     "slide_type": "slide"
    }
   },
   "source": [
    "## Sentiment Analysis"
   ]
  },
  {
   "cell_type": "code",
   "execution_count": 38,
   "metadata": {
    "slideshow": {
     "slide_type": "slide"
    }
   },
   "outputs": [],
   "source": [
    "# Data analysis\n",
    "import geopandas as gpd\n",
    "import numpy as np\n",
    "import pandas as pd\n",
    "\n",
    "# APIs\n",
    "import requests\n",
    "\n",
    "# Plotting\n",
    "import seaborn as sns\n",
    "from matplotlib import pyplot as plt\n",
    "import holoviews as hv\n",
    "import hvplot.pandas"
   ]
  },
  {
   "cell_type": "code",
   "execution_count": 39,
   "metadata": {
    "tags": []
   },
   "outputs": [],
   "source": [
    "N = words.groupby(\"words\", as_index=False).size().sort_values(\"size\", ascending=False, ignore_index=True)"
   ]
  },
  {
   "cell_type": "markdown",
   "metadata": {
    "slideshow": {
     "slide_type": "subslide"
    }
   },
   "source": [
    "**The goal**\n",
    "\n",
    "Determine the \"sentiment\" of every word in the English language\n",
    "\n",
    "*The hard way*\n",
    "\n",
    "Train a machine learning algorithm to classify words as positive vs. negative, given an input training sample of words.\n",
    "\n",
    "*The easy way*\n",
    "\n",
    "Luckily, this is a **very common** task in NLP and there are several packages available that have done the hard work for you. \n",
    "\n",
    "They provide out-of-the-box sentiment analysis using pre-trained machine learning algorithms."
   ]
  },
  {
   "cell_type": "markdown",
   "metadata": {},
   "source": [
    "#### The `textblob` package\n",
    "\n",
    "First, let's try out a package called `textblob`. Textblob can calculate the \"polarity\" of words, from negative -1 to postive +1. \n",
    "\n",
    "It's algorithm is not particularly sophisticated (as we will see). It was trained on IMDB movie reviews and uses a dictionary mapping of adjectives to sentiment values. So, it knows about a set of adjectives and an approximate *polarity* for those words. "
   ]
  },
  {
   "cell_type": "markdown",
   "metadata": {},
   "source": [
    "Let's try it out on the words from the 311 requests"
   ]
  },
  {
   "cell_type": "code",
   "execution_count": 40,
   "metadata": {
    "slideshow": {
     "slide_type": "fragment"
    }
   },
   "outputs": [],
   "source": [
    "import textblob"
   ]
  },
  {
   "cell_type": "markdown",
   "metadata": {},
   "source": [
    "First, copy our \"words\" dataframe and drop any duplicate words. We'll try to calculate the sentiment for each word."
   ]
  },
  {
   "cell_type": "code",
   "execution_count": 41,
   "metadata": {
    "tags": []
   },
   "outputs": [],
   "source": [
    "sentiment = words.copy().drop_duplicates(subset=['words'])"
   ]
  },
  {
   "cell_type": "code",
   "execution_count": 42,
   "metadata": {
    "tags": []
   },
   "outputs": [
    {
     "data": {
      "text/html": [
       "<div>\n",
       "<style scoped>\n",
       "    .dataframe tbody tr th:only-of-type {\n",
       "        vertical-align: middle;\n",
       "    }\n",
       "\n",
       "    .dataframe tbody tr th {\n",
       "        vertical-align: top;\n",
       "    }\n",
       "\n",
       "    .dataframe thead th {\n",
       "        text-align: right;\n",
       "    }\n",
       "</style>\n",
       "<table border=\"1\" class=\"dataframe\">\n",
       "  <thead>\n",
       "    <tr style=\"text-align: right;\">\n",
       "      <th></th>\n",
       "      <th>words</th>\n",
       "    </tr>\n",
       "  </thead>\n",
       "  <tbody>\n",
       "    <tr>\n",
       "      <th>0</th>\n",
       "      <td>license</td>\n",
       "    </tr>\n",
       "    <tr>\n",
       "      <th>1</th>\n",
       "      <td>plate</td>\n",
       "    </tr>\n",
       "    <tr>\n",
       "      <th>2</th>\n",
       "      <td>car</td>\n",
       "    </tr>\n",
       "    <tr>\n",
       "      <th>3</th>\n",
       "      <td>parked</td>\n",
       "    </tr>\n",
       "    <tr>\n",
       "      <th>4</th>\n",
       "      <td>2</td>\n",
       "    </tr>\n",
       "  </tbody>\n",
       "</table>\n",
       "</div>"
      ],
      "text/plain": [
       "     words\n",
       "0  license\n",
       "1    plate\n",
       "2      car\n",
       "3   parked\n",
       "4        2"
      ]
     },
     "execution_count": 42,
     "metadata": {},
     "output_type": "execute_result"
    }
   ],
   "source": [
    "sentiment.head()"
   ]
  },
  {
   "cell_type": "markdown",
   "metadata": {
    "slideshow": {
     "slide_type": "slide"
    }
   },
   "source": [
    "Now, create our \"text blob\" objects:"
   ]
  },
  {
   "cell_type": "code",
   "execution_count": 43,
   "metadata": {
    "tags": []
   },
   "outputs": [],
   "source": [
    "blobs = [textblob.TextBlob(word) for word in sentiment['words']]"
   ]
  },
  {
   "cell_type": "markdown",
   "metadata": {},
   "source": [
    "Now use the \".polarity\" attribute to calculate the sentiment:"
   ]
  },
  {
   "cell_type": "code",
   "execution_count": 44,
   "metadata": {
    "tags": []
   },
   "outputs": [],
   "source": [
    "sentiment[\"polarity\"] = [blob.polarity for blob in blobs]"
   ]
  },
  {
   "cell_type": "code",
   "execution_count": 45,
   "metadata": {
    "tags": []
   },
   "outputs": [
    {
     "data": {
      "text/html": [
       "<div>\n",
       "<style scoped>\n",
       "    .dataframe tbody tr th:only-of-type {\n",
       "        vertical-align: middle;\n",
       "    }\n",
       "\n",
       "    .dataframe tbody tr th {\n",
       "        vertical-align: top;\n",
       "    }\n",
       "\n",
       "    .dataframe thead th {\n",
       "        text-align: right;\n",
       "    }\n",
       "</style>\n",
       "<table border=\"1\" class=\"dataframe\">\n",
       "  <thead>\n",
       "    <tr style=\"text-align: right;\">\n",
       "      <th></th>\n",
       "      <th>words</th>\n",
       "      <th>polarity</th>\n",
       "    </tr>\n",
       "  </thead>\n",
       "  <tbody>\n",
       "    <tr>\n",
       "      <th>0</th>\n",
       "      <td>license</td>\n",
       "      <td>0.0</td>\n",
       "    </tr>\n",
       "    <tr>\n",
       "      <th>1</th>\n",
       "      <td>plate</td>\n",
       "      <td>0.0</td>\n",
       "    </tr>\n",
       "    <tr>\n",
       "      <th>2</th>\n",
       "      <td>car</td>\n",
       "      <td>0.0</td>\n",
       "    </tr>\n",
       "    <tr>\n",
       "      <th>3</th>\n",
       "      <td>parked</td>\n",
       "      <td>0.0</td>\n",
       "    </tr>\n",
       "    <tr>\n",
       "      <th>4</th>\n",
       "      <td>2</td>\n",
       "      <td>0.0</td>\n",
       "    </tr>\n",
       "    <tr>\n",
       "      <th>5</th>\n",
       "      <td>months</td>\n",
       "      <td>0.0</td>\n",
       "    </tr>\n",
       "    <tr>\n",
       "      <th>6</th>\n",
       "      <td>house</td>\n",
       "      <td>0.0</td>\n",
       "    </tr>\n",
       "    <tr>\n",
       "      <th>7</th>\n",
       "      <td>skipped</td>\n",
       "      <td>0.0</td>\n",
       "    </tr>\n",
       "    <tr>\n",
       "      <th>8</th>\n",
       "      <td>recycling</td>\n",
       "      <td>0.0</td>\n",
       "    </tr>\n",
       "    <tr>\n",
       "      <th>9</th>\n",
       "      <td>pick</td>\n",
       "      <td>0.0</td>\n",
       "    </tr>\n",
       "  </tbody>\n",
       "</table>\n",
       "</div>"
      ],
      "text/plain": [
       "       words  polarity\n",
       "0    license       0.0\n",
       "1      plate       0.0\n",
       "2        car       0.0\n",
       "3     parked       0.0\n",
       "4          2       0.0\n",
       "5     months       0.0\n",
       "6      house       0.0\n",
       "7    skipped       0.0\n",
       "8  recycling       0.0\n",
       "9       pick       0.0"
      ]
     },
     "execution_count": 45,
     "metadata": {},
     "output_type": "execute_result"
    }
   ],
   "source": [
    "sentiment.head(10)"
   ]
  },
  {
   "cell_type": "markdown",
   "metadata": {},
   "source": [
    "Most of these words are zero!"
   ]
  },
  {
   "cell_type": "code",
   "execution_count": 46,
   "metadata": {
    "tags": []
   },
   "outputs": [
    {
     "data": {
      "text/plain": [
       "1713"
      ]
     },
     "execution_count": 46,
     "metadata": {},
     "output_type": "execute_result"
    }
   ],
   "source": [
    "(sentiment['polarity'] == 0).sum()"
   ]
  },
  {
   "cell_type": "code",
   "execution_count": 47,
   "metadata": {
    "tags": []
   },
   "outputs": [
    {
     "data": {
      "text/plain": [
       "1862"
      ]
     },
     "execution_count": 47,
     "metadata": {},
     "output_type": "execute_result"
    }
   ],
   "source": [
    "len(sentiment)"
   ]
  },
  {
   "cell_type": "markdown",
   "metadata": {},
   "source": [
    "Why did this happen?\n",
    "\n",
    "Because the universe of words that TextBlob knows about is pretty small! Mostly confined to common adjectives/adverbs that appeared in its IMDB review dataset."
   ]
  },
  {
   "cell_type": "markdown",
   "metadata": {},
   "source": [
    "Let's take a look at the words with nonzero polarity:"
   ]
  },
  {
   "cell_type": "code",
   "execution_count": 48,
   "metadata": {
    "tags": []
   },
   "outputs": [],
   "source": [
    "sentiment_nonzero = sentiment.query(\"polarity != 0\")"
   ]
  },
  {
   "cell_type": "markdown",
   "metadata": {},
   "source": [
    "What are the top 15 most positive words?"
   ]
  },
  {
   "cell_type": "code",
   "execution_count": 49,
   "metadata": {
    "tags": []
   },
   "outputs": [
    {
     "data": {
      "text/html": [
       "<div>\n",
       "<style scoped>\n",
       "    .dataframe tbody tr th:only-of-type {\n",
       "        vertical-align: middle;\n",
       "    }\n",
       "\n",
       "    .dataframe tbody tr th {\n",
       "        vertical-align: top;\n",
       "    }\n",
       "\n",
       "    .dataframe thead th {\n",
       "        text-align: right;\n",
       "    }\n",
       "</style>\n",
       "<table border=\"1\" class=\"dataframe\">\n",
       "  <thead>\n",
       "    <tr style=\"text-align: right;\">\n",
       "      <th></th>\n",
       "      <th>words</th>\n",
       "      <th>polarity</th>\n",
       "    </tr>\n",
       "  </thead>\n",
       "  <tbody>\n",
       "    <tr>\n",
       "      <th>0</th>\n",
       "      <td>best</td>\n",
       "      <td>1.0</td>\n",
       "    </tr>\n",
       "    <tr>\n",
       "      <th>1</th>\n",
       "      <td>fly</td>\n",
       "      <td>0.8</td>\n",
       "    </tr>\n",
       "    <tr>\n",
       "      <th>2</th>\n",
       "      <td>good</td>\n",
       "      <td>0.7</td>\n",
       "    </tr>\n",
       "    <tr>\n",
       "      <th>3</th>\n",
       "      <td>hazardous</td>\n",
       "      <td>0.6</td>\n",
       "    </tr>\n",
       "    <tr>\n",
       "      <th>4</th>\n",
       "      <td>lmao</td>\n",
       "      <td>0.6</td>\n",
       "    </tr>\n",
       "    <tr>\n",
       "      <th>5</th>\n",
       "      <td>safely</td>\n",
       "      <td>0.5</td>\n",
       "    </tr>\n",
       "    <tr>\n",
       "      <th>6</th>\n",
       "      <td>safe</td>\n",
       "      <td>0.5</td>\n",
       "    </tr>\n",
       "    <tr>\n",
       "      <th>7</th>\n",
       "      <td>sure</td>\n",
       "      <td>0.5</td>\n",
       "    </tr>\n",
       "    <tr>\n",
       "      <th>8</th>\n",
       "      <td>mostly</td>\n",
       "      <td>0.5</td>\n",
       "    </tr>\n",
       "    <tr>\n",
       "      <th>9</th>\n",
       "      <td>respectful</td>\n",
       "      <td>0.5</td>\n",
       "    </tr>\n",
       "    <tr>\n",
       "      <th>10</th>\n",
       "      <td>many</td>\n",
       "      <td>0.5</td>\n",
       "    </tr>\n",
       "    <tr>\n",
       "      <th>11</th>\n",
       "      <td>more</td>\n",
       "      <td>0.5</td>\n",
       "    </tr>\n",
       "    <tr>\n",
       "      <th>12</th>\n",
       "      <td>latest</td>\n",
       "      <td>0.5</td>\n",
       "    </tr>\n",
       "    <tr>\n",
       "      <th>13</th>\n",
       "      <td>healthy</td>\n",
       "      <td>0.5</td>\n",
       "    </tr>\n",
       "    <tr>\n",
       "      <th>14</th>\n",
       "      <td>able</td>\n",
       "      <td>0.5</td>\n",
       "    </tr>\n",
       "  </tbody>\n",
       "</table>\n",
       "</div>"
      ],
      "text/plain": [
       "         words  polarity\n",
       "0         best       1.0\n",
       "1          fly       0.8\n",
       "2         good       0.7\n",
       "3    hazardous       0.6\n",
       "4         lmao       0.6\n",
       "5       safely       0.5\n",
       "6         safe       0.5\n",
       "7         sure       0.5\n",
       "8       mostly       0.5\n",
       "9   respectful       0.5\n",
       "10        many       0.5\n",
       "11        more       0.5\n",
       "12      latest       0.5\n",
       "13     healthy       0.5\n",
       "14        able       0.5"
      ]
     },
     "execution_count": 49,
     "metadata": {},
     "output_type": "execute_result"
    }
   ],
   "source": [
    "sentiment_nonzero.sort_values(\"polarity\", ascending=False, ignore_index=True).head(15)"
   ]
  },
  {
   "cell_type": "markdown",
   "metadata": {},
   "source": [
    "What are the top 15 most negative words?"
   ]
  },
  {
   "cell_type": "code",
   "execution_count": 50,
   "metadata": {
    "tags": []
   },
   "outputs": [
    {
     "data": {
      "text/html": [
       "<div>\n",
       "<style scoped>\n",
       "    .dataframe tbody tr th:only-of-type {\n",
       "        vertical-align: middle;\n",
       "    }\n",
       "\n",
       "    .dataframe tbody tr th {\n",
       "        vertical-align: top;\n",
       "    }\n",
       "\n",
       "    .dataframe thead th {\n",
       "        text-align: right;\n",
       "    }\n",
       "</style>\n",
       "<table border=\"1\" class=\"dataframe\">\n",
       "  <thead>\n",
       "    <tr style=\"text-align: right;\">\n",
       "      <th></th>\n",
       "      <th>words</th>\n",
       "      <th>polarity</th>\n",
       "    </tr>\n",
       "  </thead>\n",
       "  <tbody>\n",
       "    <tr>\n",
       "      <th>0</th>\n",
       "      <td>worst</td>\n",
       "      <td>-1.000000</td>\n",
       "    </tr>\n",
       "    <tr>\n",
       "      <th>1</th>\n",
       "      <td>terrible</td>\n",
       "      <td>-1.000000</td>\n",
       "    </tr>\n",
       "    <tr>\n",
       "      <th>2</th>\n",
       "      <td>nasty</td>\n",
       "      <td>-1.000000</td>\n",
       "    </tr>\n",
       "    <tr>\n",
       "      <th>3</th>\n",
       "      <td>disgusting</td>\n",
       "      <td>-1.000000</td>\n",
       "    </tr>\n",
       "    <tr>\n",
       "      <th>4</th>\n",
       "      <td>base</td>\n",
       "      <td>-0.800000</td>\n",
       "    </tr>\n",
       "    <tr>\n",
       "      <th>5</th>\n",
       "      <td>sick</td>\n",
       "      <td>-0.714286</td>\n",
       "    </tr>\n",
       "    <tr>\n",
       "      <th>6</th>\n",
       "      <td>bad</td>\n",
       "      <td>-0.700000</td>\n",
       "    </tr>\n",
       "    <tr>\n",
       "      <th>7</th>\n",
       "      <td>impossible</td>\n",
       "      <td>-0.666667</td>\n",
       "    </tr>\n",
       "    <tr>\n",
       "      <th>8</th>\n",
       "      <td>dangerously</td>\n",
       "      <td>-0.600000</td>\n",
       "    </tr>\n",
       "    <tr>\n",
       "      <th>9</th>\n",
       "      <td>cold</td>\n",
       "      <td>-0.600000</td>\n",
       "    </tr>\n",
       "    <tr>\n",
       "      <th>10</th>\n",
       "      <td>crazy</td>\n",
       "      <td>-0.600000</td>\n",
       "    </tr>\n",
       "    <tr>\n",
       "      <th>11</th>\n",
       "      <td>afraid</td>\n",
       "      <td>-0.600000</td>\n",
       "    </tr>\n",
       "    <tr>\n",
       "      <th>12</th>\n",
       "      <td>dangerous</td>\n",
       "      <td>-0.600000</td>\n",
       "    </tr>\n",
       "    <tr>\n",
       "      <th>13</th>\n",
       "      <td>stinks</td>\n",
       "      <td>-0.600000</td>\n",
       "    </tr>\n",
       "    <tr>\n",
       "      <th>14</th>\n",
       "      <td>dirty</td>\n",
       "      <td>-0.600000</td>\n",
       "    </tr>\n",
       "  </tbody>\n",
       "</table>\n",
       "</div>"
      ],
      "text/plain": [
       "          words  polarity\n",
       "0         worst -1.000000\n",
       "1      terrible -1.000000\n",
       "2         nasty -1.000000\n",
       "3    disgusting -1.000000\n",
       "4          base -0.800000\n",
       "5          sick -0.714286\n",
       "6           bad -0.700000\n",
       "7    impossible -0.666667\n",
       "8   dangerously -0.600000\n",
       "9          cold -0.600000\n",
       "10        crazy -0.600000\n",
       "11       afraid -0.600000\n",
       "12    dangerous -0.600000\n",
       "13       stinks -0.600000\n",
       "14        dirty -0.600000"
      ]
     },
     "execution_count": 50,
     "metadata": {},
     "output_type": "execute_result"
    }
   ],
   "source": [
    "sentiment_nonzero.sort_values(\"polarity\", ascending=True, ignore_index=True).head(15)"
   ]
  },
  {
   "cell_type": "markdown",
   "metadata": {},
   "source": [
    "What about a histogram of the sentiment?"
   ]
  },
  {
   "cell_type": "code",
   "execution_count": 51,
   "metadata": {
    "tags": []
   },
   "outputs": [
    {
     "data": {
      "image/png": "[encoded data removed]",
      "text/plain": [
       "<Figure size 800x450 with 1 Axes>"
      ]
     },
     "metadata": {},
     "output_type": "display_data"
    }
   ],
   "source": [
    "# create a figure and axes\n",
    "fig, ax = plt.subplots(figsize=(8, 4.5))\n",
    "\n",
    "# histogram\n",
    "ax.hist(sentiment_nonzero[\"polarity\"], bins=\"auto\")\n",
    "ax.axvline(x=0, c=\"k\", lw=2)\n",
    "\n",
    "# format\n",
    "ax.set_xlabel(\"Polarity\")\n",
    "ax.set_title(\"Polarity of 311 Request Words\", fontsize=16);"
   ]
  },
  {
   "cell_type": "markdown",
   "metadata": {},
   "source": [
    "Hmm...this is surprising! There are many more positive words than I would have guessed!\n",
    "\n",
    "**What could be going on?**\n"
   ]
  },
  {
   "cell_type": "markdown",
   "metadata": {},
   "source": [
    "Most of the 311 requests are in fact *very* negative. They are mostly complaints, after all.\n",
    "\n",
    "In the previous analysis, TextBlob only knows the sentiment for a *small* subset of the words. This is makes it difficult to produce a comprehensive sentiment for the entirety of the text for each 311 request. This is difficult because context really matters! Let's see an example:"
   ]
  },
  {
   "cell_type": "markdown",
   "metadata": {},
   "source": [
    "As you can see in the below example, the negation is not picked up by the algorithm: "
   ]
  },
  {
   "cell_type": "code",
   "execution_count": 52,
   "metadata": {
    "tags": []
   },
   "outputs": [
    {
     "data": {
      "text/plain": [
       "1.0"
      ]
     },
     "execution_count": 52,
     "metadata": {},
     "output_type": "execute_result"
    }
   ],
   "source": [
    "textblob.TextBlob(\"Philly 311 is the best\").polarity"
   ]
  },
  {
   "cell_type": "code",
   "execution_count": 53,
   "metadata": {
    "tags": []
   },
   "outputs": [
    {
     "data": {
      "text/plain": [
       "1.0"
      ]
     },
     "execution_count": 53,
     "metadata": {},
     "output_type": "execute_result"
    }
   ],
   "source": [
    "textblob.TextBlob(\"Philly 311 is NOT the best\").polarity"
   ]
  },
  {
   "cell_type": "markdown",
   "metadata": {},
   "source": [
    "Both are marked as positive! (because of the word \"best\")\n",
    "\n",
    "Can we do better? YES!"
   ]
  },
  {
   "cell_type": "markdown",
   "metadata": {},
   "source": [
    "#### The `transformers` package"
   ]
  },
  {
   "cell_type": "markdown",
   "metadata": {},
   "source": [
    "The Hugging Face `transformers` package ([documentation](https://huggingface.co/docs/transformers/index)) provides access to state-of-the-art, pre-trained machine learning algorithms for natural language processing. \n",
    "\n",
    "It provides access to more sophisticated machine learning models that are capable of measuring the sentiment of a piece of text using the full context of the words.\n",
    "\n"
   ]
  },
  {
   "cell_type": "markdown",
   "metadata": {},
   "source": [
    "We can use the transformers `pipeline()` function to load and run our pre-trained models"
   ]
  },
  {
   "cell_type": "code",
   "execution_count": 54,
   "metadata": {
    "tags": []
   },
   "outputs": [],
   "source": [
    "from transformers import pipeline"
   ]
  },
  {
   "cell_type": "markdown",
   "metadata": {},
   "source": [
    "#### Positive/Negative sentiment analysis\n",
    "\n",
    "We'll start with a version of the [DistilBERT](https://huggingface.co/distilbert-base-uncased-finetuned-sst-2-english) model that has been fine-tuned on the [Stanford Sentiment Treebank](https://huggingface.co/datasets/sst2) dataset.\n",
    "\n",
    "For an input series of text, this model will predict the POSITIVE / NEGATIVE labels with associated confidence scores. It will tell us how likely it thinks the text is positive or negative.\n",
    "\n",
    "::: {.callout-tip}\n",
    "For more info on sentiment analysis with the `transformers` package, check out this [tutorial](https://huggingface.co/docs/transformers/tasks/sequence_classification).\n",
    ":::"
   ]
  },
  {
   "cell_type": "code",
   "execution_count": 55,
   "metadata": {
    "tags": []
   },
   "outputs": [
    {
     "name": "stderr",
     "output_type": "stream",
     "text": [
      "/Users/delmelle/miniforge3/lib/python3.10/site-packages/huggingface_hub/file_download.py:1132: FutureWarning: `resume_download` is deprecated and will be removed in version 1.0.0. Downloads always resume when possible. If you want to force a new download, use `force_download=True`.\n",
      "  warnings.warn(\n"
     ]
    }
   ],
   "source": [
    "# The name of the model we are using\n",
    "model = \"distilbert-base-uncased-finetuned-sst-2-english\"\n",
    "\n",
    "# Initialize our sentiment analyzer\n",
    "sentiment_classifier = pipeline(\n",
    "    task=\"sentiment-analysis\",  # The task we are doing\n",
    "    model=model,  # The specific model name\n",
    "    top_k=None,  # Predict all labels, not just top ones\n",
    "    tokenizer=model,  # Tokenize inputs using model tokenizer\n",
    "    truncation=True,  # Truncate text if we need to\n",
    ")"
   ]
  },
  {
   "cell_type": "markdown",
   "metadata": {},
   "source": [
    "Now, let's pass our original list of request descriptions to the classifier. \n",
    "\n",
    "::: {.callout-note}\n",
    "We don't need to do any text pre-processing here! We'll just pass in the raw text, so no need to remove stop words, punctuation, etc.\n",
    ":::"
   ]
  },
  {
   "cell_type": "markdown",
   "metadata": {},
   "source": [
    "\n",
    "We're now running a much more sophisticated model, so it will take more time to execute! This will likely take 2-3 minutes to run..."
   ]
  },
  {
   "cell_type": "code",
   "execution_count": 56,
   "metadata": {
    "tags": []
   },
   "outputs": [
    {
     "name": "stdout",
     "output_type": "stream",
     "text": [
      "CPU times: user 1min 10s, sys: 1.72 s, total: 1min 12s\n",
      "Wall time: 10.3 s\n"
     ]
    }
   ],
   "source": [
    "%%time\n",
    "\n",
    "scores = sentiment_classifier(descriptions)"
   ]
  },
  {
   "cell_type": "markdown",
   "metadata": {},
   "source": [
    "What does the response structure look like?\n",
    "\n",
    "For each description, we get a dictionary containing the label (`POSITIVE` or `NEGATIVE`) and the associated score:"
   ]
  },
  {
   "cell_type": "code",
   "execution_count": 57,
   "metadata": {
    "tags": []
   },
   "outputs": [
    {
     "data": {
      "text/plain": [
       "[[{'label': 'NEGATIVE', 'score': 0.9968447685241699},\n",
       "  {'label': 'POSITIVE', 'score': 0.003155315760523081}],\n",
       " [{'label': 'NEGATIVE', 'score': 0.9995304346084595},\n",
       "  {'label': 'POSITIVE', 'score': 0.0004696148680523038}],\n",
       " [{'label': 'NEGATIVE', 'score': 0.9974465370178223},\n",
       "  {'label': 'POSITIVE', 'score': 0.0025534331798553467}],\n",
       " [{'label': 'NEGATIVE', 'score': 0.9981185793876648},\n",
       "  {'label': 'POSITIVE', 'score': 0.001881344011053443}],\n",
       " [{'label': 'NEGATIVE', 'score': 0.9982715845108032},\n",
       "  {'label': 'POSITIVE', 'score': 0.0017284060595557094}],\n",
       " [{'label': 'NEGATIVE', 'score': 0.9951809644699097},\n",
       "  {'label': 'POSITIVE', 'score': 0.004819096997380257}],\n",
       " [{'label': 'NEGATIVE', 'score': 0.9953938722610474},\n",
       "  {'label': 'POSITIVE', 'score': 0.0046060942113399506}],\n",
       " [{'label': 'NEGATIVE', 'score': 0.9963836669921875},\n",
       "  {'label': 'POSITIVE', 'score': 0.0036162862088531256}],\n",
       " [{'label': 'NEGATIVE', 'score': 0.6846440434455872},\n",
       "  {'label': 'POSITIVE', 'score': 0.31535595655441284}],\n",
       " [{'label': 'NEGATIVE', 'score': 0.9932594895362854},\n",
       "  {'label': 'POSITIVE', 'score': 0.006740528624504805}]]"
      ]
     },
     "execution_count": 57,
     "metadata": {},
     "output_type": "execute_result"
    }
   ],
   "source": [
    "scores[:10]"
   ]
  },
  {
   "cell_type": "markdown",
   "metadata": {},
   "source": [
    "Let's unpack this to a more useful format:"
   ]
  },
  {
   "cell_type": "code",
   "execution_count": 58,
   "metadata": {
    "tags": []
   },
   "outputs": [],
   "source": [
    "yes_no = pd.DataFrame([{d[\"label\"]: d[\"score\"] for d in dd} for dd in scores]).assign(\n",
    "    text=descriptions\n",
    ")"
   ]
  },
  {
   "cell_type": "code",
   "execution_count": 64,
   "metadata": {
    "tags": []
   },
   "outputs": [
    {
     "data": {
      "text/plain": [
       "0    No license plate. Car has been parked for more...\n",
       "1          Our house was skipped for recycling pick up\n",
       "2       Signage on the verge of falling on pedestrians\n",
       "3                       Metal debris piled on sidewalk\n",
       "4    I live across the street from the small row ho...\n",
       "Name: text, dtype: object"
      ]
     },
     "execution_count": 64,
     "metadata": {},
     "output_type": "execute_result"
    }
   ],
   "source": [
    "yes_no.head()"
   ]
  },
  {
   "cell_type": "markdown",
   "metadata": {},
   "source": [
    "**Note:** The scores summed across both labels will sum up to 1. \n",
    "\n",
    "\n",
    "**Total sentiment calculation**:\n",
    "We can calculate the overall score by multiplying the value for each label, e.g., (POSITIVE = +1 and NEGATIVE = -1) by the confidence score for each label. This gives an overall sentiment estimate for each piece of text:"
   ]
  },
  {
   "cell_type": "code",
   "execution_count": 65,
   "metadata": {
    "tags": []
   },
   "outputs": [],
   "source": [
    "yes_no[\"sentiment\"] = (yes_no[\"POSITIVE\"] * +1) + (yes_no[\"NEGATIVE\"] * -1)"
   ]
  },
  {
   "cell_type": "code",
   "execution_count": 66,
   "metadata": {
    "tags": []
   },
   "outputs": [
    {
     "data": {
      "text/html": [
       "<div>\n",
       "<style scoped>\n",
       "    .dataframe tbody tr th:only-of-type {\n",
       "        vertical-align: middle;\n",
       "    }\n",
       "\n",
       "    .dataframe tbody tr th {\n",
       "        vertical-align: top;\n",
       "    }\n",
       "\n",
       "    .dataframe thead th {\n",
       "        text-align: right;\n",
       "    }\n",
       "</style>\n",
       "<table border=\"1\" class=\"dataframe\">\n",
       "  <thead>\n",
       "    <tr style=\"text-align: right;\">\n",
       "      <th></th>\n",
       "      <th>NEGATIVE</th>\n",
       "      <th>POSITIVE</th>\n",
       "      <th>text</th>\n",
       "      <th>sentiment</th>\n",
       "    </tr>\n",
       "  </thead>\n",
       "  <tbody>\n",
       "    <tr>\n",
       "      <th>0</th>\n",
       "      <td>0.996845</td>\n",
       "      <td>0.003155</td>\n",
       "      <td>No license plate. Car has been parked for more...</td>\n",
       "      <td>-0.993689</td>\n",
       "    </tr>\n",
       "    <tr>\n",
       "      <th>1</th>\n",
       "      <td>0.999530</td>\n",
       "      <td>0.000470</td>\n",
       "      <td>Our house was skipped for recycling pick up</td>\n",
       "      <td>-0.999061</td>\n",
       "    </tr>\n",
       "    <tr>\n",
       "      <th>2</th>\n",
       "      <td>0.997447</td>\n",
       "      <td>0.002553</td>\n",
       "      <td>Signage on the verge of falling on pedestrians</td>\n",
       "      <td>-0.994893</td>\n",
       "    </tr>\n",
       "    <tr>\n",
       "      <th>3</th>\n",
       "      <td>0.998119</td>\n",
       "      <td>0.001881</td>\n",
       "      <td>Metal debris piled on sidewalk</td>\n",
       "      <td>-0.996237</td>\n",
       "    </tr>\n",
       "    <tr>\n",
       "      <th>4</th>\n",
       "      <td>0.998272</td>\n",
       "      <td>0.001728</td>\n",
       "      <td>I live across the street from the small row ho...</td>\n",
       "      <td>-0.996543</td>\n",
       "    </tr>\n",
       "  </tbody>\n",
       "</table>\n",
       "</div>"
      ],
      "text/plain": [
       "   NEGATIVE  POSITIVE                                               text  \\\n",
       "0  0.996845  0.003155  No license plate. Car has been parked for more...   \n",
       "1  0.999530  0.000470        Our house was skipped for recycling pick up   \n",
       "2  0.997447  0.002553     Signage on the verge of falling on pedestrians   \n",
       "3  0.998119  0.001881                     Metal debris piled on sidewalk   \n",
       "4  0.998272  0.001728  I live across the street from the small row ho...   \n",
       "\n",
       "   sentiment  \n",
       "0  -0.993689  \n",
       "1  -0.999061  \n",
       "2  -0.994893  \n",
       "3  -0.996237  \n",
       "4  -0.996543  "
      ]
     },
     "execution_count": 66,
     "metadata": {},
     "output_type": "execute_result"
    }
   ],
   "source": [
    "yes_no.head()"
   ]
  },
  {
   "cell_type": "markdown",
   "metadata": {},
   "source": [
    "**Question:** Are most of the reviews positive or negative?\n"
   ]
  },
  {
   "cell_type": "markdown",
   "metadata": {},
   "source": [
    "Let's take a look at the mean and median:"
   ]
  },
  {
   "cell_type": "code",
   "execution_count": 67,
   "metadata": {
    "tags": []
   },
   "outputs": [
    {
     "data": {
      "text/plain": [
       "-0.8349780015063472"
      ]
     },
     "execution_count": 67,
     "metadata": {},
     "output_type": "execute_result"
    }
   ],
   "source": [
    "yes_no['sentiment'].mean()"
   ]
  },
  {
   "cell_type": "code",
   "execution_count": 68,
   "metadata": {
    "tags": []
   },
   "outputs": [
    {
     "data": {
      "text/plain": [
       "-0.9954100323375314"
      ]
     },
     "execution_count": 68,
     "metadata": {},
     "output_type": "execute_result"
    }
   ],
   "source": [
    "yes_no['sentiment'].median()"
   ]
  },
  {
   "cell_type": "markdown",
   "metadata": {},
   "source": [
    "Ah! By far, most of these are negative!\n",
    "\n",
    "Philadelphians using the 311 system appear to be *very* upset."
   ]
  },
  {
   "cell_type": "markdown",
   "metadata": {},
   "source": [
    "Let's take a look at the overall histogram of sentiment too:"
   ]
  },
  {
   "cell_type": "code",
   "execution_count": 69,
   "metadata": {
    "tags": []
   },
   "outputs": [
    {
     "data": {
      "image/png": "[encoded data removed]",
      "text/plain": [
       "<Figure size 800x450 with 1 Axes>"
      ]
     },
     "metadata": {},
     "output_type": "display_data"
    }
   ],
   "source": [
    "# Create a figure and axes\n",
    "fig, ax = plt.subplots(figsize=(8, 4.5))\n",
    "\n",
    "# Histogram\n",
    "ax.hist(yes_no['sentiment'], bins=\"auto\")\n",
    "ax.axvline(x=0, c=\"k\", lw=2)\n",
    "\n",
    "# Format\n",
    "ax.set_xlabel(\"Polarity\")\n",
    "ax.set_title(\"Polarity of 311 Requests\", fontsize=16);"
   ]
  },
  {
   "cell_type": "markdown",
   "metadata": {},
   "source": [
    "Whoa! Very negative sentiment!\n",
    "\n",
    "**This makes much more sense than our earlier results with the Textblob package.**"
   ]
  },
  {
   "cell_type": "markdown",
   "metadata": {},
   "source": [
    "Let's look at the 10 requests with the lowest sentiment scores:"
   ]
  },
  {
   "cell_type": "code",
   "execution_count": 70,
   "metadata": {
    "tags": []
   },
   "outputs": [
    {
     "data": {
      "text/html": [
       "<div>\n",
       "<style scoped>\n",
       "    .dataframe tbody tr th:only-of-type {\n",
       "        vertical-align: middle;\n",
       "    }\n",
       "\n",
       "    .dataframe tbody tr th {\n",
       "        vertical-align: top;\n",
       "    }\n",
       "\n",
       "    .dataframe thead th {\n",
       "        text-align: right;\n",
       "    }\n",
       "</style>\n",
       "<table border=\"1\" class=\"dataframe\">\n",
       "  <thead>\n",
       "    <tr style=\"text-align: right;\">\n",
       "      <th></th>\n",
       "      <th>NEGATIVE</th>\n",
       "      <th>POSITIVE</th>\n",
       "      <th>text</th>\n",
       "      <th>sentiment</th>\n",
       "    </tr>\n",
       "  </thead>\n",
       "  <tbody>\n",
       "    <tr>\n",
       "      <th>339</th>\n",
       "      <td>0.999801</td>\n",
       "      <td>0.000199</td>\n",
       "      <td>Looks like a sink hole</td>\n",
       "      <td>-0.999602</td>\n",
       "    </tr>\n",
       "    <tr>\n",
       "      <th>26</th>\n",
       "      <td>0.999796</td>\n",
       "      <td>0.000204</td>\n",
       "      <td>The car has been sitting in front of my house ...</td>\n",
       "      <td>-0.999593</td>\n",
       "    </tr>\n",
       "    <tr>\n",
       "      <th>191</th>\n",
       "      <td>0.999795</td>\n",
       "      <td>0.000205</td>\n",
       "      <td>A large service ditch in the left driving lane...</td>\n",
       "      <td>-0.999590</td>\n",
       "    </tr>\n",
       "    <tr>\n",
       "      <th>425</th>\n",
       "      <td>0.999792</td>\n",
       "      <td>0.000208</td>\n",
       "      <td>Large sink hole at the stop sign</td>\n",
       "      <td>-0.999585</td>\n",
       "    </tr>\n",
       "    <tr>\n",
       "      <th>305</th>\n",
       "      <td>0.999790</td>\n",
       "      <td>0.000210</td>\n",
       "      <td>Abandoned by local park over 6mo. All tires flat</td>\n",
       "      <td>-0.999581</td>\n",
       "    </tr>\n",
       "    <tr>\n",
       "      <th>78</th>\n",
       "      <td>0.999778</td>\n",
       "      <td>0.000222</td>\n",
       "      <td>Pothole is getting worse .</td>\n",
       "      <td>-0.999556</td>\n",
       "    </tr>\n",
       "    <tr>\n",
       "      <th>226</th>\n",
       "      <td>0.999775</td>\n",
       "      <td>0.000225</td>\n",
       "      <td>gray Ford Fusion appears disabled parked in th...</td>\n",
       "      <td>-0.999550</td>\n",
       "    </tr>\n",
       "    <tr>\n",
       "      <th>277</th>\n",
       "      <td>0.999774</td>\n",
       "      <td>0.000226</td>\n",
       "      <td>There are three inlets on the 2100 block of E ...</td>\n",
       "      <td>-0.999548</td>\n",
       "    </tr>\n",
       "    <tr>\n",
       "      <th>217</th>\n",
       "      <td>0.999767</td>\n",
       "      <td>0.000233</td>\n",
       "      <td>The oversized large indented hole is in front ...</td>\n",
       "      <td>-0.999535</td>\n",
       "    </tr>\n",
       "    <tr>\n",
       "      <th>219</th>\n",
       "      <td>0.999766</td>\n",
       "      <td>0.000234</td>\n",
       "      <td>Random assortment of dumped items. Started wit...</td>\n",
       "      <td>-0.999532</td>\n",
       "    </tr>\n",
       "  </tbody>\n",
       "</table>\n",
       "</div>"
      ],
      "text/plain": [
       "     NEGATIVE  POSITIVE                                               text  \\\n",
       "339  0.999801  0.000199                             Looks like a sink hole   \n",
       "26   0.999796  0.000204  The car has been sitting in front of my house ...   \n",
       "191  0.999795  0.000205  A large service ditch in the left driving lane...   \n",
       "425  0.999792  0.000208                   Large sink hole at the stop sign   \n",
       "305  0.999790  0.000210   Abandoned by local park over 6mo. All tires flat   \n",
       "78   0.999778  0.000222                         Pothole is getting worse .   \n",
       "226  0.999775  0.000225  gray Ford Fusion appears disabled parked in th...   \n",
       "277  0.999774  0.000226  There are three inlets on the 2100 block of E ...   \n",
       "217  0.999767  0.000233  The oversized large indented hole is in front ...   \n",
       "219  0.999766  0.000234  Random assortment of dumped items. Started wit...   \n",
       "\n",
       "     sentiment  \n",
       "339  -0.999602  \n",
       "26   -0.999593  \n",
       "191  -0.999590  \n",
       "425  -0.999585  \n",
       "305  -0.999581  \n",
       "78   -0.999556  \n",
       "226  -0.999550  \n",
       "277  -0.999548  \n",
       "217  -0.999535  \n",
       "219  -0.999532  "
      ]
     },
     "execution_count": 70,
     "metadata": {},
     "output_type": "execute_result"
    }
   ],
   "source": [
    "yes_no.sort_values(\"sentiment\", ascending=True).head(10)"
   ]
  },
  {
   "cell_type": "markdown",
   "metadata": {},
   "source": [
    "And the 10 requests with the highest sentiment:"
   ]
  },
  {
   "cell_type": "code",
   "execution_count": 173,
   "metadata": {
    "tags": []
   },
   "outputs": [
    {
     "data": {
      "text/html": [
       "<div>\n",
       "<style scoped>\n",
       "    .dataframe tbody tr th:only-of-type {\n",
       "        vertical-align: middle;\n",
       "    }\n",
       "\n",
       "    .dataframe tbody tr th {\n",
       "        vertical-align: top;\n",
       "    }\n",
       "\n",
       "    .dataframe thead th {\n",
       "        text-align: right;\n",
       "    }\n",
       "</style>\n",
       "<table border=\"1\" class=\"dataframe\">\n",
       "  <thead>\n",
       "    <tr style=\"text-align: right;\">\n",
       "      <th></th>\n",
       "      <th>NEGATIVE</th>\n",
       "      <th>POSITIVE</th>\n",
       "      <th>text</th>\n",
       "      <th>sentiment</th>\n",
       "    </tr>\n",
       "  </thead>\n",
       "  <tbody>\n",
       "    <tr>\n",
       "      <th>276</th>\n",
       "      <td>0.000185</td>\n",
       "      <td>0.999815</td>\n",
       "      <td>Murphy Recreation Center rear wall.  Thank you.</td>\n",
       "      <td>0.999631</td>\n",
       "    </tr>\n",
       "    <tr>\n",
       "      <th>373</th>\n",
       "      <td>0.000289</td>\n",
       "      <td>0.999711</td>\n",
       "      <td>Graffiti on sign. Please and thank you!</td>\n",
       "      <td>0.999422</td>\n",
       "    </tr>\n",
       "    <tr>\n",
       "      <th>153</th>\n",
       "      <td>0.000361</td>\n",
       "      <td>0.999639</td>\n",
       "      <td>Graffiti and stickers on parking sign pole. Pl...</td>\n",
       "      <td>0.999278</td>\n",
       "    </tr>\n",
       "    <tr>\n",
       "      <th>246</th>\n",
       "      <td>0.000832</td>\n",
       "      <td>0.999168</td>\n",
       "      <td>Again!!!</td>\n",
       "      <td>0.998336</td>\n",
       "    </tr>\n",
       "    <tr>\n",
       "      <th>214</th>\n",
       "      <td>0.004345</td>\n",
       "      <td>0.995655</td>\n",
       "      <td>street light out</td>\n",
       "      <td>0.991310</td>\n",
       "    </tr>\n",
       "    <tr>\n",
       "      <th>141</th>\n",
       "      <td>0.005592</td>\n",
       "      <td>0.994408</td>\n",
       "      <td>School district of Philadelphia</td>\n",
       "      <td>0.988816</td>\n",
       "    </tr>\n",
       "    <tr>\n",
       "      <th>44</th>\n",
       "      <td>0.005714</td>\n",
       "      <td>0.994286</td>\n",
       "      <td>Unleveled sidewalk where water collects/pools ...</td>\n",
       "      <td>0.988572</td>\n",
       "    </tr>\n",
       "    <tr>\n",
       "      <th>181</th>\n",
       "      <td>0.007140</td>\n",
       "      <td>0.992860</td>\n",
       "      <td>Please help and correct for all my neighbors s...</td>\n",
       "      <td>0.985720</td>\n",
       "    </tr>\n",
       "    <tr>\n",
       "      <th>449</th>\n",
       "      <td>0.010813</td>\n",
       "      <td>0.989187</td>\n",
       "      <td>Please pick up or remove this illegal dumping ...</td>\n",
       "      <td>0.978373</td>\n",
       "    </tr>\n",
       "    <tr>\n",
       "      <th>204</th>\n",
       "      <td>0.011188</td>\n",
       "      <td>0.988812</td>\n",
       "      <td>Capri restaurant building a new structure</td>\n",
       "      <td>0.977624</td>\n",
       "    </tr>\n",
       "  </tbody>\n",
       "</table>\n",
       "</div>"
      ],
      "text/plain": [
       "     NEGATIVE  POSITIVE                                               text  \\\n",
       "276  0.000185  0.999815    Murphy Recreation Center rear wall.  Thank you.   \n",
       "373  0.000289  0.999711            Graffiti on sign. Please and thank you!   \n",
       "153  0.000361  0.999639  Graffiti and stickers on parking sign pole. Pl...   \n",
       "246  0.000832  0.999168                                           Again!!!   \n",
       "214  0.004345  0.995655                                   street light out   \n",
       "141  0.005592  0.994408                    School district of Philadelphia   \n",
       "44   0.005714  0.994286  Unleveled sidewalk where water collects/pools ...   \n",
       "181  0.007140  0.992860  Please help and correct for all my neighbors s...   \n",
       "449  0.010813  0.989187  Please pick up or remove this illegal dumping ...   \n",
       "204  0.011188  0.988812          Capri restaurant building a new structure   \n",
       "\n",
       "     sentiment  \n",
       "276   0.999631  \n",
       "373   0.999422  \n",
       "153   0.999278  \n",
       "246   0.998336  \n",
       "214   0.991310  \n",
       "141   0.988816  \n",
       "44    0.988572  \n",
       "181   0.985720  \n",
       "449   0.978373  \n",
       "204   0.977624  "
      ]
     },
     "execution_count": 173,
     "metadata": {},
     "output_type": "execute_result"
    }
   ],
   "source": [
    "yes_no.sort_values(\"sentiment\", ascending=False).head(10)"
   ]
  },
  {
   "cell_type": "markdown",
   "metadata": {},
   "source": [
    "**Takeaway**\n",
    "\n",
    "The model is still clearly focusing on some crucial words (please, thank you = \"positive\") but overall, doing a much, much better job overall of understanding the full context of the text. "
   ]
  },
  {
   "cell_type": "markdown",
   "metadata": {},
   "source": [
    "#### Emotion sentiment analysis\n",
    "\n",
    "The `transformers` package also includes pre-trained models that can predict *emotion* labels. \n",
    "\n",
    "As an example, let's try out [this version](https://huggingface.co/bhadresh-savani/distilbert-base-uncased-emotion) of the DistilBERT model that can predict the following labels for a string of text: anger, fear, sadness, joy, love, and surprise."
   ]
  },
  {
   "cell_type": "code",
   "execution_count": 72,
   "metadata": {
    "tags": []
   },
   "outputs": [
    {
     "name": "stderr",
     "output_type": "stream",
     "text": [
      "/Users/delmelle/miniforge3/lib/python3.10/site-packages/huggingface_hub/file_download.py:1132: FutureWarning: `resume_download` is deprecated and will be removed in version 1.0.0. Downloads always resume when possible. If you want to force a new download, use `force_download=True`.\n",
      "  warnings.warn(\n"
     ]
    }
   ],
   "source": [
    "# The model\n",
    "model = \"bhadresh-savani/distilbert-base-uncased-emotion\"\n",
    "\n",
    "# Initialize our sentiment analyzer\n",
    "emotion_classifier = pipeline(\n",
    "    task=\"text-classification\",  # The task we are doing\n",
    "    model=model,  # The specific model name\n",
    "    top_k=None,  # Predict all labels, not just top ones\n",
    "    tokenizer=model,  # Tokenize inputs using model tokenizer\n",
    "    truncation=True,  # Truncate text if we need to\n",
    ")"
   ]
  },
  {
   "cell_type": "markdown",
   "metadata": {},
   "source": [
    "Classify the 311 descriptions using our emotions model. Once again, this will likely take 2-3 minutes to run:"
   ]
  },
  {
   "cell_type": "code",
   "execution_count": 73,
   "metadata": {
    "tags": []
   },
   "outputs": [
    {
     "name": "stdout",
     "output_type": "stream",
     "text": [
      "CPU times: user 1min 8s, sys: 1.22 s, total: 1min 9s\n",
      "Wall time: 8.75 s\n"
     ]
    }
   ],
   "source": [
    "%%time \n",
    "\n",
    "emotion_scores = emotion_classifier(descriptions)"
   ]
  },
  {
   "cell_type": "code",
   "execution_count": 74,
   "metadata": {
    "tags": []
   },
   "outputs": [
    {
     "data": {
      "text/plain": [
       "[{'label': 'fear', 'score': 0.7331622242927551},\n",
       " {'label': 'anger', 'score': 0.23640018701553345},\n",
       " {'label': 'sadness', 'score': 0.013925026170909405},\n",
       " {'label': 'joy', 'score': 0.013106637634336948},\n",
       " {'label': 'surprise', 'score': 0.0023219578433781862},\n",
       " {'label': 'love', 'score': 0.0010839784517884254}]"
      ]
     },
     "execution_count": 74,
     "metadata": {},
     "output_type": "execute_result"
    }
   ],
   "source": [
    "emotion_scores[0]"
   ]
  },
  {
   "cell_type": "markdown",
   "metadata": {},
   "source": [
    "Unpack the label/score combos into a DataFrame:"
   ]
  },
  {
   "cell_type": "code",
   "execution_count": 75,
   "metadata": {
    "tags": []
   },
   "outputs": [],
   "source": [
    "emotion = pd.DataFrame(\n",
    "    [{d[\"label\"]: d[\"score\"] for d in dd} for dd in emotion_scores]\n",
    ").assign(text=descriptions)"
   ]
  },
  {
   "cell_type": "code",
   "execution_count": 76,
   "metadata": {
    "tags": []
   },
   "outputs": [
    {
     "data": {
      "text/html": [
       "<div>\n",
       "<style scoped>\n",
       "    .dataframe tbody tr th:only-of-type {\n",
       "        vertical-align: middle;\n",
       "    }\n",
       "\n",
       "    .dataframe tbody tr th {\n",
       "        vertical-align: top;\n",
       "    }\n",
       "\n",
       "    .dataframe thead th {\n",
       "        text-align: right;\n",
       "    }\n",
       "</style>\n",
       "<table border=\"1\" class=\"dataframe\">\n",
       "  <thead>\n",
       "    <tr style=\"text-align: right;\">\n",
       "      <th></th>\n",
       "      <th>fear</th>\n",
       "      <th>anger</th>\n",
       "      <th>sadness</th>\n",
       "      <th>joy</th>\n",
       "      <th>surprise</th>\n",
       "      <th>love</th>\n",
       "      <th>text</th>\n",
       "    </tr>\n",
       "  </thead>\n",
       "  <tbody>\n",
       "    <tr>\n",
       "      <th>0</th>\n",
       "      <td>0.733162</td>\n",
       "      <td>0.236400</td>\n",
       "      <td>0.013925</td>\n",
       "      <td>0.013107</td>\n",
       "      <td>0.002322</td>\n",
       "      <td>0.001084</td>\n",
       "      <td>No license plate. Car has been parked for more than 2 months</td>\n",
       "    </tr>\n",
       "    <tr>\n",
       "      <th>1</th>\n",
       "      <td>0.026432</td>\n",
       "      <td>0.805123</td>\n",
       "      <td>0.145952</td>\n",
       "      <td>0.019186</td>\n",
       "      <td>0.002276</td>\n",
       "      <td>0.001031</td>\n",
       "      <td>Our house was skipped for recycling pick up</td>\n",
       "    </tr>\n",
       "    <tr>\n",
       "      <th>2</th>\n",
       "      <td>0.982022</td>\n",
       "      <td>0.011605</td>\n",
       "      <td>0.003893</td>\n",
       "      <td>0.001234</td>\n",
       "      <td>0.001005</td>\n",
       "      <td>0.000241</td>\n",
       "      <td>Signage on the verge of falling on pedestrians</td>\n",
       "    </tr>\n",
       "    <tr>\n",
       "      <th>3</th>\n",
       "      <td>0.925558</td>\n",
       "      <td>0.047537</td>\n",
       "      <td>0.017832</td>\n",
       "      <td>0.003040</td>\n",
       "      <td>0.005226</td>\n",
       "      <td>0.000807</td>\n",
       "      <td>Metal debris piled on sidewalk</td>\n",
       "    </tr>\n",
       "    <tr>\n",
       "      <th>4</th>\n",
       "      <td>0.991878</td>\n",
       "      <td>0.004407</td>\n",
       "      <td>0.002045</td>\n",
       "      <td>0.000935</td>\n",
       "      <td>0.000492</td>\n",
       "      <td>0.000243</td>\n",
       "      <td>I live across the street from the small row home that is inhabited by squatters who have propane tanks all over the living room that I can see as I walk by when they leave their door open. They are drug users so my biggest fear is that they fall asleep or like something on fire and they call an explosion. They also are soliciting sex for drugs out of the home and I have all of this on camera footage not the propane tanks but I can try to get pictures next time The door is open. My biggest fear is I have a teenage daughter and something is going to happen that causes me or my family harm.</td>\n",
       "    </tr>\n",
       "  </tbody>\n",
       "</table>\n",
       "</div>"
      ],
      "text/plain": [
       "       fear     anger   sadness       joy  surprise      love  \\\n",
       "0  0.733162  0.236400  0.013925  0.013107  0.002322  0.001084   \n",
       "1  0.026432  0.805123  0.145952  0.019186  0.002276  0.001031   \n",
       "2  0.982022  0.011605  0.003893  0.001234  0.001005  0.000241   \n",
       "3  0.925558  0.047537  0.017832  0.003040  0.005226  0.000807   \n",
       "4  0.991878  0.004407  0.002045  0.000935  0.000492  0.000243   \n",
       "\n",
       "                                                                                                                                                                                                                                                                                                                                                                                                                                                                                                                                                                                                                 text  \n",
       "0                                                                                                                                                                                                                                                                                                                                                                                                                                                                                                                                                        No license plate. Car has been parked for more than 2 months  \n",
       "1                                                                                                                                                                                                                                                                                                                                                                                                                                                                                                                                                                         Our house was skipped for recycling pick up  \n",
       "2                                                                                                                                                                                                                                                                                                                                                                                                                                                                                                                                                                      Signage on the verge of falling on pedestrians  \n",
       "3                                                                                                                                                                                                                                                                                                                                                                                                                                                                                                                                                                                      Metal debris piled on sidewalk  \n",
       "4  I live across the street from the small row home that is inhabited by squatters who have propane tanks all over the living room that I can see as I walk by when they leave their door open. They are drug users so my biggest fear is that they fall asleep or like something on fire and they call an explosion. They also are soliciting sex for drugs out of the home and I have all of this on camera footage not the propane tanks but I can try to get pictures next time The door is open. My biggest fear is I have a teenage daughter and something is going to happen that causes me or my family harm.  "
      ]
     },
     "execution_count": 76,
     "metadata": {},
     "output_type": "execute_result"
    }
   ],
   "source": [
    "emotion.head()"
   ]
  },
  {
   "cell_type": "markdown",
   "metadata": {},
   "source": [
    "Now, let's calculate the predicted label for each text. This is the label with the highest score for each text."
   ]
  },
  {
   "cell_type": "code",
   "execution_count": 77,
   "metadata": {
    "tags": []
   },
   "outputs": [],
   "source": [
    "emotion_labels = [\"anger\", \"fear\", \"sadness\", \"joy\", \"surprise\", \"love\"]"
   ]
  },
  {
   "cell_type": "markdown",
   "metadata": {},
   "source": [
    "Use the `idxmax()` function to find the column with the maximum value for each row:"
   ]
  },
  {
   "cell_type": "code",
   "execution_count": 78,
   "metadata": {
    "tags": []
   },
   "outputs": [
    {
     "data": {
      "text/plain": [
       "0         fear\n",
       "1        anger\n",
       "2         fear\n",
       "3         fear\n",
       "4         fear\n",
       "5         fear\n",
       "6         fear\n",
       "7         fear\n",
       "8        anger\n",
       "9        anger\n",
       "10     sadness\n",
       "11       anger\n",
       "12        fear\n",
       "13        fear\n",
       "14       anger\n",
       "15         joy\n",
       "16     sadness\n",
       "17       anger\n",
       "18     sadness\n",
       "19        fear\n",
       "20       anger\n",
       "21       anger\n",
       "22        fear\n",
       "23       anger\n",
       "24       anger\n",
       "25        fear\n",
       "26       anger\n",
       "27        fear\n",
       "28        fear\n",
       "29        fear\n",
       "30        fear\n",
       "31       anger\n",
       "32       anger\n",
       "33       anger\n",
       "34       anger\n",
       "35       anger\n",
       "36         joy\n",
       "37     sadness\n",
       "38        fear\n",
       "39         joy\n",
       "40         joy\n",
       "41       anger\n",
       "42        fear\n",
       "43         joy\n",
       "44       anger\n",
       "45        fear\n",
       "46       anger\n",
       "47       anger\n",
       "48        fear\n",
       "49     sadness\n",
       "50     sadness\n",
       "51        fear\n",
       "52        fear\n",
       "53        fear\n",
       "54        fear\n",
       "55       anger\n",
       "56        fear\n",
       "57       anger\n",
       "58         joy\n",
       "59       anger\n",
       "60       anger\n",
       "61         joy\n",
       "62       anger\n",
       "63        fear\n",
       "64       anger\n",
       "65         joy\n",
       "66     sadness\n",
       "67        fear\n",
       "68       anger\n",
       "69        fear\n",
       "70         joy\n",
       "71         joy\n",
       "72     sadness\n",
       "73        fear\n",
       "74        fear\n",
       "75       anger\n",
       "76        fear\n",
       "77       anger\n",
       "78       anger\n",
       "79       anger\n",
       "80       anger\n",
       "81        fear\n",
       "82       anger\n",
       "83     sadness\n",
       "84       anger\n",
       "85     sadness\n",
       "86     sadness\n",
       "87        fear\n",
       "88       anger\n",
       "89        fear\n",
       "90        fear\n",
       "91        fear\n",
       "92       anger\n",
       "93       anger\n",
       "94       anger\n",
       "95        fear\n",
       "96       anger\n",
       "97     sadness\n",
       "98         joy\n",
       "99        fear\n",
       "100       fear\n",
       "101    sadness\n",
       "102      anger\n",
       "103      anger\n",
       "104       fear\n",
       "105       fear\n",
       "106       fear\n",
       "107       fear\n",
       "108    sadness\n",
       "109       fear\n",
       "110    sadness\n",
       "111       fear\n",
       "112      anger\n",
       "113      anger\n",
       "114       fear\n",
       "115    sadness\n",
       "116       fear\n",
       "117      anger\n",
       "118      anger\n",
       "119      anger\n",
       "120    sadness\n",
       "121      anger\n",
       "122      anger\n",
       "123    sadness\n",
       "124      anger\n",
       "125    sadness\n",
       "126       fear\n",
       "127        joy\n",
       "128    sadness\n",
       "129       fear\n",
       "130       fear\n",
       "131       fear\n",
       "132       fear\n",
       "133      anger\n",
       "134      anger\n",
       "135      anger\n",
       "136       fear\n",
       "137      anger\n",
       "138      anger\n",
       "139       fear\n",
       "140      anger\n",
       "141      anger\n",
       "142       fear\n",
       "143       fear\n",
       "144    sadness\n",
       "145       fear\n",
       "146        joy\n",
       "147        joy\n",
       "148    sadness\n",
       "149       fear\n",
       "150       fear\n",
       "151    sadness\n",
       "152       fear\n",
       "153      anger\n",
       "154       fear\n",
       "155       fear\n",
       "156       fear\n",
       "157      anger\n",
       "158      anger\n",
       "159    sadness\n",
       "160       fear\n",
       "161       fear\n",
       "162    sadness\n",
       "163    sadness\n",
       "164       fear\n",
       "165       fear\n",
       "166      anger\n",
       "167       fear\n",
       "168       fear\n",
       "169       fear\n",
       "170       fear\n",
       "171       fear\n",
       "172       fear\n",
       "173       fear\n",
       "174    sadness\n",
       "175      anger\n",
       "176        joy\n",
       "177      anger\n",
       "178      anger\n",
       "179    sadness\n",
       "180    sadness\n",
       "181    sadness\n",
       "182    sadness\n",
       "183    sadness\n",
       "184       fear\n",
       "185      anger\n",
       "186      anger\n",
       "187       fear\n",
       "188    sadness\n",
       "189      anger\n",
       "190      anger\n",
       "191       fear\n",
       "192    sadness\n",
       "193    sadness\n",
       "194       fear\n",
       "195      anger\n",
       "196      anger\n",
       "197       fear\n",
       "198       fear\n",
       "199        joy\n",
       "200       fear\n",
       "201        joy\n",
       "202      anger\n",
       "203       fear\n",
       "204      anger\n",
       "205    sadness\n",
       "206      anger\n",
       "207    sadness\n",
       "208       fear\n",
       "209      anger\n",
       "210      anger\n",
       "211    sadness\n",
       "212    sadness\n",
       "213      anger\n",
       "214       fear\n",
       "215       fear\n",
       "216       fear\n",
       "217       fear\n",
       "218    sadness\n",
       "219      anger\n",
       "220    sadness\n",
       "221       fear\n",
       "222       fear\n",
       "223       fear\n",
       "224    sadness\n",
       "225       fear\n",
       "226    sadness\n",
       "227       fear\n",
       "228    sadness\n",
       "229    sadness\n",
       "230       fear\n",
       "231       fear\n",
       "232       fear\n",
       "233    sadness\n",
       "234      anger\n",
       "235      anger\n",
       "236       fear\n",
       "237      anger\n",
       "238       fear\n",
       "239       fear\n",
       "240       fear\n",
       "241        joy\n",
       "242      anger\n",
       "243      anger\n",
       "244       fear\n",
       "245       fear\n",
       "246        joy\n",
       "247    sadness\n",
       "248        joy\n",
       "249       fear\n",
       "250        joy\n",
       "251       fear\n",
       "252        joy\n",
       "253        joy\n",
       "254        joy\n",
       "255        joy\n",
       "256      anger\n",
       "257    sadness\n",
       "258      anger\n",
       "259       fear\n",
       "260        joy\n",
       "261       fear\n",
       "262       fear\n",
       "263      anger\n",
       "264       fear\n",
       "265       fear\n",
       "266       fear\n",
       "267        joy\n",
       "268      anger\n",
       "269    sadness\n",
       "270       fear\n",
       "271    sadness\n",
       "272       fear\n",
       "273      anger\n",
       "274    sadness\n",
       "275    sadness\n",
       "276        joy\n",
       "277    sadness\n",
       "278       fear\n",
       "279       fear\n",
       "280      anger\n",
       "281      anger\n",
       "282      anger\n",
       "283      anger\n",
       "284      anger\n",
       "285       fear\n",
       "286    sadness\n",
       "287       fear\n",
       "288       fear\n",
       "289       fear\n",
       "290       fear\n",
       "291    sadness\n",
       "292        joy\n",
       "293       fear\n",
       "294       fear\n",
       "295      anger\n",
       "296       fear\n",
       "297       fear\n",
       "298      anger\n",
       "299      anger\n",
       "300    sadness\n",
       "301       fear\n",
       "302       fear\n",
       "303       fear\n",
       "304       fear\n",
       "305    sadness\n",
       "306      anger\n",
       "307      anger\n",
       "308      anger\n",
       "309       fear\n",
       "310       fear\n",
       "311       fear\n",
       "312      anger\n",
       "313       fear\n",
       "314      anger\n",
       "315       fear\n",
       "316      anger\n",
       "317       fear\n",
       "318       fear\n",
       "319    sadness\n",
       "320      anger\n",
       "321       fear\n",
       "322      anger\n",
       "323      anger\n",
       "324      anger\n",
       "325      anger\n",
       "326       fear\n",
       "327    sadness\n",
       "328       fear\n",
       "329      anger\n",
       "330      anger\n",
       "331      anger\n",
       "332      anger\n",
       "333      anger\n",
       "334      anger\n",
       "335        joy\n",
       "336       fear\n",
       "337    sadness\n",
       "338      anger\n",
       "339      anger\n",
       "340    sadness\n",
       "341       fear\n",
       "342    sadness\n",
       "343       fear\n",
       "344    sadness\n",
       "345       fear\n",
       "346      anger\n",
       "347    sadness\n",
       "348    sadness\n",
       "349    sadness\n",
       "350       fear\n",
       "351       fear\n",
       "352        joy\n",
       "353       fear\n",
       "354       fear\n",
       "355    sadness\n",
       "356      anger\n",
       "357      anger\n",
       "358    sadness\n",
       "359       fear\n",
       "360       fear\n",
       "361    sadness\n",
       "362       fear\n",
       "363       fear\n",
       "364       fear\n",
       "365       fear\n",
       "366       fear\n",
       "367       fear\n",
       "368       fear\n",
       "369       fear\n",
       "370       fear\n",
       "371       fear\n",
       "372       fear\n",
       "373       fear\n",
       "374       fear\n",
       "375    sadness\n",
       "376       fear\n",
       "377       fear\n",
       "378       fear\n",
       "379       fear\n",
       "380    sadness\n",
       "381      anger\n",
       "382       fear\n",
       "383    sadness\n",
       "384      anger\n",
       "385        joy\n",
       "386      anger\n",
       "387       fear\n",
       "388      anger\n",
       "389       fear\n",
       "390        joy\n",
       "391      anger\n",
       "392    sadness\n",
       "393       fear\n",
       "394       fear\n",
       "395      anger\n",
       "396       fear\n",
       "397      anger\n",
       "398      anger\n",
       "399      anger\n",
       "400      anger\n",
       "401      anger\n",
       "402    sadness\n",
       "403      anger\n",
       "404        joy\n",
       "405      anger\n",
       "406      anger\n",
       "407       fear\n",
       "408        joy\n",
       "409      anger\n",
       "410      anger\n",
       "411       fear\n",
       "412    sadness\n",
       "413       fear\n",
       "414       fear\n",
       "415      anger\n",
       "416       fear\n",
       "417       fear\n",
       "418      anger\n",
       "419       fear\n",
       "420       fear\n",
       "421      anger\n",
       "422       fear\n",
       "423       fear\n",
       "424    sadness\n",
       "425      anger\n",
       "426    sadness\n",
       "427      anger\n",
       "428       fear\n",
       "429       fear\n",
       "430    sadness\n",
       "431       fear\n",
       "432       fear\n",
       "433        joy\n",
       "434       fear\n",
       "435       fear\n",
       "436       fear\n",
       "437      anger\n",
       "438      anger\n",
       "439      anger\n",
       "440       fear\n",
       "441      anger\n",
       "442       fear\n",
       "443      anger\n",
       "444       fear\n",
       "445      anger\n",
       "446       fear\n",
       "447      anger\n",
       "448      anger\n",
       "449        joy\n",
       "450      anger\n",
       "451      anger\n",
       "452       fear\n",
       "dtype: object"
      ]
     },
     "execution_count": 78,
     "metadata": {},
     "output_type": "execute_result"
    }
   ],
   "source": [
    "emotion[emotion_labels].idxmax(axis=1)"
   ]
  },
  {
   "cell_type": "code",
   "execution_count": 79,
   "metadata": {
    "tags": []
   },
   "outputs": [],
   "source": [
    "emotion['prediction'] = emotion[emotion_labels].idxmax(axis=1)"
   ]
  },
  {
   "cell_type": "code",
   "execution_count": 80,
   "metadata": {
    "tags": []
   },
   "outputs": [
    {
     "data": {
      "text/html": [
       "<div>\n",
       "<style scoped>\n",
       "    .dataframe tbody tr th:only-of-type {\n",
       "        vertical-align: middle;\n",
       "    }\n",
       "\n",
       "    .dataframe tbody tr th {\n",
       "        vertical-align: top;\n",
       "    }\n",
       "\n",
       "    .dataframe thead th {\n",
       "        text-align: right;\n",
       "    }\n",
       "</style>\n",
       "<table border=\"1\" class=\"dataframe\">\n",
       "  <thead>\n",
       "    <tr style=\"text-align: right;\">\n",
       "      <th></th>\n",
       "      <th>fear</th>\n",
       "      <th>anger</th>\n",
       "      <th>sadness</th>\n",
       "      <th>joy</th>\n",
       "      <th>surprise</th>\n",
       "      <th>love</th>\n",
       "      <th>text</th>\n",
       "      <th>prediction</th>\n",
       "    </tr>\n",
       "  </thead>\n",
       "  <tbody>\n",
       "    <tr>\n",
       "      <th>0</th>\n",
       "      <td>0.733162</td>\n",
       "      <td>0.236400</td>\n",
       "      <td>0.013925</td>\n",
       "      <td>0.013107</td>\n",
       "      <td>0.002322</td>\n",
       "      <td>0.001084</td>\n",
       "      <td>No license plate. Car has been parked for more than 2 months</td>\n",
       "      <td>fear</td>\n",
       "    </tr>\n",
       "    <tr>\n",
       "      <th>1</th>\n",
       "      <td>0.026432</td>\n",
       "      <td>0.805123</td>\n",
       "      <td>0.145952</td>\n",
       "      <td>0.019186</td>\n",
       "      <td>0.002276</td>\n",
       "      <td>0.001031</td>\n",
       "      <td>Our house was skipped for recycling pick up</td>\n",
       "      <td>anger</td>\n",
       "    </tr>\n",
       "    <tr>\n",
       "      <th>2</th>\n",
       "      <td>0.982022</td>\n",
       "      <td>0.011605</td>\n",
       "      <td>0.003893</td>\n",
       "      <td>0.001234</td>\n",
       "      <td>0.001005</td>\n",
       "      <td>0.000241</td>\n",
       "      <td>Signage on the verge of falling on pedestrians</td>\n",
       "      <td>fear</td>\n",
       "    </tr>\n",
       "    <tr>\n",
       "      <th>3</th>\n",
       "      <td>0.925558</td>\n",
       "      <td>0.047537</td>\n",
       "      <td>0.017832</td>\n",
       "      <td>0.003040</td>\n",
       "      <td>0.005226</td>\n",
       "      <td>0.000807</td>\n",
       "      <td>Metal debris piled on sidewalk</td>\n",
       "      <td>fear</td>\n",
       "    </tr>\n",
       "    <tr>\n",
       "      <th>4</th>\n",
       "      <td>0.991878</td>\n",
       "      <td>0.004407</td>\n",
       "      <td>0.002045</td>\n",
       "      <td>0.000935</td>\n",
       "      <td>0.000492</td>\n",
       "      <td>0.000243</td>\n",
       "      <td>I live across the street from the small row home that is inhabited by squatters who have propane tanks all over the living room that I can see as I walk by when they leave their door open. They are drug users so my biggest fear is that they fall asleep or like something on fire and they call an explosion. They also are soliciting sex for drugs out of the home and I have all of this on camera footage not the propane tanks but I can try to get pictures next time The door is open. My biggest fear is I have a teenage daughter and something is going to happen that causes me or my family harm.</td>\n",
       "      <td>fear</td>\n",
       "    </tr>\n",
       "  </tbody>\n",
       "</table>\n",
       "</div>"
      ],
      "text/plain": [
       "       fear     anger   sadness       joy  surprise      love  \\\n",
       "0  0.733162  0.236400  0.013925  0.013107  0.002322  0.001084   \n",
       "1  0.026432  0.805123  0.145952  0.019186  0.002276  0.001031   \n",
       "2  0.982022  0.011605  0.003893  0.001234  0.001005  0.000241   \n",
       "3  0.925558  0.047537  0.017832  0.003040  0.005226  0.000807   \n",
       "4  0.991878  0.004407  0.002045  0.000935  0.000492  0.000243   \n",
       "\n",
       "                                                                                                                                                                                                                                                                                                                                                                                                                                                                                                                                                                                                                 text  \\\n",
       "0                                                                                                                                                                                                                                                                                                                                                                                                                                                                                                                                                        No license plate. Car has been parked for more than 2 months   \n",
       "1                                                                                                                                                                                                                                                                                                                                                                                                                                                                                                                                                                         Our house was skipped for recycling pick up   \n",
       "2                                                                                                                                                                                                                                                                                                                                                                                                                                                                                                                                                                      Signage on the verge of falling on pedestrians   \n",
       "3                                                                                                                                                                                                                                                                                                                                                                                                                                                                                                                                                                                      Metal debris piled on sidewalk   \n",
       "4  I live across the street from the small row home that is inhabited by squatters who have propane tanks all over the living room that I can see as I walk by when they leave their door open. They are drug users so my biggest fear is that they fall asleep or like something on fire and they call an explosion. They also are soliciting sex for drugs out of the home and I have all of this on camera footage not the propane tanks but I can try to get pictures next time The door is open. My biggest fear is I have a teenage daughter and something is going to happen that causes me or my family harm.   \n",
       "\n",
       "  prediction  \n",
       "0       fear  \n",
       "1      anger  \n",
       "2       fear  \n",
       "3       fear  \n",
       "4       fear  "
      ]
     },
     "execution_count": 80,
     "metadata": {},
     "output_type": "execute_result"
    }
   ],
   "source": [
    "emotion.head()"
   ]
  },
  {
   "cell_type": "markdown",
   "metadata": {},
   "source": [
    "What's the breakdown across the predicted labels?"
   ]
  },
  {
   "cell_type": "code",
   "execution_count": 81,
   "metadata": {
    "tags": []
   },
   "outputs": [
    {
     "data": {
      "image/png": "[encoded data removed]",
      "text/plain": [
       "<Figure size 640x480 with 1 Axes>"
      ]
     },
     "metadata": {},
     "output_type": "display_data"
    }
   ],
   "source": [
    "emotion.groupby(\"prediction\").size().plot(kind='barh');"
   ]
  },
  {
   "cell_type": "markdown",
   "metadata": {},
   "source": [
    "**Takeaway:**  Most descriptions are classified as \"fear\" or \"anger\""
   ]
  },
  {
   "cell_type": "markdown",
   "metadata": {},
   "source": [
    "How about visualizing the full distribution of scores across all emotions?\n",
    "\n",
    "Let's get a tidy version for analysis:"
   ]
  },
  {
   "cell_type": "code",
   "execution_count": 82,
   "metadata": {
    "tags": []
   },
   "outputs": [],
   "source": [
    "emotion_tidy = emotion.melt(\n",
    "    id_vars=[\"text\"], value_vars=emotion_labels, var_name=\"emotion\", value_name=\"score\"\n",
    ")"
   ]
  },
  {
   "cell_type": "code",
   "execution_count": 83,
   "metadata": {
    "tags": []
   },
   "outputs": [
    {
     "data": {
      "text/html": [
       "<div>\n",
       "<style scoped>\n",
       "    .dataframe tbody tr th:only-of-type {\n",
       "        vertical-align: middle;\n",
       "    }\n",
       "\n",
       "    .dataframe tbody tr th {\n",
       "        vertical-align: top;\n",
       "    }\n",
       "\n",
       "    .dataframe thead th {\n",
       "        text-align: right;\n",
       "    }\n",
       "</style>\n",
       "<table border=\"1\" class=\"dataframe\">\n",
       "  <thead>\n",
       "    <tr style=\"text-align: right;\">\n",
       "      <th></th>\n",
       "      <th>text</th>\n",
       "      <th>emotion</th>\n",
       "      <th>score</th>\n",
       "    </tr>\n",
       "  </thead>\n",
       "  <tbody>\n",
       "    <tr>\n",
       "      <th>0</th>\n",
       "      <td>No license plate. Car has been parked for more than 2 months</td>\n",
       "      <td>anger</td>\n",
       "      <td>0.236400</td>\n",
       "    </tr>\n",
       "    <tr>\n",
       "      <th>1</th>\n",
       "      <td>Our house was skipped for recycling pick up</td>\n",
       "      <td>anger</td>\n",
       "      <td>0.805123</td>\n",
       "    </tr>\n",
       "    <tr>\n",
       "      <th>2</th>\n",
       "      <td>Signage on the verge of falling on pedestrians</td>\n",
       "      <td>anger</td>\n",
       "      <td>0.011605</td>\n",
       "    </tr>\n",
       "    <tr>\n",
       "      <th>3</th>\n",
       "      <td>Metal debris piled on sidewalk</td>\n",
       "      <td>anger</td>\n",
       "      <td>0.047537</td>\n",
       "    </tr>\n",
       "    <tr>\n",
       "      <th>4</th>\n",
       "      <td>I live across the street from the small row home that is inhabited by squatters who have propane tanks all over the living room that I can see as I walk by when they leave their door open. They are drug users so my biggest fear is that they fall asleep or like something on fire and they call an explosion. They also are soliciting sex for drugs out of the home and I have all of this on camera footage not the propane tanks but I can try to get pictures next time The door is open. My biggest fear is I have a teenage daughter and something is going to happen that causes me or my family harm.</td>\n",
       "      <td>anger</td>\n",
       "      <td>0.004407</td>\n",
       "    </tr>\n",
       "  </tbody>\n",
       "</table>\n",
       "</div>"
      ],
      "text/plain": [
       "                                                                                                                                                                                                                                                                                                                                                                                                                                                                                                                                                                                                                 text  \\\n",
       "0                                                                                                                                                                                                                                                                                                                                                                                                                                                                                                                                                        No license plate. Car has been parked for more than 2 months   \n",
       "1                                                                                                                                                                                                                                                                                                                                                                                                                                                                                                                                                                         Our house was skipped for recycling pick up   \n",
       "2                                                                                                                                                                                                                                                                                                                                                                                                                                                                                                                                                                      Signage on the verge of falling on pedestrians   \n",
       "3                                                                                                                                                                                                                                                                                                                                                                                                                                                                                                                                                                                      Metal debris piled on sidewalk   \n",
       "4  I live across the street from the small row home that is inhabited by squatters who have propane tanks all over the living room that I can see as I walk by when they leave their door open. They are drug users so my biggest fear is that they fall asleep or like something on fire and they call an explosion. They also are soliciting sex for drugs out of the home and I have all of this on camera footage not the propane tanks but I can try to get pictures next time The door is open. My biggest fear is I have a teenage daughter and something is going to happen that causes me or my family harm.   \n",
       "\n",
       "  emotion     score  \n",
       "0   anger  0.236400  \n",
       "1   anger  0.805123  \n",
       "2   anger  0.011605  \n",
       "3   anger  0.047537  \n",
       "4   anger  0.004407  "
      ]
     },
     "execution_count": 83,
     "metadata": {},
     "output_type": "execute_result"
    }
   ],
   "source": [
    "emotion_tidy.head()"
   ]
  },
  {
   "cell_type": "markdown",
   "metadata": {},
   "source": [
    "Make a box plot of the distribution across all emotions:"
   ]
  },
  {
   "cell_type": "code",
   "execution_count": 84,
   "metadata": {
    "tags": []
   },
   "outputs": [
    {
     "data": {
      "image/png": "[encoded data removed]",
      "text/plain": [
       "<Figure size 511.111x500 with 1 Axes>"
      ]
     },
     "metadata": {},
     "output_type": "display_data"
    }
   ],
   "source": [
    "sns.catplot(data=emotion_tidy, x=\"emotion\", y=\"score\", kind=\"box\");"
   ]
  },
  {
   "cell_type": "markdown",
   "metadata": {},
   "source": [
    "**Takeaway:**\n",
    "\n",
    "Fear and anger! For emotions other than anger/fear, confidence scores are concentrated near zero, indicating that the text likely does not contain those emotions."
   ]
  },
  {
   "cell_type": "markdown",
   "metadata": {},
   "source": [
    "Let's do a deeper dive on some of the emotions:"
   ]
  },
  {
   "cell_type": "markdown",
   "metadata": {},
   "source": [
    "**Anger**"
   ]
  },
  {
   "cell_type": "code",
   "execution_count": 85,
   "metadata": {
    "tags": []
   },
   "outputs": [],
   "source": [
    "angry_requests = emotion.query(\"anger > 0.8\").sort_values(\"anger\", ascending=False)"
   ]
  },
  {
   "cell_type": "code",
   "execution_count": 86,
   "metadata": {
    "tags": []
   },
   "outputs": [
    {
     "data": {
      "text/plain": [
       "58"
      ]
     },
     "execution_count": 86,
     "metadata": {},
     "output_type": "execute_result"
    }
   ],
   "source": [
    "len(angry_requests)"
   ]
  },
  {
   "cell_type": "code",
   "execution_count": 87,
   "metadata": {
    "tags": []
   },
   "outputs": [
    {
     "data": {
      "text/html": [
       "<div>\n",
       "<style scoped>\n",
       "    .dataframe tbody tr th:only-of-type {\n",
       "        vertical-align: middle;\n",
       "    }\n",
       "\n",
       "    .dataframe tbody tr th {\n",
       "        vertical-align: top;\n",
       "    }\n",
       "\n",
       "    .dataframe thead th {\n",
       "        text-align: right;\n",
       "    }\n",
       "</style>\n",
       "<table border=\"1\" class=\"dataframe\">\n",
       "  <thead>\n",
       "    <tr style=\"text-align: right;\">\n",
       "      <th></th>\n",
       "      <th>fear</th>\n",
       "      <th>anger</th>\n",
       "      <th>sadness</th>\n",
       "      <th>joy</th>\n",
       "      <th>surprise</th>\n",
       "      <th>love</th>\n",
       "      <th>text</th>\n",
       "      <th>prediction</th>\n",
       "    </tr>\n",
       "  </thead>\n",
       "  <tbody>\n",
       "    <tr>\n",
       "      <th>134</th>\n",
       "      <td>0.000784</td>\n",
       "      <td>0.998015</td>\n",
       "      <td>0.000587</td>\n",
       "      <td>0.000264</td>\n",
       "      <td>0.000162</td>\n",
       "      <td>0.000188</td>\n",
       "      <td>Trash collection didn't pick up trash that's on the curb. Picked up all neighbors trash but never bothered to look on curb at my residence.</td>\n",
       "      <td>anger</td>\n",
       "    </tr>\n",
       "    <tr>\n",
       "      <th>346</th>\n",
       "      <td>0.001738</td>\n",
       "      <td>0.996879</td>\n",
       "      <td>0.000417</td>\n",
       "      <td>0.000441</td>\n",
       "      <td>0.000193</td>\n",
       "      <td>0.000333</td>\n",
       "      <td>Very Dangerous and has been there for a long while.</td>\n",
       "      <td>anger</td>\n",
       "    </tr>\n",
       "    <tr>\n",
       "      <th>284</th>\n",
       "      <td>0.001728</td>\n",
       "      <td>0.996067</td>\n",
       "      <td>0.000893</td>\n",
       "      <td>0.000678</td>\n",
       "      <td>0.000261</td>\n",
       "      <td>0.000374</td>\n",
       "      <td>This is disgusting. It needs to be clean. It is deadly and can kill a kid</td>\n",
       "      <td>anger</td>\n",
       "    </tr>\n",
       "    <tr>\n",
       "      <th>421</th>\n",
       "      <td>0.003270</td>\n",
       "      <td>0.995120</td>\n",
       "      <td>0.000603</td>\n",
       "      <td>0.000580</td>\n",
       "      <td>0.000172</td>\n",
       "      <td>0.000254</td>\n",
       "      <td>Hi! \\r\\n\\r\\nThis person continues to park here for most of the day and night. They think it's their personal parking spot. It's extremely dangerous as you can't see as you pull out of Ogden and people can't see you coming up 16th. This has been a problem for over a year now and it's not enforced. This person is just the latest taking advantage of that. I've seen many accidents and have been part of one myself. I've been trying to report this for months, but I've never seen a ticket on their car. And I see it daily</td>\n",
       "      <td>anger</td>\n",
       "    </tr>\n",
       "    <tr>\n",
       "      <th>334</th>\n",
       "      <td>0.003793</td>\n",
       "      <td>0.994834</td>\n",
       "      <td>0.000641</td>\n",
       "      <td>0.000316</td>\n",
       "      <td>0.000162</td>\n",
       "      <td>0.000254</td>\n",
       "      <td>dangerous motorcycle on sidewalk, have ìt removed.  Dangerous for children and pedestrian.</td>\n",
       "      <td>anger</td>\n",
       "    </tr>\n",
       "    <tr>\n",
       "      <th>94</th>\n",
       "      <td>0.002170</td>\n",
       "      <td>0.994699</td>\n",
       "      <td>0.002430</td>\n",
       "      <td>0.000417</td>\n",
       "      <td>0.000125</td>\n",
       "      <td>0.000159</td>\n",
       "      <td>Empty lot for years - tons of dangerous metal, rocks, and trash. Tons of trash - property owners have not taken care of lot.</td>\n",
       "      <td>anger</td>\n",
       "    </tr>\n",
       "    <tr>\n",
       "      <th>24</th>\n",
       "      <td>0.004276</td>\n",
       "      <td>0.994185</td>\n",
       "      <td>0.000472</td>\n",
       "      <td>0.000551</td>\n",
       "      <td>0.000202</td>\n",
       "      <td>0.000315</td>\n",
       "      <td>Can you place speed cushions on Ellicott road? Cars are speeding thru the neighborhood. There are kids playing everywhere in the neighborhood. Very dangerous for children</td>\n",
       "      <td>anger</td>\n",
       "    </tr>\n",
       "    <tr>\n",
       "      <th>381</th>\n",
       "      <td>0.004392</td>\n",
       "      <td>0.993281</td>\n",
       "      <td>0.001329</td>\n",
       "      <td>0.000635</td>\n",
       "      <td>0.000159</td>\n",
       "      <td>0.000204</td>\n",
       "      <td>There are two breaks, bracketing this address, though not too closely. Maybe emerging from the property, but the southern break is definitely damaging the sidewalk integrity in a dangerous way, like a forming sinkhole. I tried calling the Water Emergency number but it hung up on me repeatedly.</td>\n",
       "      <td>anger</td>\n",
       "    </tr>\n",
       "    <tr>\n",
       "      <th>84</th>\n",
       "      <td>0.005923</td>\n",
       "      <td>0.992241</td>\n",
       "      <td>0.000838</td>\n",
       "      <td>0.000620</td>\n",
       "      <td>0.000180</td>\n",
       "      <td>0.000198</td>\n",
       "      <td>Traffic light not working at this extremely dangerous intersection</td>\n",
       "      <td>anger</td>\n",
       "    </tr>\n",
       "    <tr>\n",
       "      <th>166</th>\n",
       "      <td>0.008769</td>\n",
       "      <td>0.989099</td>\n",
       "      <td>0.000808</td>\n",
       "      <td>0.000853</td>\n",
       "      <td>0.000215</td>\n",
       "      <td>0.000258</td>\n",
       "      <td>The illuminating light at the traffic stop (not the traffic light) is not working making it dangerous.</td>\n",
       "      <td>anger</td>\n",
       "    </tr>\n",
       "    <tr>\n",
       "      <th>306</th>\n",
       "      <td>0.009358</td>\n",
       "      <td>0.988848</td>\n",
       "      <td>0.000753</td>\n",
       "      <td>0.000574</td>\n",
       "      <td>0.000223</td>\n",
       "      <td>0.000244</td>\n",
       "      <td>Stop sign has come off its post, and tons of people are blowing through the intersection now, creating a dangerous situation. Tons of kids in the neighborhood and a park one block east. Needs to be fixed immediately.</td>\n",
       "      <td>anger</td>\n",
       "    </tr>\n",
       "    <tr>\n",
       "      <th>158</th>\n",
       "      <td>0.001566</td>\n",
       "      <td>0.988236</td>\n",
       "      <td>0.007613</td>\n",
       "      <td>0.001890</td>\n",
       "      <td>0.000165</td>\n",
       "      <td>0.000531</td>\n",
       "      <td>4900 to 5000 n pine street the whole block dangerous pot holes your whole tire goes down. Going to be a terrible accident. Please repair. Thank you.</td>\n",
       "      <td>anger</td>\n",
       "    </tr>\n",
       "    <tr>\n",
       "      <th>213</th>\n",
       "      <td>0.010939</td>\n",
       "      <td>0.986847</td>\n",
       "      <td>0.001292</td>\n",
       "      <td>0.000472</td>\n",
       "      <td>0.000199</td>\n",
       "      <td>0.000252</td>\n",
       "      <td>Dangerous hike from water line shut off. Turn on. Hole is present.</td>\n",
       "      <td>anger</td>\n",
       "    </tr>\n",
       "    <tr>\n",
       "      <th>273</th>\n",
       "      <td>0.004262</td>\n",
       "      <td>0.982962</td>\n",
       "      <td>0.011525</td>\n",
       "      <td>0.000729</td>\n",
       "      <td>0.000261</td>\n",
       "      <td>0.000261</td>\n",
       "      <td>Sewage being pumped out on the sidewalk all day. It smells bad.\\r\\nTenant is renting the house and complained to me that the landlord is not doing anything and it stinks. See picture attached, the water that is on the street all day, the entire street stinks.</td>\n",
       "      <td>anger</td>\n",
       "    </tr>\n",
       "    <tr>\n",
       "      <th>26</th>\n",
       "      <td>0.008429</td>\n",
       "      <td>0.980050</td>\n",
       "      <td>0.009402</td>\n",
       "      <td>0.001563</td>\n",
       "      <td>0.000270</td>\n",
       "      <td>0.000287</td>\n",
       "      <td>The car has been sitting in front of my house for two weeks and it looks like it’s abandon the car is beat up, it has 4 flat tires and doesn’t move.</td>\n",
       "      <td>anger</td>\n",
       "    </tr>\n",
       "    <tr>\n",
       "      <th>137</th>\n",
       "      <td>0.017101</td>\n",
       "      <td>0.979958</td>\n",
       "      <td>0.001696</td>\n",
       "      <td>0.000763</td>\n",
       "      <td>0.000214</td>\n",
       "      <td>0.000269</td>\n",
       "      <td>Constant presence of trash and cans at the intersection of N American and W Laurel. This is the eastern entrance to Liberty Lands that the NLNA does not maintain. Blocks intersection, making it dangerous for pedestrians and not passable for wheelchairs and strollers. NLNA/Liberty Lands refuses to address this.</td>\n",
       "      <td>anger</td>\n",
       "    </tr>\n",
       "    <tr>\n",
       "      <th>308</th>\n",
       "      <td>0.018758</td>\n",
       "      <td>0.977491</td>\n",
       "      <td>0.001754</td>\n",
       "      <td>0.001429</td>\n",
       "      <td>0.000242</td>\n",
       "      <td>0.000325</td>\n",
       "      <td>They are throwing debris in the back and it is dangerous since that is an escape route in case of fire.</td>\n",
       "      <td>anger</td>\n",
       "    </tr>\n",
       "    <tr>\n",
       "      <th>438</th>\n",
       "      <td>0.003735</td>\n",
       "      <td>0.975286</td>\n",
       "      <td>0.016483</td>\n",
       "      <td>0.003576</td>\n",
       "      <td>0.000306</td>\n",
       "      <td>0.000613</td>\n",
       "      <td>Clothes drying on car not healthy very nasty can hang clothesline in yard to dry clothes public housing residents</td>\n",
       "      <td>anger</td>\n",
       "    </tr>\n",
       "    <tr>\n",
       "      <th>418</th>\n",
       "      <td>0.010476</td>\n",
       "      <td>0.968256</td>\n",
       "      <td>0.009228</td>\n",
       "      <td>0.010769</td>\n",
       "      <td>0.000416</td>\n",
       "      <td>0.000856</td>\n",
       "      <td>Flashing on side of subsidized senior living facility - Birchwood at Grays Ferry - is detached and is going to fly off from the wind.  \\r\\n\\r\\nNegligent Developer/Owner - Ingerman Senior Communties\\r\\n\\r\\nhttps://livebirchwood.com/communities/birchwood-at-grays-ferry/</td>\n",
       "      <td>anger</td>\n",
       "    </tr>\n",
       "    <tr>\n",
       "      <th>112</th>\n",
       "      <td>0.031159</td>\n",
       "      <td>0.964427</td>\n",
       "      <td>0.002860</td>\n",
       "      <td>0.000946</td>\n",
       "      <td>0.000323</td>\n",
       "      <td>0.000285</td>\n",
       "      <td>714 Bigler Street, Philadelphia is illegally renting individual rooms out to illegal immigrants.  There has been nothing but fights and cops called to the property repeatedly.  The home owner is ignoring all calls as both homeowners on the side of the property are sick of dealing with the police.  Please have someone investigate this home.</td>\n",
       "      <td>anger</td>\n",
       "    </tr>\n",
       "  </tbody>\n",
       "</table>\n",
       "</div>"
      ],
      "text/plain": [
       "         fear     anger   sadness       joy  surprise      love  \\\n",
       "134  0.000784  0.998015  0.000587  0.000264  0.000162  0.000188   \n",
       "346  0.001738  0.996879  0.000417  0.000441  0.000193  0.000333   \n",
       "284  0.001728  0.996067  0.000893  0.000678  0.000261  0.000374   \n",
       "421  0.003270  0.995120  0.000603  0.000580  0.000172  0.000254   \n",
       "334  0.003793  0.994834  0.000641  0.000316  0.000162  0.000254   \n",
       "94   0.002170  0.994699  0.002430  0.000417  0.000125  0.000159   \n",
       "24   0.004276  0.994185  0.000472  0.000551  0.000202  0.000315   \n",
       "381  0.004392  0.993281  0.001329  0.000635  0.000159  0.000204   \n",
       "84   0.005923  0.992241  0.000838  0.000620  0.000180  0.000198   \n",
       "166  0.008769  0.989099  0.000808  0.000853  0.000215  0.000258   \n",
       "306  0.009358  0.988848  0.000753  0.000574  0.000223  0.000244   \n",
       "158  0.001566  0.988236  0.007613  0.001890  0.000165  0.000531   \n",
       "213  0.010939  0.986847  0.001292  0.000472  0.000199  0.000252   \n",
       "273  0.004262  0.982962  0.011525  0.000729  0.000261  0.000261   \n",
       "26   0.008429  0.980050  0.009402  0.001563  0.000270  0.000287   \n",
       "137  0.017101  0.979958  0.001696  0.000763  0.000214  0.000269   \n",
       "308  0.018758  0.977491  0.001754  0.001429  0.000242  0.000325   \n",
       "438  0.003735  0.975286  0.016483  0.003576  0.000306  0.000613   \n",
       "418  0.010476  0.968256  0.009228  0.010769  0.000416  0.000856   \n",
       "112  0.031159  0.964427  0.002860  0.000946  0.000323  0.000285   \n",
       "\n",
       "                                                                                                                                                                                                                                                                                                                                                                                                                                                                                                                                        text  \\\n",
       "134                                                                                                                                                                                                                                                                                                                                                                                              Trash collection didn't pick up trash that's on the curb. Picked up all neighbors trash but never bothered to look on curb at my residence.   \n",
       "346                                                                                                                                                                                                                                                                                                                                                                                                                                                                                      Very Dangerous and has been there for a long while.   \n",
       "284                                                                                                                                                                                                                                                                                                                                                                                                                                                                This is disgusting. It needs to be clean. It is deadly and can kill a kid   \n",
       "421  Hi! \\r\\n\\r\\nThis person continues to park here for most of the day and night. They think it's their personal parking spot. It's extremely dangerous as you can't see as you pull out of Ogden and people can't see you coming up 16th. This has been a problem for over a year now and it's not enforced. This person is just the latest taking advantage of that. I've seen many accidents and have been part of one myself. I've been trying to report this for months, but I've never seen a ticket on their car. And I see it daily   \n",
       "334                                                                                                                                                                                                                                                                                                                                                                                                                                               dangerous motorcycle on sidewalk, have ìt removed.  Dangerous for children and pedestrian.   \n",
       "94                                                                                                                                                                                                                                                                                                                                                                                                              Empty lot for years - tons of dangerous metal, rocks, and trash. Tons of trash - property owners have not taken care of lot.   \n",
       "24                                                                                                                                                                                                                                                                                                                                                                Can you place speed cushions on Ellicott road? Cars are speeding thru the neighborhood. There are kids playing everywhere in the neighborhood. Very dangerous for children   \n",
       "381                                                                                                                                                                                                                                   There are two breaks, bracketing this address, though not too closely. Maybe emerging from the property, but the southern break is definitely damaging the sidewalk integrity in a dangerous way, like a forming sinkhole. I tried calling the Water Emergency number but it hung up on me repeatedly.   \n",
       "84                                                                                                                                                                                                                                                                                                                                                                                                                                                                        Traffic light not working at this extremely dangerous intersection   \n",
       "166                                                                                                                                                                                                                                                                                                                                                                                                                                   The illuminating light at the traffic stop (not the traffic light) is not working making it dangerous.   \n",
       "306                                                                                                                                                                                                                                                                                                                 Stop sign has come off its post, and tons of people are blowing through the intersection now, creating a dangerous situation. Tons of kids in the neighborhood and a park one block east. Needs to be fixed immediately.   \n",
       "158                                                                                                                                                                                                                                                                                                                                                                                     4900 to 5000 n pine street the whole block dangerous pot holes your whole tire goes down. Going to be a terrible accident. Please repair. Thank you.   \n",
       "213                                                                                                                                                                                                                                                                                                                                                                                                                                                                       Dangerous hike from water line shut off. Turn on. Hole is present.   \n",
       "273                                                                                                                                                                                                                                                                      Sewage being pumped out on the sidewalk all day. It smells bad.\\r\\nTenant is renting the house and complained to me that the landlord is not doing anything and it stinks. See picture attached, the water that is on the street all day, the entire street stinks.   \n",
       "26                                                                                                                                                                                                                                                                                                                                                                                      The car has been sitting in front of my house for two weeks and it looks like it’s abandon the car is beat up, it has 4 flat tires and doesn’t move.   \n",
       "137                                                                                                                                                                                                                  Constant presence of trash and cans at the intersection of N American and W Laurel. This is the eastern entrance to Liberty Lands that the NLNA does not maintain. Blocks intersection, making it dangerous for pedestrians and not passable for wheelchairs and strollers. NLNA/Liberty Lands refuses to address this.   \n",
       "308                                                                                                                                                                                                                                                                                                                                                                                                                                  They are throwing debris in the back and it is dangerous since that is an escape route in case of fire.   \n",
       "438                                                                                                                                                                                                                                                                                                                                                                                                                        Clothes drying on car not healthy very nasty can hang clothesline in yard to dry clothes public housing residents   \n",
       "418                                                                                                                                                                                                                                                             Flashing on side of subsidized senior living facility - Birchwood at Grays Ferry - is detached and is going to fly off from the wind.  \\r\\n\\r\\nNegligent Developer/Owner - Ingerman Senior Communties\\r\\n\\r\\nhttps://livebirchwood.com/communities/birchwood-at-grays-ferry/   \n",
       "112                                                                                                                                                                                    714 Bigler Street, Philadelphia is illegally renting individual rooms out to illegal immigrants.  There has been nothing but fights and cops called to the property repeatedly.  The home owner is ignoring all calls as both homeowners on the side of the property are sick of dealing with the police.  Please have someone investigate this home.   \n",
       "\n",
       "    prediction  \n",
       "134      anger  \n",
       "346      anger  \n",
       "284      anger  \n",
       "421      anger  \n",
       "334      anger  \n",
       "94       anger  \n",
       "24       anger  \n",
       "381      anger  \n",
       "84       anger  \n",
       "166      anger  \n",
       "306      anger  \n",
       "158      anger  \n",
       "213      anger  \n",
       "273      anger  \n",
       "26       anger  \n",
       "137      anger  \n",
       "308      anger  \n",
       "438      anger  \n",
       "418      anger  \n",
       "112      anger  "
      ]
     },
     "execution_count": 87,
     "metadata": {},
     "output_type": "execute_result"
    }
   ],
   "source": [
    "angry_requests.head(20)"
   ]
  },
  {
   "cell_type": "markdown",
   "metadata": {},
   "source": [
    "**Fear**\n",
    "\n",
    "And the most fearful:"
   ]
  },
  {
   "cell_type": "code",
   "execution_count": 88,
   "metadata": {
    "tags": []
   },
   "outputs": [],
   "source": [
    "fearful_requests = emotion.query(\"fear > 0.8\").sort_values(\"fear\", ascending=False)"
   ]
  },
  {
   "cell_type": "code",
   "execution_count": 89,
   "metadata": {
    "tags": []
   },
   "outputs": [
    {
     "data": {
      "text/plain": [
       "72"
      ]
     },
     "execution_count": 89,
     "metadata": {},
     "output_type": "execute_result"
    }
   ],
   "source": [
    "len(fearful_requests)"
   ]
  },
  {
   "cell_type": "code",
   "execution_count": 90,
   "metadata": {
    "tags": []
   },
   "outputs": [
    {
     "data": {
      "text/html": [
       "<div>\n",
       "<style scoped>\n",
       "    .dataframe tbody tr th:only-of-type {\n",
       "        vertical-align: middle;\n",
       "    }\n",
       "\n",
       "    .dataframe tbody tr th {\n",
       "        vertical-align: top;\n",
       "    }\n",
       "\n",
       "    .dataframe thead th {\n",
       "        text-align: right;\n",
       "    }\n",
       "</style>\n",
       "<table border=\"1\" class=\"dataframe\">\n",
       "  <thead>\n",
       "    <tr style=\"text-align: right;\">\n",
       "      <th></th>\n",
       "      <th>fear</th>\n",
       "      <th>anger</th>\n",
       "      <th>sadness</th>\n",
       "      <th>joy</th>\n",
       "      <th>surprise</th>\n",
       "      <th>love</th>\n",
       "      <th>text</th>\n",
       "      <th>prediction</th>\n",
       "    </tr>\n",
       "  </thead>\n",
       "  <tbody>\n",
       "    <tr>\n",
       "      <th>4</th>\n",
       "      <td>0.991878</td>\n",
       "      <td>0.004407</td>\n",
       "      <td>0.002045</td>\n",
       "      <td>0.000935</td>\n",
       "      <td>0.000492</td>\n",
       "      <td>0.000243</td>\n",
       "      <td>I live across the street from the small row home that is inhabited by squatters who have propane tanks all over the living room that I can see as I walk by when they leave their door open. They are drug users so my biggest fear is that they fall asleep or like something on fire and they call an explosion. They also are soliciting sex for drugs out of the home and I have all of this on camera footage not the propane tanks but I can try to get pictures next time The door is open. My biggest fear is I have a teenage daughter and something is going to happen that causes me or my family harm.</td>\n",
       "      <td>fear</td>\n",
       "    </tr>\n",
       "    <tr>\n",
       "      <th>290</th>\n",
       "      <td>0.989706</td>\n",
       "      <td>0.005689</td>\n",
       "      <td>0.001554</td>\n",
       "      <td>0.002028</td>\n",
       "      <td>0.000826</td>\n",
       "      <td>0.000196</td>\n",
       "      <td>RE: A TRIPPING HAZARD!\\r\\n\\r\\nIN THE FRONT OF THE \"SOUTH-SIDE ENTRANCE\" OF THE \"CITY HALL BUILDING,\" THIS DEVICE IS ONE OF THE \"TWO DEVICES\" THAT NEEDS TO BE EXAMINED AND STABILIZED THROUGH THE INCLUSION OF THE \"NEEDED SCREWS!\"\\r\\n\\r\\nIMPORTANT, THE TWO DEVICES (TWINS OR THE SAME TWO DEVICES) ARE, VERILY, TRIPPING HAZARDS TO THE MANY, UNAWARE PEDESTRIANS WHO ENTERS AND EXITS THE \"SOUTH-SIDE ENTRANCE\" OF THE CITY HALL BUILDING!\\r\\n\\r\\nNEVERTHELESS, HERE IS OF THE LOCATION OF \"TWO UNSTABLE DEVICES\" THAT ACTS AS DANGEROUS TRIPPING HAZARDS TO THE UNAWARE PEDESTRIANS:\\r\\n\\r\\nTHE INTERSECTION OF THE \"BROAD STREET\" AND \"SOUTH PENN SQUARE\" AND AT THE \"SOUTH-SIDE ENTRANCE\" OF THE \"CITY HALL BUILDING!\"\\r\\n\\r\\nTHANK YOU!</td>\n",
       "      <td>fear</td>\n",
       "    </tr>\n",
       "    <tr>\n",
       "      <th>2</th>\n",
       "      <td>0.982022</td>\n",
       "      <td>0.011605</td>\n",
       "      <td>0.003893</td>\n",
       "      <td>0.001234</td>\n",
       "      <td>0.001005</td>\n",
       "      <td>0.000241</td>\n",
       "      <td>Signage on the verge of falling on pedestrians</td>\n",
       "      <td>fear</td>\n",
       "    </tr>\n",
       "    <tr>\n",
       "      <th>222</th>\n",
       "      <td>0.977184</td>\n",
       "      <td>0.005688</td>\n",
       "      <td>0.011581</td>\n",
       "      <td>0.003288</td>\n",
       "      <td>0.001900</td>\n",
       "      <td>0.000358</td>\n",
       "      <td>vehicle appears disabled park into the traffic lane</td>\n",
       "      <td>fear</td>\n",
       "    </tr>\n",
       "    <tr>\n",
       "      <th>139</th>\n",
       "      <td>0.975525</td>\n",
       "      <td>0.016687</td>\n",
       "      <td>0.003994</td>\n",
       "      <td>0.001829</td>\n",
       "      <td>0.001695</td>\n",
       "      <td>0.000270</td>\n",
       "      <td>this is blocking half for the roadway. it is on the 2700-2800 S 15th side of the address. it seems to be but automotive debris</td>\n",
       "      <td>fear</td>\n",
       "    </tr>\n",
       "    <tr>\n",
       "      <th>51</th>\n",
       "      <td>0.970517</td>\n",
       "      <td>0.008657</td>\n",
       "      <td>0.017859</td>\n",
       "      <td>0.001462</td>\n",
       "      <td>0.001081</td>\n",
       "      <td>0.000423</td>\n",
       "      <td>stickers are from 8 24 and the car is leaking fluids</td>\n",
       "      <td>fear</td>\n",
       "    </tr>\n",
       "    <tr>\n",
       "      <th>99</th>\n",
       "      <td>0.968525</td>\n",
       "      <td>0.003400</td>\n",
       "      <td>0.021638</td>\n",
       "      <td>0.003013</td>\n",
       "      <td>0.003016</td>\n",
       "      <td>0.000408</td>\n",
       "      <td>WRECKED DAMAGE Mercedes Benz CLA 250 was left by an unmarked TOW truck at 418 AM 7 MARCH 2025</td>\n",
       "      <td>fear</td>\n",
       "    </tr>\n",
       "    <tr>\n",
       "      <th>336</th>\n",
       "      <td>0.964785</td>\n",
       "      <td>0.007167</td>\n",
       "      <td>0.024020</td>\n",
       "      <td>0.002058</td>\n",
       "      <td>0.001604</td>\n",
       "      <td>0.000367</td>\n",
       "      <td>Older Model Cadillac Sedan broken down. All windows are out. Currently covered up with trash bags. Vehicle has body damage as well. Been parked here for about 5 days now. Appears unoperable.</td>\n",
       "      <td>fear</td>\n",
       "    </tr>\n",
       "    <tr>\n",
       "      <th>194</th>\n",
       "      <td>0.963108</td>\n",
       "      <td>0.027566</td>\n",
       "      <td>0.003542</td>\n",
       "      <td>0.003374</td>\n",
       "      <td>0.001815</td>\n",
       "      <td>0.000594</td>\n",
       "      <td>The sinkhole is about ten feet long and six inches deep and is forming in the parking lane in front of the residence.</td>\n",
       "      <td>fear</td>\n",
       "    </tr>\n",
       "    <tr>\n",
       "      <th>54</th>\n",
       "      <td>0.962627</td>\n",
       "      <td>0.026125</td>\n",
       "      <td>0.004515</td>\n",
       "      <td>0.005033</td>\n",
       "      <td>0.001267</td>\n",
       "      <td>0.000433</td>\n",
       "      <td>White Mercedes Benz. Blocking handicapped ramp on sidewalk. Trunk appears open. Has been there for 5 days.</td>\n",
       "      <td>fear</td>\n",
       "    </tr>\n",
       "    <tr>\n",
       "      <th>5</th>\n",
       "      <td>0.962614</td>\n",
       "      <td>0.032127</td>\n",
       "      <td>0.001547</td>\n",
       "      <td>0.002203</td>\n",
       "      <td>0.001172</td>\n",
       "      <td>0.000338</td>\n",
       "      <td>This property has caught fire sometime last June and was sealed up.  Since then an unknown person or persons has taken off the boards and are now trying to live in this property.  Can you please put a rush on boarding up this property</td>\n",
       "      <td>fear</td>\n",
       "    </tr>\n",
       "    <tr>\n",
       "      <th>81</th>\n",
       "      <td>0.960285</td>\n",
       "      <td>0.005189</td>\n",
       "      <td>0.030098</td>\n",
       "      <td>0.001505</td>\n",
       "      <td>0.002506</td>\n",
       "      <td>0.000417</td>\n",
       "      <td>Expired inspection,car hit from behind,missing driver’s door handle</td>\n",
       "      <td>fear</td>\n",
       "    </tr>\n",
       "    <tr>\n",
       "      <th>310</th>\n",
       "      <td>0.958842</td>\n",
       "      <td>0.028020</td>\n",
       "      <td>0.004497</td>\n",
       "      <td>0.005560</td>\n",
       "      <td>0.002333</td>\n",
       "      <td>0.000749</td>\n",
       "      <td>Northeast corner of intersection-stop sign is on ground. Many motorists running through intersection.</td>\n",
       "      <td>fear</td>\n",
       "    </tr>\n",
       "    <tr>\n",
       "      <th>265</th>\n",
       "      <td>0.958492</td>\n",
       "      <td>0.028282</td>\n",
       "      <td>0.007233</td>\n",
       "      <td>0.004680</td>\n",
       "      <td>0.000970</td>\n",
       "      <td>0.000343</td>\n",
       "      <td>Multiple car accident on this street and traffic sign in the island divide keeps getting knock down. The pole/sign has been run into twice while up and while it was down ran over 2 more times so far, the area is too dark and need more lighting or more visible and steady pole/signage. Maybe rumble streets or speed bump. Call me if need more input or questions on the issue</td>\n",
       "      <td>fear</td>\n",
       "    </tr>\n",
       "    <tr>\n",
       "      <th>25</th>\n",
       "      <td>0.954997</td>\n",
       "      <td>0.029162</td>\n",
       "      <td>0.013140</td>\n",
       "      <td>0.001434</td>\n",
       "      <td>0.000961</td>\n",
       "      <td>0.000305</td>\n",
       "      <td>White van illegally parked near a STOP. Cannot see who is coming the other way. Vision is blocked.</td>\n",
       "      <td>fear</td>\n",
       "    </tr>\n",
       "    <tr>\n",
       "      <th>417</th>\n",
       "      <td>0.953195</td>\n",
       "      <td>0.024342</td>\n",
       "      <td>0.008085</td>\n",
       "      <td>0.011639</td>\n",
       "      <td>0.002109</td>\n",
       "      <td>0.000631</td>\n",
       "      <td>Large sinkhole developing on Green Lane near Northlight Center. Have seen water coming out.</td>\n",
       "      <td>fear</td>\n",
       "    </tr>\n",
       "    <tr>\n",
       "      <th>407</th>\n",
       "      <td>0.952839</td>\n",
       "      <td>0.036604</td>\n",
       "      <td>0.006276</td>\n",
       "      <td>0.002778</td>\n",
       "      <td>0.001136</td>\n",
       "      <td>0.000367</td>\n",
       "      <td>A utility pole has been lying on the street for several weeks, obstructing the width of the sidewalk and creating a trip hazard</td>\n",
       "      <td>fear</td>\n",
       "    </tr>\n",
       "    <tr>\n",
       "      <th>131</th>\n",
       "      <td>0.952442</td>\n",
       "      <td>0.023429</td>\n",
       "      <td>0.015413</td>\n",
       "      <td>0.006637</td>\n",
       "      <td>0.001557</td>\n",
       "      <td>0.000523</td>\n",
       "      <td>It has a flat and several parking tickets. It's been in this condition for several weeks.</td>\n",
       "      <td>fear</td>\n",
       "    </tr>\n",
       "    <tr>\n",
       "      <th>315</th>\n",
       "      <td>0.952069</td>\n",
       "      <td>0.028964</td>\n",
       "      <td>0.010509</td>\n",
       "      <td>0.006375</td>\n",
       "      <td>0.001648</td>\n",
       "      <td>0.000434</td>\n",
       "      <td>The car hasn’t moved in 5 days.</td>\n",
       "      <td>fear</td>\n",
       "    </tr>\n",
       "    <tr>\n",
       "      <th>239</th>\n",
       "      <td>0.944550</td>\n",
       "      <td>0.019830</td>\n",
       "      <td>0.030883</td>\n",
       "      <td>0.002670</td>\n",
       "      <td>0.001610</td>\n",
       "      <td>0.000457</td>\n",
       "      <td>Two flat tires inspection inspired 9 of 23 note left in vehicles stating battery is dead. vehicle has been sitting in the same location for a number of weeks now</td>\n",
       "      <td>fear</td>\n",
       "    </tr>\n",
       "  </tbody>\n",
       "</table>\n",
       "</div>"
      ],
      "text/plain": [
       "         fear     anger   sadness       joy  surprise      love  \\\n",
       "4    0.991878  0.004407  0.002045  0.000935  0.000492  0.000243   \n",
       "290  0.989706  0.005689  0.001554  0.002028  0.000826  0.000196   \n",
       "2    0.982022  0.011605  0.003893  0.001234  0.001005  0.000241   \n",
       "222  0.977184  0.005688  0.011581  0.003288  0.001900  0.000358   \n",
       "139  0.975525  0.016687  0.003994  0.001829  0.001695  0.000270   \n",
       "51   0.970517  0.008657  0.017859  0.001462  0.001081  0.000423   \n",
       "99   0.968525  0.003400  0.021638  0.003013  0.003016  0.000408   \n",
       "336  0.964785  0.007167  0.024020  0.002058  0.001604  0.000367   \n",
       "194  0.963108  0.027566  0.003542  0.003374  0.001815  0.000594   \n",
       "54   0.962627  0.026125  0.004515  0.005033  0.001267  0.000433   \n",
       "5    0.962614  0.032127  0.001547  0.002203  0.001172  0.000338   \n",
       "81   0.960285  0.005189  0.030098  0.001505  0.002506  0.000417   \n",
       "310  0.958842  0.028020  0.004497  0.005560  0.002333  0.000749   \n",
       "265  0.958492  0.028282  0.007233  0.004680  0.000970  0.000343   \n",
       "25   0.954997  0.029162  0.013140  0.001434  0.000961  0.000305   \n",
       "417  0.953195  0.024342  0.008085  0.011639  0.002109  0.000631   \n",
       "407  0.952839  0.036604  0.006276  0.002778  0.001136  0.000367   \n",
       "131  0.952442  0.023429  0.015413  0.006637  0.001557  0.000523   \n",
       "315  0.952069  0.028964  0.010509  0.006375  0.001648  0.000434   \n",
       "239  0.944550  0.019830  0.030883  0.002670  0.001610  0.000457   \n",
       "\n",
       "                                                                                                                                                                                                                                                                                                                                                                                                                                                                                                                                                                                                                                                                                                                                                text  \\\n",
       "4                                                                                                                                 I live across the street from the small row home that is inhabited by squatters who have propane tanks all over the living room that I can see as I walk by when they leave their door open. They are drug users so my biggest fear is that they fall asleep or like something on fire and they call an explosion. They also are soliciting sex for drugs out of the home and I have all of this on camera footage not the propane tanks but I can try to get pictures next time The door is open. My biggest fear is I have a teenage daughter and something is going to happen that causes me or my family harm.   \n",
       "290  RE: A TRIPPING HAZARD!\\r\\n\\r\\nIN THE FRONT OF THE \"SOUTH-SIDE ENTRANCE\" OF THE \"CITY HALL BUILDING,\" THIS DEVICE IS ONE OF THE \"TWO DEVICES\" THAT NEEDS TO BE EXAMINED AND STABILIZED THROUGH THE INCLUSION OF THE \"NEEDED SCREWS!\"\\r\\n\\r\\nIMPORTANT, THE TWO DEVICES (TWINS OR THE SAME TWO DEVICES) ARE, VERILY, TRIPPING HAZARDS TO THE MANY, UNAWARE PEDESTRIANS WHO ENTERS AND EXITS THE \"SOUTH-SIDE ENTRANCE\" OF THE CITY HALL BUILDING!\\r\\n\\r\\nNEVERTHELESS, HERE IS OF THE LOCATION OF \"TWO UNSTABLE DEVICES\" THAT ACTS AS DANGEROUS TRIPPING HAZARDS TO THE UNAWARE PEDESTRIANS:\\r\\n\\r\\nTHE INTERSECTION OF THE \"BROAD STREET\" AND \"SOUTH PENN SQUARE\" AND AT THE \"SOUTH-SIDE ENTRANCE\" OF THE \"CITY HALL BUILDING!\"\\r\\n\\r\\nTHANK YOU!   \n",
       "2                                                                                                                                                                                                                                                                                                                                                                                                                                                                                                                                                                                                                                                                                                     Signage on the verge of falling on pedestrians   \n",
       "222                                                                                                                                                                                                                                                                                                                                                                                                                                                                                                                                                                                                                                                                                              vehicle appears disabled park into the traffic lane   \n",
       "139                                                                                                                                                                                                                                                                                                                                                                                                                                                                                                                                                                                                                   this is blocking half for the roadway. it is on the 2700-2800 S 15th side of the address. it seems to be but automotive debris   \n",
       "51                                                                                                                                                                                                                                                                                                                                                                                                                                                                                                                                                                                                                                                                                              stickers are from 8 24 and the car is leaking fluids   \n",
       "99                                                                                                                                                                                                                                                                                                                                                                                                                                                                                                                                                                                                                                                     WRECKED DAMAGE Mercedes Benz CLA 250 was left by an unmarked TOW truck at 418 AM 7 MARCH 2025   \n",
       "336                                                                                                                                                                                                                                                                                                                                                                                                                                                                                                                                                   Older Model Cadillac Sedan broken down. All windows are out. Currently covered up with trash bags. Vehicle has body damage as well. Been parked here for about 5 days now. Appears unoperable.   \n",
       "194                                                                                                                                                                                                                                                                                                                                                                                                                                                                                                                                                                                                                            The sinkhole is about ten feet long and six inches deep and is forming in the parking lane in front of the residence.   \n",
       "54                                                                                                                                                                                                                                                                                                                                                                                                                                                                                                                                                                                                                                        White Mercedes Benz. Blocking handicapped ramp on sidewalk. Trunk appears open. Has been there for 5 days.   \n",
       "5                                                                                                                                                                                                                                                                                                                                                                                                                                                                                                         This property has caught fire sometime last June and was sealed up.  Since then an unknown person or persons has taken off the boards and are now trying to live in this property.  Can you please put a rush on boarding up this property   \n",
       "81                                                                                                                                                                                                                                                                                                                                                                                                                                                                                                                                                                                                                                                                               Expired inspection,car hit from behind,missing driver’s door handle   \n",
       "310                                                                                                                                                                                                                                                                                                                                                                                                                                                                                                                                                                                                                                            Northeast corner of intersection-stop sign is on ground. Many motorists running through intersection.   \n",
       "265                                                                                                                                                                                                                                                                                                                                                            Multiple car accident on this street and traffic sign in the island divide keeps getting knock down. The pole/sign has been run into twice while up and while it was down ran over 2 more times so far, the area is too dark and need more lighting or more visible and steady pole/signage. Maybe rumble streets or speed bump. Call me if need more input or questions on the issue   \n",
       "25                                                                                                                                                                                                                                                                                                                                                                                                                                                                                                                                                                                                                                                White van illegally parked near a STOP. Cannot see who is coming the other way. Vision is blocked.   \n",
       "417                                                                                                                                                                                                                                                                                                                                                                                                                                                                                                                                                                                                                                                      Large sinkhole developing on Green Lane near Northlight Center. Have seen water coming out.   \n",
       "407                                                                                                                                                                                                                                                                                                                                                                                                                                                                                                                                                                                                                  A utility pole has been lying on the street for several weeks, obstructing the width of the sidewalk and creating a trip hazard   \n",
       "131                                                                                                                                                                                                                                                                                                                                                                                                                                                                                                                                                                                                                                                        It has a flat and several parking tickets. It's been in this condition for several weeks.   \n",
       "315                                                                                                                                                                                                                                                                                                                                                                                                                                                                                                                                                                                                                                                                                                                  The car hasn’t moved in 5 days.   \n",
       "239                                                                                                                                                                                                                                                                                                                                                                                                                                                                                                                                                                                Two flat tires inspection inspired 9 of 23 note left in vehicles stating battery is dead. vehicle has been sitting in the same location for a number of weeks now   \n",
       "\n",
       "    prediction  \n",
       "4         fear  \n",
       "290       fear  \n",
       "2         fear  \n",
       "222       fear  \n",
       "139       fear  \n",
       "51        fear  \n",
       "99        fear  \n",
       "336       fear  \n",
       "194       fear  \n",
       "54        fear  \n",
       "5         fear  \n",
       "81        fear  \n",
       "310       fear  \n",
       "265       fear  \n",
       "25        fear  \n",
       "417       fear  \n",
       "407       fear  \n",
       "131       fear  \n",
       "315       fear  \n",
       "239       fear  "
      ]
     },
     "execution_count": 90,
     "metadata": {},
     "output_type": "execute_result"
    }
   ],
   "source": [
    "fearful_requests.head(20)"
   ]
  },
  {
   "cell_type": "markdown",
   "metadata": {},
   "source": [
    "**Takeaway:**\n",
    "\n",
    "Overall, the algorithm is doing a pretty good job picking up the emotion and sentiment in the requests. \n",
    "\n",
    "One potential use case for a model like this: *prioritizing responses*. For example:\n",
    "\n",
    "- You might want to respond more quickly to those that are classified as the most fearful, given that those situations might be the most dangerous. \n",
    "- Or, requests that are classified as the angriest might warrant a closer follow-up from a city representative, since many of these requests are likely repeated requests from frustrated residents."
   ]
  },
  {
   "cell_type": "markdown",
   "metadata": {},
   "source": [
    "But, once again, we see the limitations of sentiment analysis as text with words like \"thank you\" and \"please\" get classified as positive (\"joy\"):"
   ]
  },
  {
   "cell_type": "code",
   "execution_count": 91,
   "metadata": {
    "tags": []
   },
   "outputs": [],
   "source": [
    "joyful_requests = emotion.query(\"joy > 0.8\").sort_values(\"joy\", ascending=False)"
   ]
  },
  {
   "cell_type": "markdown",
   "metadata": {
    "tags": []
   },
   "source": [
    "Not that many requests!"
   ]
  },
  {
   "cell_type": "code",
   "execution_count": 92,
   "metadata": {
    "tags": []
   },
   "outputs": [
    {
     "data": {
      "text/plain": [
       "20"
      ]
     },
     "execution_count": 92,
     "metadata": {},
     "output_type": "execute_result"
    }
   ],
   "source": [
    "len(joyful_requests)"
   ]
  },
  {
   "cell_type": "code",
   "execution_count": 93,
   "metadata": {
    "tags": []
   },
   "outputs": [
    {
     "data": {
      "text/html": [
       "<div>\n",
       "<style scoped>\n",
       "    .dataframe tbody tr th:only-of-type {\n",
       "        vertical-align: middle;\n",
       "    }\n",
       "\n",
       "    .dataframe tbody tr th {\n",
       "        vertical-align: top;\n",
       "    }\n",
       "\n",
       "    .dataframe thead th {\n",
       "        text-align: right;\n",
       "    }\n",
       "</style>\n",
       "<table border=\"1\" class=\"dataframe\">\n",
       "  <thead>\n",
       "    <tr style=\"text-align: right;\">\n",
       "      <th></th>\n",
       "      <th>fear</th>\n",
       "      <th>anger</th>\n",
       "      <th>sadness</th>\n",
       "      <th>joy</th>\n",
       "      <th>surprise</th>\n",
       "      <th>love</th>\n",
       "      <th>text</th>\n",
       "      <th>prediction</th>\n",
       "    </tr>\n",
       "  </thead>\n",
       "  <tbody>\n",
       "    <tr>\n",
       "      <th>352</th>\n",
       "      <td>0.000289</td>\n",
       "      <td>0.000148</td>\n",
       "      <td>0.000248</td>\n",
       "      <td>0.998845</td>\n",
       "      <td>0.000165</td>\n",
       "      <td>0.000305</td>\n",
       "      <td>Street light been out for the 2 pass month now making it a concern for pedestrians walking at night to feel safe.</td>\n",
       "      <td>joy</td>\n",
       "    </tr>\n",
       "    <tr>\n",
       "      <th>449</th>\n",
       "      <td>0.000316</td>\n",
       "      <td>0.000174</td>\n",
       "      <td>0.000263</td>\n",
       "      <td>0.998784</td>\n",
       "      <td>0.000181</td>\n",
       "      <td>0.000282</td>\n",
       "      <td>The city needs to have the mayor coMe to see 7 trucks in this lot and nowhere to park people hide with the missing children people should feel safe. Tax Money and police need to be present.start ticketing but after all the crime theY need to be moved.Water department can't finish because of the blocking and activity</td>\n",
       "      <td>joy</td>\n",
       "    </tr>\n",
       "    <tr>\n",
       "      <th>276</th>\n",
       "      <td>0.000094</td>\n",
       "      <td>0.000178</td>\n",
       "      <td>0.000297</td>\n",
       "      <td>0.997809</td>\n",
       "      <td>0.000137</td>\n",
       "      <td>0.001485</td>\n",
       "      <td>The street light turns on and off all night, and the strength of the light dims and brightens as well. Would appreciate a fix, thank you!</td>\n",
       "      <td>joy</td>\n",
       "    </tr>\n",
       "    <tr>\n",
       "      <th>70</th>\n",
       "      <td>0.000986</td>\n",
       "      <td>0.001315</td>\n",
       "      <td>0.000836</td>\n",
       "      <td>0.995737</td>\n",
       "      <td>0.000241</td>\n",
       "      <td>0.000884</td>\n",
       "      <td>Stop signs are needed at this intersection. To ESTABLISH THE RIGHT OF WAY. At the current time there is nothing  to help drivers and pedestrians at an intersection decide who has the right-of-way. \"Safety Issue \"A stop sign is a traffic sign designed to notify drivers that they must come to a complete stop and make sure the intersection is safely clear of vehicles and pedestrians before continuing past the sign. There is a church and school at this location please help. thank you.</td>\n",
       "      <td>joy</td>\n",
       "    </tr>\n",
       "    <tr>\n",
       "      <th>250</th>\n",
       "      <td>0.000496</td>\n",
       "      <td>0.002613</td>\n",
       "      <td>0.001341</td>\n",
       "      <td>0.989387</td>\n",
       "      <td>0.000471</td>\n",
       "      <td>0.005691</td>\n",
       "      <td>Graffiti on pole. Please and thank you!</td>\n",
       "      <td>joy</td>\n",
       "    </tr>\n",
       "    <tr>\n",
       "      <th>252</th>\n",
       "      <td>0.000496</td>\n",
       "      <td>0.002613</td>\n",
       "      <td>0.001341</td>\n",
       "      <td>0.989387</td>\n",
       "      <td>0.000471</td>\n",
       "      <td>0.005691</td>\n",
       "      <td>Graffiti on pole. Please and thank you!</td>\n",
       "      <td>joy</td>\n",
       "    </tr>\n",
       "    <tr>\n",
       "      <th>246</th>\n",
       "      <td>0.000496</td>\n",
       "      <td>0.002613</td>\n",
       "      <td>0.001341</td>\n",
       "      <td>0.989387</td>\n",
       "      <td>0.000471</td>\n",
       "      <td>0.005691</td>\n",
       "      <td>Graffiti on pole. Please and thank you!</td>\n",
       "      <td>joy</td>\n",
       "    </tr>\n",
       "    <tr>\n",
       "      <th>253</th>\n",
       "      <td>0.000729</td>\n",
       "      <td>0.003696</td>\n",
       "      <td>0.001794</td>\n",
       "      <td>0.988631</td>\n",
       "      <td>0.000529</td>\n",
       "      <td>0.004622</td>\n",
       "      <td>Graffiti on sign. Please and thank you!</td>\n",
       "      <td>joy</td>\n",
       "    </tr>\n",
       "    <tr>\n",
       "      <th>241</th>\n",
       "      <td>0.000729</td>\n",
       "      <td>0.003696</td>\n",
       "      <td>0.001794</td>\n",
       "      <td>0.988631</td>\n",
       "      <td>0.000529</td>\n",
       "      <td>0.004622</td>\n",
       "      <td>Graffiti on sign. Please and thank you!</td>\n",
       "      <td>joy</td>\n",
       "    </tr>\n",
       "    <tr>\n",
       "      <th>404</th>\n",
       "      <td>0.000380</td>\n",
       "      <td>0.002572</td>\n",
       "      <td>0.001490</td>\n",
       "      <td>0.986838</td>\n",
       "      <td>0.000328</td>\n",
       "      <td>0.008391</td>\n",
       "      <td>There's a tag in black spray paint on the E. Juniata Street (2600 block) side of 4204 E. Thompson ... It's by the NE corner of Almond and Juniata.\\r\\nThanks.</td>\n",
       "      <td>joy</td>\n",
       "    </tr>\n",
       "    <tr>\n",
       "      <th>260</th>\n",
       "      <td>0.001029</td>\n",
       "      <td>0.005646</td>\n",
       "      <td>0.002130</td>\n",
       "      <td>0.985643</td>\n",
       "      <td>0.000619</td>\n",
       "      <td>0.004932</td>\n",
       "      <td>Graffiti on parking sign pole. Please and thank you!</td>\n",
       "      <td>joy</td>\n",
       "    </tr>\n",
       "    <tr>\n",
       "      <th>98</th>\n",
       "      <td>0.001029</td>\n",
       "      <td>0.005646</td>\n",
       "      <td>0.002130</td>\n",
       "      <td>0.985643</td>\n",
       "      <td>0.000619</td>\n",
       "      <td>0.004932</td>\n",
       "      <td>Graffiti on parking sign pole. Please and thank you!</td>\n",
       "      <td>joy</td>\n",
       "    </tr>\n",
       "    <tr>\n",
       "      <th>71</th>\n",
       "      <td>0.001029</td>\n",
       "      <td>0.005646</td>\n",
       "      <td>0.002130</td>\n",
       "      <td>0.985643</td>\n",
       "      <td>0.000619</td>\n",
       "      <td>0.004932</td>\n",
       "      <td>Graffiti on parking sign pole. Please and thank you!</td>\n",
       "      <td>joy</td>\n",
       "    </tr>\n",
       "    <tr>\n",
       "      <th>248</th>\n",
       "      <td>0.001122</td>\n",
       "      <td>0.007304</td>\n",
       "      <td>0.002701</td>\n",
       "      <td>0.981977</td>\n",
       "      <td>0.000699</td>\n",
       "      <td>0.006197</td>\n",
       "      <td>Graffiti on control box. Please and thank you!</td>\n",
       "      <td>joy</td>\n",
       "    </tr>\n",
       "    <tr>\n",
       "      <th>254</th>\n",
       "      <td>0.001122</td>\n",
       "      <td>0.007304</td>\n",
       "      <td>0.002701</td>\n",
       "      <td>0.981977</td>\n",
       "      <td>0.000699</td>\n",
       "      <td>0.006197</td>\n",
       "      <td>Graffiti on control box. Please and thank you!</td>\n",
       "      <td>joy</td>\n",
       "    </tr>\n",
       "    <tr>\n",
       "      <th>40</th>\n",
       "      <td>0.009750</td>\n",
       "      <td>0.046768</td>\n",
       "      <td>0.006436</td>\n",
       "      <td>0.933194</td>\n",
       "      <td>0.001199</td>\n",
       "      <td>0.002652</td>\n",
       "      <td>there are active tenants and no rental license.</td>\n",
       "      <td>joy</td>\n",
       "    </tr>\n",
       "    <tr>\n",
       "      <th>292</th>\n",
       "      <td>0.062591</td>\n",
       "      <td>0.011411</td>\n",
       "      <td>0.017751</td>\n",
       "      <td>0.904143</td>\n",
       "      <td>0.001639</td>\n",
       "      <td>0.002465</td>\n",
       "      <td>corner store no dumpster every week they put out the trash it gets all over the neighborhood piles of trash all over the street and the corner this is a business they shall have a dumpster to collect the trash I believe they need two of them with all the trash best flooring through the neighborhood even though so I'm dreaming on the corner</td>\n",
       "      <td>joy</td>\n",
       "    </tr>\n",
       "    <tr>\n",
       "      <th>385</th>\n",
       "      <td>0.028773</td>\n",
       "      <td>0.063197</td>\n",
       "      <td>0.024918</td>\n",
       "      <td>0.865608</td>\n",
       "      <td>0.005900</td>\n",
       "      <td>0.011604</td>\n",
       "      <td>please see picture</td>\n",
       "      <td>joy</td>\n",
       "    </tr>\n",
       "    <tr>\n",
       "      <th>199</th>\n",
       "      <td>0.008847</td>\n",
       "      <td>0.117338</td>\n",
       "      <td>0.028098</td>\n",
       "      <td>0.841912</td>\n",
       "      <td>0.001248</td>\n",
       "      <td>0.002556</td>\n",
       "      <td>RE: A \"STOP SIGN FACING IN THE WRONG DIRECTION!\"\\r\\n\\r\\nAT THE \"NORTH-WEST CORNER\" OF THE INTERSECTION OF THE \"RACE STREET AND 64TH STREET,\" THERE IS A \"STOP SIGN\" THAT NEEDS TO BE \"REPOSITIONED\" AS IT IS FACING IN THE \"WRONG DIRECTION!\"\\r\\n\\r\\nIMPORTANT, THIS MATTER IS VITAL AND NEEDS TO BE \"FIXED,\" ASAP!\\r\\n\\r\\nTHANK YOU!</td>\n",
       "      <td>joy</td>\n",
       "    </tr>\n",
       "    <tr>\n",
       "      <th>255</th>\n",
       "      <td>0.006866</td>\n",
       "      <td>0.082351</td>\n",
       "      <td>0.081242</td>\n",
       "      <td>0.824580</td>\n",
       "      <td>0.001603</td>\n",
       "      <td>0.003358</td>\n",
       "      <td>4 chairs and a rusted bucket. The keep dumping at this site. We work really hard to keep the neighborhood clean. Can there please be cameras installed?</td>\n",
       "      <td>joy</td>\n",
       "    </tr>\n",
       "  </tbody>\n",
       "</table>\n",
       "</div>"
      ],
      "text/plain": [
       "         fear     anger   sadness       joy  surprise      love  \\\n",
       "352  0.000289  0.000148  0.000248  0.998845  0.000165  0.000305   \n",
       "449  0.000316  0.000174  0.000263  0.998784  0.000181  0.000282   \n",
       "276  0.000094  0.000178  0.000297  0.997809  0.000137  0.001485   \n",
       "70   0.000986  0.001315  0.000836  0.995737  0.000241  0.000884   \n",
       "250  0.000496  0.002613  0.001341  0.989387  0.000471  0.005691   \n",
       "252  0.000496  0.002613  0.001341  0.989387  0.000471  0.005691   \n",
       "246  0.000496  0.002613  0.001341  0.989387  0.000471  0.005691   \n",
       "253  0.000729  0.003696  0.001794  0.988631  0.000529  0.004622   \n",
       "241  0.000729  0.003696  0.001794  0.988631  0.000529  0.004622   \n",
       "404  0.000380  0.002572  0.001490  0.986838  0.000328  0.008391   \n",
       "260  0.001029  0.005646  0.002130  0.985643  0.000619  0.004932   \n",
       "98   0.001029  0.005646  0.002130  0.985643  0.000619  0.004932   \n",
       "71   0.001029  0.005646  0.002130  0.985643  0.000619  0.004932   \n",
       "248  0.001122  0.007304  0.002701  0.981977  0.000699  0.006197   \n",
       "254  0.001122  0.007304  0.002701  0.981977  0.000699  0.006197   \n",
       "40   0.009750  0.046768  0.006436  0.933194  0.001199  0.002652   \n",
       "292  0.062591  0.011411  0.017751  0.904143  0.001639  0.002465   \n",
       "385  0.028773  0.063197  0.024918  0.865608  0.005900  0.011604   \n",
       "199  0.008847  0.117338  0.028098  0.841912  0.001248  0.002556   \n",
       "255  0.006866  0.082351  0.081242  0.824580  0.001603  0.003358   \n",
       "\n",
       "                                                                                                                                                                                                                                                                                                                                                                                                                                                                                                      text  \\\n",
       "352                                                                                                                                                                                                                                                                                                                                                                                      Street light been out for the 2 pass month now making it a concern for pedestrians walking at night to feel safe.   \n",
       "449                                                                                                                                                                          The city needs to have the mayor coMe to see 7 trucks in this lot and nowhere to park people hide with the missing children people should feel safe. Tax Money and police need to be present.start ticketing but after all the crime theY need to be moved.Water department can't finish because of the blocking and activity   \n",
       "276                                                                                                                                                                                                                                                                                                                                                              The street light turns on and off all night, and the strength of the light dims and brightens as well. Would appreciate a fix, thank you!   \n",
       "70   Stop signs are needed at this intersection. To ESTABLISH THE RIGHT OF WAY. At the current time there is nothing  to help drivers and pedestrians at an intersection decide who has the right-of-way. \"Safety Issue \"A stop sign is a traffic sign designed to notify drivers that they must come to a complete stop and make sure the intersection is safely clear of vehicles and pedestrians before continuing past the sign. There is a church and school at this location please help. thank you.   \n",
       "250                                                                                                                                                                                                                                                                                                                                                                                                                                                                Graffiti on pole. Please and thank you!   \n",
       "252                                                                                                                                                                                                                                                                                                                                                                                                                                                                Graffiti on pole. Please and thank you!   \n",
       "246                                                                                                                                                                                                                                                                                                                                                                                                                                                                Graffiti on pole. Please and thank you!   \n",
       "253                                                                                                                                                                                                                                                                                                                                                                                                                                                                Graffiti on sign. Please and thank you!   \n",
       "241                                                                                                                                                                                                                                                                                                                                                                                                                                                                Graffiti on sign. Please and thank you!   \n",
       "404                                                                                                                                                                                                                                                                                                                                          There's a tag in black spray paint on the E. Juniata Street (2600 block) side of 4204 E. Thompson ... It's by the NE corner of Almond and Juniata.\\r\\nThanks.   \n",
       "260                                                                                                                                                                                                                                                                                                                                                                                                                                                   Graffiti on parking sign pole. Please and thank you!   \n",
       "98                                                                                                                                                                                                                                                                                                                                                                                                                                                    Graffiti on parking sign pole. Please and thank you!   \n",
       "71                                                                                                                                                                                                                                                                                                                                                                                                                                                    Graffiti on parking sign pole. Please and thank you!   \n",
       "248                                                                                                                                                                                                                                                                                                                                                                                                                                                         Graffiti on control box. Please and thank you!   \n",
       "254                                                                                                                                                                                                                                                                                                                                                                                                                                                         Graffiti on control box. Please and thank you!   \n",
       "40                                                                                                                                                                                                                                                                                                                                                                                                                                                         there are active tenants and no rental license.   \n",
       "292                                                                                                                                                  corner store no dumpster every week they put out the trash it gets all over the neighborhood piles of trash all over the street and the corner this is a business they shall have a dumpster to collect the trash I believe they need two of them with all the trash best flooring through the neighborhood even though so I'm dreaming on the corner   \n",
       "385                                                                                                                                                                                                                                                                                                                                                                                                                                                                                     please see picture   \n",
       "199                                                                                                                                                                  RE: A \"STOP SIGN FACING IN THE WRONG DIRECTION!\"\\r\\n\\r\\nAT THE \"NORTH-WEST CORNER\" OF THE INTERSECTION OF THE \"RACE STREET AND 64TH STREET,\" THERE IS A \"STOP SIGN\" THAT NEEDS TO BE \"REPOSITIONED\" AS IT IS FACING IN THE \"WRONG DIRECTION!\"\\r\\n\\r\\nIMPORTANT, THIS MATTER IS VITAL AND NEEDS TO BE \"FIXED,\" ASAP!\\r\\n\\r\\nTHANK YOU!   \n",
       "255                                                                                                                                                                                                                                                                                                                                                4 chairs and a rusted bucket. The keep dumping at this site. We work really hard to keep the neighborhood clean. Can there please be cameras installed?   \n",
       "\n",
       "    prediction  \n",
       "352        joy  \n",
       "449        joy  \n",
       "276        joy  \n",
       "70         joy  \n",
       "250        joy  \n",
       "252        joy  \n",
       "246        joy  \n",
       "253        joy  \n",
       "241        joy  \n",
       "404        joy  \n",
       "260        joy  \n",
       "98         joy  \n",
       "71         joy  \n",
       "248        joy  \n",
       "254        joy  \n",
       "40         joy  \n",
       "292        joy  \n",
       "385        joy  \n",
       "199        joy  \n",
       "255        joy  "
      ]
     },
     "execution_count": 93,
     "metadata": {},
     "output_type": "execute_result"
    }
   ],
   "source": [
    "joyful_requests.head(20)"
   ]
  },
  {
   "cell_type": "markdown",
   "metadata": {},
   "source": [
    "*Sentiment analysis* -- a helpful, but imperfect analysis tool!"
   ]
  },
  {
   "cell_type": "markdown",
   "metadata": {
    "slideshow": {
     "slide_type": "slide"
    }
   },
   "source": [
    "## That's it!"
   ]
  }
 ],
 "metadata": {
  "celltoolbar": "Slideshow",
  "kernelspec": {
   "display_name": "Python 3 (ipykernel)",
   "language": "python",
   "name": "python3"
  },
  "language_info": {
   "codemirror_mode": {
    "name": "ipython",
    "version": 3
   },
   "file_extension": ".py",
   "mimetype": "text/x-python",
   "name": "python",
   "nbconvert_exporter": "python",
   "pygments_lexer": "ipython3",
   "version": "3.10.12"
  }
 },
 "nbformat": 4,
 "nbformat_minor": 4
}
