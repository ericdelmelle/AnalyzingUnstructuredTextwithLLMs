{
 "cells": [
  {
   "cell_type": "markdown",
   "id": "17a2f0c7-cb4d-4e6f-84c6-868bba3b8455",
   "metadata": {},
   "source": [
    "# Load Data"
   ]
  },
  {
   "cell_type": "code",
   "execution_count": 2,
   "id": "d5e42595-dbaa-407e-8924-1aab227e8120",
   "metadata": {
    "tags": []
   },
   "outputs": [],
   "source": [
    "import googlemaps as gmaps\n",
    "\n",
    "#!pip install pandas\n",
    "import pandas as pd\n",
    "\n",
    "#!pip install geopandas\n",
    "import geopandas as gpd\n",
    "\n",
    "#!pip install seaborn\n",
    "import seaborn as sns\n",
    "\n",
    "#!pip install matplotlib\n",
    "from matplotlib import pyplot as plt\n",
    "\n",
    "\n",
    "import requests"
   ]
  },
  {
   "cell_type": "code",
   "execution_count": 6,
   "id": "b664fddf-506e-47c1-b68c-471b88cf9bd7",
   "metadata": {
    "tags": []
   },
   "outputs": [],
   "source": [
    "park_ppr = gpd.read_file('PPR_Properties.geojson')\n",
    "\n",
    "google_reviews_df = pd.read_csv('park_google_reviews.csv')"
   ]
  },
  {
   "cell_type": "code",
   "execution_count": 8,
   "id": "ecd2e994-b234-4765-8fd0-46575b944939",
   "metadata": {
    "tags": []
   },
   "outputs": [],
   "source": [
    "## Join review data into park info by name\n",
    "\n",
    "reviews_df = park_ppr.merge(google_reviews_df, left_on='PUBLIC_NAME', right_on='park_name', how='left')\n",
    "\n",
    "reviews_df.head()\n",
    "\n",
    "reviews_df.to_csv('sample_reviews.csv', index=False)"
   ]
  },
  {
   "cell_type": "markdown",
   "id": "a1652373-c38f-4118-aa84-a6ea9c61c772",
   "metadata": {},
   "source": [
    "# Review Map"
   ]
  },
  {
   "cell_type": "code",
   "execution_count": null,
   "id": "2f4639b7-5226-46f8-b933-d7541388bd5f",
   "metadata": {},
   "outputs": [],
   "source": [
    "## Map\n",
    "\n"
   ]
  },
  {
   "cell_type": "code",
   "execution_count": null,
   "id": "482a0bc6-7558-4989-9fae-6bd65181cd38",
   "metadata": {},
   "outputs": [],
   "source": [
    "## Table\n",
    "\n",
    "if 'review_count' not in reviews_df.columns:\n",
    "    reviews_df['review_count'] = reviews_df.groupby('park_name')['rating'].transform('count')\n",
    "\n",
    "classification_stats = reviews_df.groupby('PROPERTY_CLASSIFICATION').agg(\n",
    "    Reviews_Counts=pd.NamedAgg(column='review_count', aggfunc='sum'),\n",
    "    Parks_With_Reviews=pd.NamedAgg(column='review_count', aggfunc=lambda x: (x > 0).sum()),\n",
    "    Total_Parks=pd.NamedAgg(column='PROPERTY_CLASSIFICATION', aggfunc='count')\n",
    ").reset_index()\n",
    "\n",
    "classification_stats['Percentage_of_Parks_With_Reviews'] = (classification_stats['Parks_With_Reviews'] / classification_stats['Total_Parks']) * 100\n",
    "\n",
    "total_reviews = classification_stats['Reviews_Counts'].sum()\n",
    "\n",
    "classification_stats['Percentage_of_Total_Reviews'] = (classification_stats['Reviews_Counts'] / total_reviews) * 100\n",
    "\n",
    "classification_stats.columns = [' '.join(col.replace('_', ' ').title().split()) for col in classification_stats.columns]\n",
    "\n",
    "classification_stats['Property Classification'] = classification_stats['Property Classification'].str.replace('_', ' ').str.title()\n",
    "\n",
    "cols = ['Property Classification', 'Reviews Counts', 'Percentage Of Total Reviews', 'Parks With Reviews', 'Total Parks', 'Percentage Of Parks With Reviews']\n",
    "classification_stats = classification_stats[cols]\n",
    "\n",
    "html_table = classification_stats.to_html(index=False, classes='table table-striped table-hover', border=0)\n",
    "\n",
    "print(classification_stats)"
   ]
  },
  {
   "cell_type": "code",
   "execution_count": null,
   "id": "f7746f16-3d56-4b9b-a708-aae2c494721e",
   "metadata": {},
   "outputs": [],
   "source": [
    "# Convert the DataFrame to HTML and add basic styling\n",
    "html_table = classification_stats.to_html(index=False, classes='table table-striped table-hover', border=0)\n",
    "\n",
    "# Additional styles to be applied to the HTML table\n",
    "styles = \"\"\"\n",
    "<style type=\\\"text/css\\\">\n",
    ".table {\n",
    "    font-family: Arial, sans-serif;\n",
    "    border-collapse: collapse;\n",
    "    width: 60%;\n",
    "    margin-left: auto;\n",
    "    margin-right: auto;\n",
    "}\n",
    ".table th {\n",
    "    background-color: #f2f2f2;\n",
    "    text-align: left;\n",
    "    padding: 8px;\n",
    "    border: 1px solid #ddd;\n",
    "}\n",
    ".table td {\n",
    "    padding: 8px;\n",
    "    border: 1px solid #ddd;\n",
    "}\n",
    ".table tr:hover {\n",
    "    background-color: #f5f5f5;\n",
    "}\n",
    ".table th:first-child, .table td:first-child {\n",
    "    border-left: none;\n",
    "}\n",
    ".table th:last-child, .table td:last-child {\n",
    "    border-right: none;\n",
    "}\n",
    "</style>\n",
    "\"\"\"\n",
    "\n",
    "# Combine the styles with the HTML table\n",
    "styled_html_table = styles + html_table\n",
    "\n",
    "# Now `styled_html_table` contains your table with styling, ready to be displayed in an HTML document or Jupyter notebook\n",
    "# If you are using a Jupyter notebook, you can display it directly with:\n",
    "from IPython.display import display, HTML\n",
    "display(HTML(styled_html_table))\n",
    "\n",
    "# If you need to write this to an HTML file, you can do so with:\n",
    "with open('styled_table.html', 'w') as f:\n",
    "    f.write(styled_html_table)"
   ]
  }
 ],
 "metadata": {
  "kernelspec": {
   "display_name": "Python 3 (ipykernel)",
   "language": "python",
   "name": "python3"
  },
  "language_info": {
   "codemirror_mode": {
    "name": "ipython",
    "version": 3
   },
   "file_extension": ".py",
   "mimetype": "text/x-python",
   "name": "python",
   "nbconvert_exporter": "python",
   "pygments_lexer": "ipython3",
   "version": "3.10.12"
  }
 },
 "nbformat": 4,
 "nbformat_minor": 5
}
