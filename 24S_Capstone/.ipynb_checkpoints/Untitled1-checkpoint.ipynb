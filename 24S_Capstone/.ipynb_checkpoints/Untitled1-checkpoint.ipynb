{
 "cells": [
  {
   "cell_type": "markdown",
   "id": "856fdc9c-8afe-4e2b-98b3-88aaaf348f71",
   "metadata": {},
   "source": [
    "# Excersice 0905"
   ]
  },
  {
   "cell_type": "code",
   "execution_count": 7,
   "id": "f8a914ec-2587-4b5e-a5b0-e82a8ef895c6",
   "metadata": {
    "tags": []
   },
   "outputs": [
    {
     "name": "stdout",
     "output_type": "stream",
     "text": [
      "There are 12 Traffic Lights while the 5 mile Buffer\n"
     ]
    }
   ],
   "source": [
    "numberTrafficlights = 12\n",
    "bufferDist = 5 \n",
    "\n",
    "#Desire Output: 'There are 12 Traffic Lights while the 5 mile Buffer'\n",
    "\n",
    "print('There are', numberTrafficlights, 'Traffic Lights while the', bufferDist, 'mile Buffer')\n"
   ]
  },
  {
   "cell_type": "code",
   "execution_count": 2,
   "id": "9d1ae848-a6a4-4dee-b81c-b2db41f95012",
   "metadata": {
    "tags": []
   },
   "outputs": [
    {
     "name": "stdout",
     "output_type": "stream",
     "text": [
      "EricJohn\n"
     ]
    }
   ],
   "source": [
    "a = 'Eric'\n",
    "b = 'John'\n",
    "\n",
    "print(a+b)\n"
   ]
  },
  {
   "cell_type": "code",
   "execution_count": 4,
   "id": "5425033d-558a-45cc-9a5b-eaf4af05fd60",
   "metadata": {
    "tags": []
   },
   "outputs": [
    {
     "name": "stdout",
     "output_type": "stream",
     "text": [
      "Eric8\n"
     ]
    }
   ],
   "source": [
    "a = 'Eric'\n",
    "b = '8'\n",
    "\n",
    "print(a+b)\n"
   ]
  },
  {
   "cell_type": "code",
   "execution_count": 8,
   "id": "39f7d620-e729-4155-8e11-734308117b86",
   "metadata": {
    "tags": []
   },
   "outputs": [],
   "source": [
    "a = [1,3,7,6,5,13,52]\n",
    "b = []\n"
   ]
  },
  {
   "cell_type": "code",
   "execution_count": 15,
   "id": "f9336de2-82fa-4cad-a097-fee8eb9fbfe9",
   "metadata": {
    "tags": []
   },
   "outputs": [
    {
     "name": "stdout",
     "output_type": "stream",
     "text": [
      "1\n",
      "3\n"
     ]
    }
   ],
   "source": [
    "for i in a:\n",
    "    if i<5:\n",
    "        print(i)"
   ]
  },
  {
   "cell_type": "code",
   "execution_count": 18,
   "id": "933298af-e192-4b19-a911-603088e8ea42",
   "metadata": {
    "tags": []
   },
   "outputs": [],
   "source": [
    "def Average(lst):\n",
    "    return sum(lst) / len(lst)\n",
    "lst = a\n",
    "averageA = Average(lst)"
   ]
  },
  {
   "cell_type": "code",
   "execution_count": 19,
   "id": "3d7ea4d9-3a0f-4459-80c2-b043db9fa5b0",
   "metadata": {
    "tags": []
   },
   "outputs": [
    {
     "name": "stdout",
     "output_type": "stream",
     "text": [
      "12.43\n"
     ]
    }
   ],
   "source": [
    "print(round(averageA,2)) "
   ]
  }
 ],
 "metadata": {
  "kernelspec": {
   "display_name": "Python 3 (ipykernel)",
   "language": "python",
   "name": "python3"
  },
  "language_info": {
   "codemirror_mode": {
    "name": "ipython",
    "version": 3
   },
   "file_extension": ".py",
   "mimetype": "text/x-python",
   "name": "python",
   "nbconvert_exporter": "python",
   "pygments_lexer": "ipython3",
   "version": "3.10.12"
  }
 },
 "nbformat": 4,
 "nbformat_minor": 5
}
