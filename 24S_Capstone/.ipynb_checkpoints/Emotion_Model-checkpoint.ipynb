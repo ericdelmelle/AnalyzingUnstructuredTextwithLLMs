{
 "cells": [
  {
   "cell_type": "code",
   "execution_count": null,
   "id": "cc343957-e9d8-4b43-95a0-0a11e55703c8",
   "metadata": {},
   "outputs": [],
   "source": [
    "import pandas as pd\n",
    "\n",
    "reviews_df = pd.read_csv('output_files/review_w_sentiment.csv')"
   ]
  },
  {
   "cell_type": "code",
   "execution_count": null,
   "id": "1c19d8b8-6dd1-46b5-ad50-4daf7926ab49",
   "metadata": {},
   "outputs": [],
   "source": [
    "len(reviews_df)"
   ]
  },
  {
   "cell_type": "code",
   "execution_count": null,
   "id": "62354887-5fe2-4f87-967f-b56c439b7508",
   "metadata": {},
   "outputs": [],
   "source": [
    "reviews_df_one = reviews_df[0:3799]\n",
    "reviews_df_two = reviews_df[3800:7599]\n",
    "reviews_df_three = reviews_df[7600:11399]\n",
    "reviews_df_four = reviews_df[11400:15199]\n",
    "reviews_df_five = reviews_df[15200:18999]\n",
    "reviews_df_six = reviews_df[19000:22799]\n",
    "reviews_df_seven = reviews_df[22800:26599]\n",
    "reviews_df_eight = reviews_df[26600:30399]\n",
    "reviews_df_nine = reviews_df[30400:34199]\n",
    "reviews_df_ten = reviews_df[34200:37215]"
   ]
  },
  {
   "cell_type": "code",
   "execution_count": null,
   "id": "b0be003b-86b9-4c2e-9dee-a8272d34e8f2",
   "metadata": {},
   "outputs": [],
   "source": []
  }
 ],
 "metadata": {
  "kernelspec": {
   "display_name": "Python 3 (ipykernel)",
   "language": "python",
   "name": "python3"
  },
  "language_info": {
   "codemirror_mode": {
    "name": "ipython",
    "version": 3
   },
   "file_extension": ".py",
   "mimetype": "text/x-python",
   "name": "python",
   "nbconvert_exporter": "python",
   "pygments_lexer": "ipython3",
   "version": "3.10.12"
  }
 },
 "nbformat": 4,
 "nbformat_minor": 5
}
